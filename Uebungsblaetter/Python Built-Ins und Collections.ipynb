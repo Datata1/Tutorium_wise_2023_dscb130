{
 "cells": [
  {
   "attachments": {},
   "cell_type": "markdown",
   "metadata": {},
   "source": [
    "# Python Built-In Functions"
   ]
  },
  {
   "attachments": {},
   "cell_type": "markdown",
   "metadata": {},
   "source": [
    "| Function | Description\n",
    "|---|-\n",
    "| abs() | Returns the absolute value of a number\n",
    "| all() | Returns True if all items in an iterable object are true\n",
    "| any() | Returns True if any item in an iterable object is true\n",
    "| ascii() | Returns a readable version of an object. Replaces none-ascii characters with escape character\n",
    "| bin() | Returns the binary version of a number\n",
    "| bool() | Returns the boolean value of the specified object\n",
    "| bytearray() | Returns an array of bytes\n",
    "| bytes() | Returns a bytes object\n",
    "| callable() | Returns True if the specified object is callable, otherwise False\n",
    "| chr() | Returns a character from the specified Unicode code.\n",
    "| classmethod() | Converts a method into a class method\n",
    "| compile() | Returns the specified source as an object, ready to be executed\n",
    "| complex() | Returns a complex number\n",
    "| delattr() | Deletes the specified attribute (property or method) from the specified object\n",
    "| dict() | Returns a dictionary (Array)\n",
    "| dir() | Returns a list of the specified object's properties and methods\n",
    "| divmod() | Returns the quotient and the remainder when argument1 is divided by argument2\n",
    "| enumerate() | Takes a collection (e.g. a tuple) and returns it as an enumerate object\n",
    "| eval() | Evaluates and executes an expression\n",
    "| exec() | Executes the specified code (or object)\n",
    "| filter() | Use a filter function to exclude items in an iterable object\n",
    "| float() | Returns a floating point number\n",
    "| format() | Formats a specified value\n",
    "| frozenset() | Returns a frozenset object\n",
    "| getattr() | Returns the value of the specified attribute (property or method)\n",
    "| globals() | Returns the current global symbol table as a dictionary\n",
    "| hasattr() | Returns True if the specified object has the specified attribute (property/method)\n",
    "| hash() | Returns the hash value of a specified object\n",
    "| help() | Executes the built-in help system\n",
    "| hex() | Converts a number into a hexadecimal value\n",
    "| id() | Returns the id of an object\n",
    "| input() | Allowing user input\n",
    "| int() | Returns an integer number\n",
    "| isinstance() | Returns True if a specified object is an instance of a specified object\n",
    "| issubclass() | Returns True if a specified class is a subclass of a specified object\n",
    "| iter() | Returns an iterator object\n",
    "| len() | Returns the length of an object\n",
    "| list() | Returns a list\n",
    "| locals() | Returns an updated dictionary of the current local symbol table\n",
    "| map() | Returns the specified iterator with the specified function applied to each item\n",
    "| max() | Returns the largest item in an iterable\n",
    "| memoryview() | Returns a memory view object\n",
    "| min() | Returns the smallest item in an iterable\n",
    "| next() | Returns the next item in an iterable\n",
    "| object() | Returns a new object\n",
    "| oct() | Converts a number into an octal\n",
    "| open() | Opens a file and returns a file object\n",
    "| ord() | Convert an integer representing the Unicode of the specified character\n",
    "| pow() | Returns the value of x to the power of y\n",
    "| print() | Prints to the standard output device\n",
    "| property() | Gets, sets, deletes a property\n",
    "| range() | Returns a sequence of numbers, starting from 0 and increments by 1 (by default)\n",
    "| repr() | Returns a readable version of an object\n",
    "| reversed() | Returns a reversed iterator\n",
    "| round() | Rounds a numbers\n",
    "| set() | Returns a new set object\n",
    "| setattr() | Sets an attribute (property/method) of an object\n",
    "| slice() | Returns a slice object\n",
    "| sorted() | Returns a sorted list\n",
    "| staticmethod() | Converts a method into a static method\n",
    "| str() | Returns a string object\n",
    "| sum() | Sums the items of an iterator\n",
    "| super() | Returns an object that represents the parent class\n",
    "| tuple() | Returns a tuple\n",
    "| type() | Returns the type of an object\n",
    "| vars() | Returns the __dict__ property of an object\n",
    "| zip() | Returns an iterator, from two or more iterators"
   ]
  },
  {
   "attachments": {},
   "cell_type": "markdown",
   "metadata": {},
   "source": [
    "# Python Collections\n"
   ]
  },
  {
   "attachments": {},
   "cell_type": "markdown",
   "metadata": {},
   "source": [
    "## Listen\n",
    "\n",
    "Listen sind geordnete, veränderbare Sammlungen von Elementen.\n",
    "\n",
    "Elemente können doppelt vorkommen und können von unterschiedlichem Typ sein.\n",
    "\n"
   ]
  },
  {
   "cell_type": "code",
   "execution_count": null,
   "metadata": {},
   "outputs": [],
   "source": [
    "# erstellen einer Liste\n",
    "\n",
    "my_list = [1, 2, 3, \"vier\", \"fünf\"]\n",
    "\n",
    "# Zugriff auf Elemente einer Liste, analog zum String Slicing(siehe Notebook vom ersten Tutorium)\n",
    "\n",
    "print(my_list[0]) # Ausgabe: 1\n",
    "print(my_list[::-1]) # Ausgabe: [\"fünf\", \"vier\", 3, 2, 1]\n",
    "\n",
    "# Hinzufügen von Elementen zur Liste\n",
    "my_list.append(6)\n",
    "print(my_list)  # Ausgabe: [1, 2, 3, \"vier\", \"fünf\", 6]\n",
    "\n",
    "print(my_list.index('vier')) # Ausgabe: 3\n",
    "\n",
    "# Entfernen von Elementen aus der Liste\n",
    "my_list.remove(\"vier\")\n",
    "print(my_list)  # Ausgabe: [1, 2, 3, \"fünf\", 6]\n",
    "\n",
    "# Iteration durch eine Liste\n",
    "for element in my_list:\n",
    "    print(element)"
   ]
  },
  {
   "attachments": {},
   "cell_type": "markdown",
   "metadata": {},
   "source": [
    "\n",
    "## Tuple\n",
    "\n",
    "Tuples sind geordnete, unveränderbare Sammlungen von Elementen.\n",
    "\n",
    "Elemente können doppelt vorkommen und können von unterschiedlichem Typ sein.\n"
   ]
  },
  {
   "cell_type": "code",
   "execution_count": null,
   "metadata": {},
   "outputs": [],
   "source": [
    "# Erstellen eines Tupels\n",
    "my_tuple = (1, 2, 3, \"vier\", \"fünf\")\n",
    "\n",
    "# Zugriff auf Elemente des Tupels\n",
    "print(my_tuple[0])  # Ausgabe: 1\n",
    "print(my_tuple[-1])  # Ausgabe: \"fünf\"\n",
    "\n",
    "# Versuch, Elemente des Tupels hinzuzufügen oder zu entfernen (wird eine Fehlermeldung ausgeben)\n",
    "my_tuple.append(6)\n",
    "my_tuple.remove(\"vier\")\n",
    "\n",
    "# Iteration durch ein Tupel\n",
    "for element in my_tuple:\n",
    "    print(element)"
   ]
  },
  {
   "attachments": {},
   "cell_type": "markdown",
   "metadata": {},
   "source": [
    "## Sets\n",
    "\n",
    "Sets sind ungeordnete, veränderbare Sammlungen von Elementen.\n",
    "\n",
    "Elemente können nicht doppelt vorkommen und können von unterschiedlichem Typ sein.\n",
    "\n",
    "In Python werden Sets als Dictionaries, aber nur mit Keys interpretiert, daher kann man viele von den Dictionary-Operations auch an Sets anwenden, z.B. ```set.pop()```, ```set.clear()```\n",
    "\n",
    "Bei Sets kann man Mengenoperationen durchführen, damit meine ich Begriffe wie Schnittmenge, Vereinigung, usw. von 2 Sets.\n"
   ]
  },
  {
   "cell_type": "code",
   "execution_count": null,
   "metadata": {},
   "outputs": [],
   "source": [
    "# Erstellen eines Sets\n",
    "my_set = {1, 2, 3, \"vier\", \"fünf\"}\n",
    "my_set2 = {1,3,4,2}\n",
    "\n",
    "my_mega_set = my_set.union(my_set2) # 2 Sets vereinigen\n",
    "\n",
    "print(my_mega_set)\n",
    "\n",
    "print(my_set.difference(my_set2)) # Ausgabe: Der Unterschied von 2 Sets als neues Set\n",
    "\n",
    "\n",
    "# Hinzufügen von Elementen zum Set\n",
    "my_set.add(6)\n",
    "print(my_set)  # Ausgabe: {1, 2, 3, \"vier\", \"fünf\", 6}\n",
    "\n",
    "# Entfernen von Elementen aus dem Set\n",
    "my_set.remove(\"vier\")\n",
    "print(my_set)  # Ausgabe: {1, 2, 3, \"fünf\", 6}\n",
    "\n",
    "# Iteration durch ein Set\n",
    "for element in my_set:\n",
    "    print(element)"
   ]
  },
  {
   "cell_type": "code",
   "execution_count": null,
   "metadata": {},
   "outputs": [],
   "source": [
    "# Zugriff auf Elemente des Sets (nicht möglich, da das Set ungeordnet ist)\n",
    "print(my_set[0]) # wirft Error!"
   ]
  },
  {
   "attachments": {},
   "cell_type": "markdown",
   "metadata": {},
   "source": [
    "## Dictionaries\n",
    "\n",
    "Dictionaries sind geordnete, veränderbare Sammlungen von Schlüssel-Wert-Paaren.\n",
    "\n",
    "Schlüssel müssen eindeutig sein und können von unterschiedlichem Typ sein.\n",
    "\n",
    "Werte können doppelt vorkommen und können von unterschiedlichem Typ sein.\n"
   ]
  },
  {
   "cell_type": "code",
   "execution_count": null,
   "metadata": {},
   "outputs": [],
   "source": [
    "# Erstellen eines Dictionaries\n",
    "my_dict = {\"Name\": \"Max\", \"Alter\": 30, \"Wohnort\": \"Berlin\"}\n",
    "\n",
    "my_dict.update({'Wohnort':'Eggenstein'})\n",
    "my_dict.update({'Hochschule':'HKA'}) # einfügen von Key-Value Paar\n",
    "\n",
    "my_dict.pop('Wohnort') # löschen eines Key-Value Paares, anhand von Key\n",
    "\n",
    "# Zugriff auf Werte im Dictionary\n",
    "print(my_dict[\"Name\"])  # Ausgabe: Max\n",
    "\n",
    "print(my_dict.items()) # Ausgabe: Eine Liste von Tupeln, wobei jedes Tupel ein Key-Value Paar ist\n",
    "\n",
    "print(my_dict.get('Name')) # Ausgabe: Gibt den Wert zu dem in der get methode aufgerufenen Key zurück\n",
    "\n",
    "print(my_dict.keys()) # Ausgabe: Liste mit allen Keys \n",
    "\n",
    "print(my_dict.values()) # Ausgabe: Liste mit allen Values\n"
   ]
  },
  {
   "cell_type": "markdown",
   "metadata": {},
   "source": []
  }
 ],
 "metadata": {
  "kernelspec": {
   "display_name": "Python 3",
   "language": "python",
   "name": "python3"
  },
  "language_info": {
   "codemirror_mode": {
    "name": "ipython",
    "version": 3
   },
   "file_extension": ".py",
   "mimetype": "text/x-python",
   "name": "python",
   "nbconvert_exporter": "python",
   "pygments_lexer": "ipython3",
   "version": "3.10.1"
  }
 },
 "nbformat": 4,
 "nbformat_minor": 2
}
