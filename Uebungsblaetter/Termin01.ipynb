{
 "cells": [
  {
   "cell_type": "markdown",
   "metadata": {
    "collapsed": true,
    "jupyter": {
     "outputs_hidden": true
    }
   },
   "source": [
    "# Tutorium Übung 1\n",
    "\n",
    "Zur Bearbeitung dieses Übungsblatts benötigen wir eine funktionierende Installation von [Anaconda](https://www.anaconda.com/download)."
   ]
  },
  {
   "cell_type": "markdown",
   "metadata": {},
   "source": [
    "## Einführung"
   ]
  },
  {
   "cell_type": "markdown",
   "metadata": {},
   "source": [
    "Ein Jupyter Notebook besteht aus Zellen.\n",
    "\n",
    "Es gibt Codezellen, die Python Code ausführen können und Textzellen, in denen Erklärungen stehen. Textzellen werden in [Markdown](https://de.wikipedia.org/wiki/Markdown) geschrieben."
   ]
  },
  {
   "cell_type": "markdown",
   "metadata": {},
   "source": [
    "Das hier ist eine Textzelle."
   ]
  },
  {
   "cell_type": "code",
   "execution_count": null,
   "metadata": {},
   "outputs": [],
   "source": [
    "# Das hier ist eine Codezelle."
   ]
  },
  {
   "cell_type": "markdown",
   "metadata": {},
   "source": [
    "Ausführen können wir eine Zelle, indem wir sie anwählen und \\<Shift\\>+\\<Enter\\> drückt. "
   ]
  },
  {
   "cell_type": "code",
   "execution_count": null,
   "metadata": {},
   "outputs": [],
   "source": [
    "# Erstmal ein Klassiker, führe diese Zelle aus.\n",
    "# Der Output \"Hello World!\" sollte dann unter der Zelle erscheinen.\n",
    "print(\"Hello World!\")"
   ]
  },
  {
   "cell_type": "markdown",
   "metadata": {},
   "source": [
    "Wir können mit dem print() Befehl Dinge in den Output schreiben lassen. Neben Zeichenketten (Strings) können wir auch andere Datentypen ausgeben."
   ]
  },
  {
   "cell_type": "code",
   "execution_count": null,
   "metadata": {},
   "outputs": [],
   "source": [
    "# Ausgeben einer Ganzzahl (Integer)\n",
    "print(5)\n",
    "# Ausgeben einer Fließkommazahl (Float)\n",
    "print(1.4)"
   ]
  },
  {
   "cell_type": "markdown",
   "metadata": {},
   "source": [
    "Um Daten in Variabeln zu speichern, weisen wir diese mit dem Zuweisungsoperator \"=\" zu.\n",
    "In Python schreiben wir Variabelnamen im \"Snake Case\". Das bedeutet, dass wir alles klein schreiben, und Wörter durch Unterstriche trennen."
   ]
  },
  {
   "cell_type": "code",
   "execution_count": null,
   "metadata": {},
   "outputs": [],
   "source": [
    "first_name = \"Olaf\"\n",
    "last_name = \"Scholz\"\n",
    "age = 65\n",
    "height = 1.7"
   ]
  },
  {
   "cell_type": "markdown",
   "metadata": {},
   "source": [
    "Diese Variabeln können wir jetzt zum Beispiel ausgeben lassen."
   ]
  },
  {
   "cell_type": "code",
   "execution_count": null,
   "metadata": {},
   "outputs": [],
   "source": [
    "print(first_name, last_name)\n",
    "print(age)\n",
    "print(height)"
   ]
  },
  {
   "cell_type": "markdown",
   "metadata": {},
   "source": [
    "Wir können Strings auch verketten, allerdings können wir nur tatsächliche Strings verketten.\n",
    "Das funktioniert nicht, da wir versuchen Strings mit einem Integer bzw. Float zu verketten:"
   ]
  },
  {
   "cell_type": "code",
   "execution_count": null,
   "metadata": {},
   "outputs": [],
   "source": [
    "print(\"Mein Name ist \" + first_name + \" \" + last_name + \", ich bin \" + age + \" Jahre alt und bin \" + height + \" Meter groß\")"
   ]
  },
  {
   "cell_type": "markdown",
   "metadata": {},
   "source": [
    "Damit der Code oben funktioniert müssen wir den Integer und die Float mit dem Befehl str() konvertieren."
   ]
  },
  {
   "cell_type": "code",
   "execution_count": null,
   "metadata": {},
   "outputs": [],
   "source": [
    "print(\"Mein Name ist \" + first_name + \" \" + last_name + \", ich bin \" + str(age) + \" Jahre alt und bin \" + str(height) + \" Meter groß\")"
   ]
  },
  {
   "cell_type": "markdown",
   "metadata": {},
   "source": [
    "Mit sogenannten f-Strings geht das einfacher. Wir können Zeichenketten formatieren, die Variabeln werden automatisch konvertiert.\n",
    "Wenn wir ein \"f\" vor den String setzen, können wir Variabeln in den String in geschweiften Klammern \"{}\" einfügen."
   ]
  },
  {
   "cell_type": "code",
   "execution_count": null,
   "metadata": {},
   "outputs": [],
   "source": [
    "print(f\"Mein Name ist {first_name} {last_name}, ich bin {age} Jahre alt und bin {height} Meter groß.\")"
   ]
  },
  {
   "cell_type": "markdown",
   "metadata": {},
   "source": [
    "Wir können f-Strings auch verwenden, um Zahlen zu formatieren. So können wir zum Beispiel die Variable height auf 2 Nachkommastellen formatieren. Mehr Informationen zu f-Strings [hier](https://docs.python.org/3/tutorial/inputoutput.html)."
   ]
  },
  {
   "cell_type": "code",
   "execution_count": null,
   "metadata": {},
   "outputs": [],
   "source": [
    "print(f\"Mein Name ist {first_name} {last_name}, ich bin {age} Jahre alt und bin {height:.2f} Meter groß.\")"
   ]
  },
  {
   "cell_type": "markdown",
   "metadata": {},
   "source": [
    "Wir können auch eine Eingabe vom Benutzer einlesen. Hierzu verwenden wir den Befehlt input(). Als Argument für den input können wir einen String als Frage oder Aufforderung verwenden."
   ]
  },
  {
   "cell_type": "code",
   "execution_count": null,
   "metadata": {},
   "outputs": [],
   "source": [
    "input_string = input(\"Wie heißt du?\")\n",
    "print(f\"Hallo, {input_string}!\")"
   ]
  },
  {
   "cell_type": "markdown",
   "metadata": {},
   "source": [
    "Neben Strings ausgeben können wir natürlich noch sehr viele weitere Sachen in Python machen.\n",
    "Rechnen ist eine davon."
   ]
  },
  {
   "cell_type": "code",
   "execution_count": null,
   "metadata": {},
   "outputs": [],
   "source": [
    "# Addition\n",
    "print(2+4)\n",
    "# Subtraktion\n",
    "print(2-4)\n",
    "# Multiplikation\n",
    "print(2*4)\n",
    "# Division\n",
    "print(2/4)\n",
    "# Potenz\n",
    "print(2**4)\n",
    "# Modulo (Rest-Operator)\n",
    "print(2%4)"
   ]
  },
  {
   "cell_type": "markdown",
   "metadata": {},
   "source": [
    "# Aufgaben"
   ]
  },
  {
   "cell_type": "markdown",
   "metadata": {},
   "source": [
    "Schreibe Code, der den Benutzer nacheinaner nach Vorname, Nachname, Alter und Lieblingsfarbe fragt.\n",
    "Danach sollte der Benutzer seine Informationen so formatiert sehen können:\n",
    "\"Hallo `Vorname` `Nachname`. Du bist `Alter` Jahre alt und deine Lieblingsfarbe ist `Lieblingsfarbe`.\""
   ]
  },
  {
   "cell_type": "code",
   "execution_count": null,
   "metadata": {},
   "outputs": [],
   "source": []
  }
 ],
 "metadata": {
  "kernelspec": {
   "display_name": "Python 3 (ipykernel)",
   "language": "python",
   "name": "python3"
  },
  "language_info": {
   "codemirror_mode": {
    "name": "ipython",
    "version": 3
   },
   "file_extension": ".py",
   "mimetype": "text/x-python",
   "name": "python",
   "nbconvert_exporter": "python",
   "pygments_lexer": "ipython3",
   "version": "3.10.9"
  }
 },
 "nbformat": 4,
 "nbformat_minor": 4
}
