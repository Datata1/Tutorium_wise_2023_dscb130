{
 "cells": [
  {
   "cell_type": "markdown",
   "metadata": {
    "collapsed": true,
    "jupyter": {
     "outputs_hidden": true
    }
   },
   "source": [
    "# Tutorium Übung 1\n",
    "\n",
    "Zur Bearbeitung dieses Übungsblatts benötigen wir eine funktionierende Installation von [Anaconda](https://www.anaconda.com/download)."
   ]
  },
  {
   "cell_type": "markdown",
   "metadata": {},
   "source": [
    "## Einführung"
   ]
  },
  {
   "cell_type": "markdown",
   "metadata": {},
   "source": [
    "Ein Jupyter Notebook besteht aus Zellen.\n",
    "\n",
    "Es gibt Codezellen, die Python Code ausführen können und Textzellen, in denen Erklärungen stehen. Textzellen werden in [Markdown](https://de.wikipedia.org/wiki/Markdown) geschrieben."
   ]
  },
  {
   "cell_type": "markdown",
   "metadata": {},
   "source": [
    "Das hier ist eine Textzelle."
   ]
  },
  {
   "cell_type": "code",
   "execution_count": 11,
   "metadata": {},
   "outputs": [],
   "source": [
    "# Das hier ist eine Codezelle."
   ]
  },
  {
   "cell_type": "markdown",
   "metadata": {},
   "source": [
    "Ausführen können wir eine Zelle, indem wir sie anwählen und \\<Shift\\>+\\<Enter\\> drückt. "
   ]
  },
  {
   "cell_type": "code",
   "execution_count": 12,
   "metadata": {},
   "outputs": [
    {
     "name": "stdout",
     "output_type": "stream",
     "text": [
      "Hello World!\n"
     ]
    }
   ],
   "source": [
    "# Erstmal ein Klassiker, führe diese Zelle aus.\n",
    "# Der Output \"Hello World!\" sollte dann unter der Zelle erscheinen.\n",
    "print(\"Hello World!\")"
   ]
  },
  {
   "cell_type": "markdown",
   "metadata": {},
   "source": [
    "Wir können mit dem print() Befehl Dinge in den Output schreiben lassen. Neben Zeichenketten (Strings) können wir auch andere Datentypen ausgeben."
   ]
  },
  {
   "cell_type": "code",
   "execution_count": 13,
   "metadata": {},
   "outputs": [
    {
     "name": "stdout",
     "output_type": "stream",
     "text": [
      "5\n",
      "1.4\n"
     ]
    }
   ],
   "source": [
    "# Ausgeben einer Ganzzahl (Integer)\n",
    "print(5)\n",
    "# Ausgeben einer Fließkommazahl (Float)\n",
    "print(1.4)"
   ]
  },
  {
   "cell_type": "markdown",
   "metadata": {},
   "source": [
    "Um Daten in Variabeln zu speichern, weisen wir diese mit dem Zuweisungsoperator \"=\" zu.\n",
    "In Python schreiben wir Variabelnamen im \"Snake Case\". Das bedeutet, dass wir alles klein schreiben, und Wörter durch Unterstriche trennen."
   ]
  },
  {
   "cell_type": "code",
   "execution_count": 14,
   "metadata": {},
   "outputs": [],
   "source": [
    "first_name = \"Olaf\"\n",
    "last_name = \"Scholz\"\n",
    "age = 65\n",
    "height = 1.7"
   ]
  },
  {
   "cell_type": "markdown",
   "metadata": {},
   "source": [
    "Diese Variabeln können wir jetzt zum Beispiel ausgeben lassen."
   ]
  },
  {
   "cell_type": "code",
   "execution_count": 15,
   "metadata": {},
   "outputs": [
    {
     "name": "stdout",
     "output_type": "stream",
     "text": [
      "Olaf Scholz\n",
      "65\n",
      "1.7\n"
     ]
    }
   ],
   "source": [
    "print(first_name, last_name)\n",
    "print(age)\n",
    "print(height)"
   ]
  },
  {
   "cell_type": "markdown",
   "metadata": {},
   "source": [
    "Wir können Strings auch verketten, allerdings können wir nur tatsächliche Strings verketten.\n",
    "Das funktioniert nicht, da wir versuchen Strings mit einem Integer bzw. Float zu verketten:"
   ]
  },
  {
   "cell_type": "code",
   "execution_count": 16,
   "metadata": {},
   "outputs": [
    {
     "ename": "TypeError",
     "evalue": "can only concatenate str (not \"int\") to str",
     "output_type": "error",
     "traceback": [
      "\u001b[1;31m---------------------------------------------------------------------------\u001b[0m",
      "\u001b[1;31mTypeError\u001b[0m                                 Traceback (most recent call last)",
      "\u001b[1;32mc:\\Users\\nk99n\\Documents\\tut\\dscb130-private\\Uebungsblaetter\\Termin01_Loesung.ipynb Cell 15\u001b[0m line \u001b[0;36m1\n\u001b[1;32m----> <a href='vscode-notebook-cell:/c%3A/Users/nk99n/Documents/tut/dscb130-private/Uebungsblaetter/Termin01_Loesung.ipynb#X20sZmlsZQ%3D%3D?line=0'>1</a>\u001b[0m \u001b[39mprint\u001b[39m(\u001b[39m\"\u001b[39;49m\u001b[39mMein Name ist \u001b[39;49m\u001b[39m\"\u001b[39;49m \u001b[39m+\u001b[39;49m first_name \u001b[39m+\u001b[39;49m \u001b[39m\"\u001b[39;49m\u001b[39m \u001b[39;49m\u001b[39m\"\u001b[39;49m \u001b[39m+\u001b[39;49m last_name \u001b[39m+\u001b[39;49m \u001b[39m\"\u001b[39;49m\u001b[39m, ich bin \u001b[39;49m\u001b[39m\"\u001b[39;49m \u001b[39m+\u001b[39;49m age \u001b[39m+\u001b[39m \u001b[39m\"\u001b[39m\u001b[39m Jahre alt und bin \u001b[39m\u001b[39m\"\u001b[39m \u001b[39m+\u001b[39m height \u001b[39m+\u001b[39m \u001b[39m\"\u001b[39m\u001b[39m Meter groß\u001b[39m\u001b[39m\"\u001b[39m)\n",
      "\u001b[1;31mTypeError\u001b[0m: can only concatenate str (not \"int\") to str"
     ]
    }
   ],
   "source": [
    "print(\"Mein Name ist \" + first_name + \" \" + last_name + \", ich bin \" + age + \" Jahre alt und bin \" + height + \" Meter groß\")"
   ]
  },
  {
   "cell_type": "markdown",
   "metadata": {},
   "source": [
    "Wir bekommen einen Fehler.\n",
    "\n",
    "Damit der Code oben funktioniert müssen wir den Integer und die Float mit dem Befehl str() konvertieren."
   ]
  },
  {
   "cell_type": "code",
   "execution_count": 17,
   "metadata": {},
   "outputs": [
    {
     "name": "stdout",
     "output_type": "stream",
     "text": [
      "Mein Name ist Olaf Scholz, ich bin 65 Jahre alt und bin 1.7 Meter groß\n"
     ]
    }
   ],
   "source": [
    "print(\"Mein Name ist \" + first_name + \" \" + last_name + \", ich bin \" + str(age) + \" Jahre alt und bin \" + str(height) + \" Meter groß\")"
   ]
  },
  {
   "cell_type": "markdown",
   "metadata": {},
   "source": [
    "Mit sogenannten f-Strings geht das einfacher. Wir können Zeichenketten formatieren, die Variabeln werden automatisch konvertiert.\n",
    "Wenn wir ein \"f\" vor den String setzen, können wir Variabeln in den String in geschweiften Klammern \"{}\" einfügen."
   ]
  },
  {
   "cell_type": "code",
   "execution_count": 18,
   "metadata": {},
   "outputs": [
    {
     "name": "stdout",
     "output_type": "stream",
     "text": [
      "Mein Name ist Olaf Scholz, ich bin 65 Jahre alt und bin 1.7 Meter groß.\n"
     ]
    }
   ],
   "source": [
    "print(f\"Mein Name ist {first_name} {last_name}, ich bin {age} Jahre alt und bin {height} Meter groß.\")"
   ]
  },
  {
   "cell_type": "markdown",
   "metadata": {},
   "source": [
    "Wir können f-Strings auch verwenden, um Zahlen zu formatieren. So können wir zum Beispiel die Variable height auf 2 Nachkommastellen formatieren. Mehr Informationen zu f-Strings [hier](https://docs.python.org/3/tutorial/inputoutput.html)."
   ]
  },
  {
   "cell_type": "code",
   "execution_count": 19,
   "metadata": {},
   "outputs": [
    {
     "name": "stdout",
     "output_type": "stream",
     "text": [
      "Mein Name ist Olaf Scholz, ich bin 65 Jahre alt und bin 1.70 Meter groß.\n"
     ]
    }
   ],
   "source": [
    "print(f\"Mein Name ist {first_name} {last_name}, ich bin {age} Jahre alt und bin {height:.2f} Meter groß.\")"
   ]
  },
  {
   "cell_type": "markdown",
   "metadata": {},
   "source": [
    "Wir können auch eine Eingabe vom Benutzer einlesen. Hierzu verwenden wir den Befehlt input(). Als Argument für den input können wir einen String als Frage oder Aufforderung verwenden."
   ]
  },
  {
   "cell_type": "code",
   "execution_count": 20,
   "metadata": {},
   "outputs": [
    {
     "name": "stdout",
     "output_type": "stream",
     "text": [
      "Hallo, !\n"
     ]
    }
   ],
   "source": [
    "input_string = input(\"Wie heißt du?\")\n",
    "print(f\"Hallo, {input_string}!\")"
   ]
  },
  {
   "cell_type": "markdown",
   "metadata": {},
   "source": [
    "In Python kann man mit String-Slicing sehr einfach Strings manipulieren.\n",
    "\n",
    "Dazu können die folgenden String-Slicing Operationen verwendet werden:\n",
    "Wichtig: Der Index beginnt bei 0!.\n",
    "\n",
    "```python\n",
    "# Hier drunter sehen wir die Indizes für den String \"Hallo Welt\"\n",
    "# 0123456789\n",
    "# Hallo Welt\n",
    "\n",
    "str[index]              # Zeichen an Stelle index\n",
    "\n",
    "str[start:stop]         # Alle Zeichen von Index start bis stop-1\n",
    "\n",
    "str[start:]             # Alle Zeichen von Index start bis zum Ende\n",
    "\n",
    "str[:stop]              # Alle Zeichen von Beginn bis Index stop-1\n",
    "```"
   ]
  },
  {
   "cell_type": "code",
   "execution_count": 21,
   "metadata": {},
   "outputs": [
    {
     "name": "stdout",
     "output_type": "stream",
     "text": [
      "Hallo\n",
      "Welt\n",
      "Welt!\n",
      "!\n"
     ]
    }
   ],
   "source": [
    "test_string = \"Hallo Welt!\"\n",
    "print(test_string[:5])\n",
    "print(test_string[6:10])\n",
    "print(test_string[6:])\n",
    "print(test_string[10])"
   ]
  },
  {
   "cell_type": "markdown",
   "metadata": {},
   "source": [
    "# Aufgabe"
   ]
  },
  {
   "cell_type": "markdown",
   "metadata": {},
   "source": [
    "Schreibe Code, der den Benutzer nacheinaner nach Vorname, Nachname, Alter und Lieblingsfarbe fragt.\n",
    "Danach sollte der Benutzer seine Informationen so formatiert sehen können:\n",
    "\"Hallo `Vorname` `Nachname`. Du bist `Alter` Jahre alt und deine Lieblingsfarbe ist `Lieblingsfarbe`.\""
   ]
  },
  {
   "cell_type": "code",
   "execution_count": 22,
   "metadata": {},
   "outputs": [
    {
     "name": "stdout",
     "output_type": "stream",
     "text": [
      "Hallo Niklas Küchen. Du bist 23 Jahre alt und deine Lieblingsfarbe ist Grün.\n"
     ]
    }
   ],
   "source": [
    "vorname = input(\"Wie ist dein Vorname?\")\n",
    "nachname = input(\"Wie ist dein Nachname?\")\n",
    "alter = input(\"Wie alt bist du?\")\n",
    "lieblings_farbe = input(\"Was ist deine Lieblingsfarbe?\")\n",
    "\n",
    "print(f\"Hallo {vorname} {nachname}. Du bist {alter} Jahre alt und deine Lieblingsfarbe ist {lieblings_farbe}.\")"
   ]
  },
  {
   "cell_type": "markdown",
   "metadata": {},
   "source": [
    "Wende nun String-Slicing an, um den Vornamen mit dem ersten Buchstaben abzukürzen.\n",
    "Statt \"Olaf Scholz\" sollte also \"O. Scholz\" ausgegeben werden."
   ]
  },
  {
   "cell_type": "code",
   "execution_count": 23,
   "metadata": {},
   "outputs": [
    {
     "name": "stdout",
     "output_type": "stream",
     "text": [
      "Hallo N Küchen. Du bist 23 Jahre alt und deine Lieblingsfarbe ist Grün.\n",
      "Hallo N Küchen. Du bist 23 Jahre alt und deine Lieblingsfarbe ist Grün.\n"
     ]
    }
   ],
   "source": [
    "print(f\"Hallo {vorname[:1]} {nachname}. Du bist {alter} Jahre alt und deine Lieblingsfarbe ist {lieblings_farbe}.\")\n",
    "# Alternative:\n",
    "print(f\"Hallo {vorname[0]} {nachname}. Du bist {alter} Jahre alt und deine Lieblingsfarbe ist {lieblings_farbe}.\")"
   ]
  }
 ],
 "metadata": {
  "kernelspec": {
   "display_name": "Python 3 (ipykernel)",
   "language": "python",
   "name": "python3"
  },
  "language_info": {
   "codemirror_mode": {
    "name": "ipython",
    "version": 3
   },
   "file_extension": ".py",
   "mimetype": "text/x-python",
   "name": "python",
   "nbconvert_exporter": "python",
   "pygments_lexer": "ipython3",
   "version": "3.11.6"
  }
 },
 "nbformat": 4,
 "nbformat_minor": 4
}
