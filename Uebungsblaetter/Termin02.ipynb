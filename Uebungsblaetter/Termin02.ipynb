{
 "cells": [
  {
   "cell_type": "markdown",
   "id": "532dfad3",
   "metadata": {},
   "source": [
    "# Tutorium Termin 2 - Grundlegende Datentypen"
   ]
  },
  {
   "cell_type": "markdown",
   "id": "85ca6677",
   "metadata": {},
   "source": [
    "In Python gibt es einige grundlegende Datentypen, die in den meisten Programmen verwendet werden. Hier sind die wichtigsten Datentypen und ihre Verwendung in Python:\n",
    "\n",
    "## Ganzzahlen (Integers)\n",
    "Ganzzahlen repräsentieren ganze Zahlen ohne Dezimalstellen. Sie werden in Python mit dem Datentyp `int` dargestellt.\n",
    "\n",
    "```python\n",
    "x = 5\n",
    "y = -10\n",
    "```\n",
    "\n",
    "## Gleitkommazahlen (Floating-Point Numbers)\n",
    "Gleitkommazahlen repräsentieren Zahlen mit Dezimalstellen. Sie werden in Python mit dem Datentyp `float` dargestellt.\n",
    "\n",
    "```python\n",
    "pi = 3.14159\n",
    "height = 1.85\n",
    "```\n",
    "\n",
    "## Zeichenketten (Strings)\n",
    "Zeichenketten sind eine Sequenz von Zeichen, wie Buchstaben und Symbole. Sie werden in Python mit dem Datentyp `str` dargestellt und in einfachen oder doppelten Anführungszeichen geschrieben.\n",
    "\n",
    "```python\n",
    "name = \"Max Mustermann\"\n",
    "message = 'Hello, World!'\n",
    "```\n",
    "\n",
    "## Wahrheitswerte (Booleans)\n",
    "Wahrheitswerte repräsentieren entweder \"wahr\" (True) oder \"falsch\" (False). Sie werden in Python mit dem Datentyp `bool` dargestellt.\n",
    "\n",
    "```python\n",
    "is_true = True\n",
    "is_false = False\n",
    "```\n",
    "\n",
    "Das sind die grundlegenden Datentypen in Python.\n",
    "\n",
    "Python bietet auch viele weitere Datentypen und Strukturen, die auf diesen Grunddatentypen aufbauen, wie z.B. Listen, Tupel, Dictionaries, Sets und benutzerdefinierte Klassen. Diese werden in den nächsten Tutorien noch behandelt."
   ]
  },
  {
   "cell_type": "markdown",
   "id": "88c7eb7a",
   "metadata": {},
   "source": [
    "## Operatoren\n",
    "\n",
    "In Python werden Operatoren verwendet, um Operationen auf Daten durchzuführen. Sie ermöglichen es, Variablen und Werte miteinander zu verknüpfen, zu vergleichen und zu manipulieren. Hier sind einige der wichtigsten Arten von Operatoren in Python:\n",
    "\n",
    "1. **Arithmetische Operatoren:** Diese Operatoren werden verwendet, um mathematische Berechnungen durchzuführen, wie Addition, Subtraktion, Multiplikation, Division und [Modulo (Rest bei der Division)](https://de.wikipedia.org/wiki/Division_mit_Rest#Modulo).\n",
    "\n",
    "   ```python\n",
    "   x = 10\n",
    "   y = 3\n",
    "   addition = x + y\n",
    "   subtraktion = x - y\n",
    "   multiplikation = x * y\n",
    "   division = x / y\n",
    "   modulo = x % y (Restoperator)\n",
    "   ```\n",
    "\n",
    "2. **Vergleichsoperatoren:** Diese Operatoren vergleichen Werte und geben Wahrheitswerte (True oder False) zurück. Sie werden verwendet, um zu überprüfen, ob Werte gleich sind, größer oder kleiner sind, usw.\n",
    "\n",
    "   ```python\n",
    "   a = 5\n",
    "   b = 10\n",
    "   gleich = a == b\n",
    "   groesser_als = a > b\n",
    "   groesser_gleich = a >= b\n",
    "   kleiner_als = a < b\n",
    "   kleiner_gleich = a <= b\n",
    "   ```\n",
    "\n",
    "3. **Logische Operatoren:** Diese Operatoren werden verwendet, um logische Verknüpfungen zwischen Wahrheitswerten durchzuführen. Die häufigsten logischen Operatoren sind `and`, `or` und `not`.\n",
    "\n",
    "   ```python\n",
    "   ist_wahr = True\n",
    "   ist_falsch = False\n",
    "   logisches_und = ist_wahr and ist_falsch\n",
    "   logisches_oder = ist_wahr or ist_falsch\n",
    "   logische_negation = not ist_wahr\n",
    "   ```\n",
    "\n",
    "4. **Zuweisungsoperatoren:** Diese Operatoren werden verwendet, um Werte Variablen zuzuweisen. Das klassische Zuweisungszeichen ist `=`.\n",
    "\n",
    "   ```python\n",
    "   x = 5\n",
    "   y = x  # y erhält den Wert von x\n",
    "   ```\n",
    "\n",
    "\n",
    "Diese Operatoren sind grundlegend für die Durchführung von Berechnungen, Steuerungsstrukturen und Vergleichen von Werten in Python. Sie ermöglichen es, komplexe Aufgaben in effizienter Weise zu erledigen und sind ein zentrales Konzept in der Programmierung."
   ]
  },
  {
   "cell_type": "markdown",
   "id": "811d1fbc",
   "metadata": {},
   "source": [
    "## Aufgaben"
   ]
  },
  {
   "cell_type": "markdown",
   "id": "261cdac6",
   "metadata": {},
   "source": [
    "### Integer (Ganzzahlen)"
   ]
  },
  {
   "cell_type": "code",
   "execution_count": 5,
   "id": "50615a71",
   "metadata": {},
   "outputs": [],
   "source": [
    "# TODO: Deklariere zwei Ganzzahlen x und y. x soll 3 sein und y soll 5 sein.\n",
    "\n",
    "# TODO: Berechne jetzt die Summe (+), Differenz (-), das Produkt (*) und den Quotient (/) von x und y.\n",
    "# Gebe das Ergebnis jeweils durch print aus.\n"
   ]
  },
  {
   "cell_type": "markdown",
   "id": "76e0a589",
   "metadata": {},
   "source": [
    "### Floats (Gleitkommazahlen)\n",
    "\n",
    "Für diese Aufgabe sollt ihr den Umfang und die Fläche für verschiedene Formen berechen."
   ]
  },
  {
   "cell_type": "markdown",
   "id": "0937963a",
   "metadata": {},
   "source": [
    "#### Rechteck"
   ]
  },
  {
   "cell_type": "code",
   "execution_count": 6,
   "id": "53e3321d",
   "metadata": {},
   "outputs": [],
   "source": [
    "# Rechteck:\n",
    "a = 1.7\n",
    "b = 5.0\n",
    "\n",
    "# TODO: Berechne für das Rechteck mit den Seitenlängen a und b den Umfang.\n",
    "# Gebe den Umfang dann durch print in folgendem Format aus:\n",
    "# \"Der Umfang des Rechtecks mit Seitenlänge [a]x[b] beträgt [Umfang].\"\n",
    "\n",
    "\n",
    "# TODO: Berechne jetzt die Fläche.\n",
    "# Gebe die Fläche dann durch print in folgendem Format aus:\n",
    "# \"Die Fläche des Rechtecks mit Seitenlänge [a]x[b] beträgt [Fläche].\"\n"
   ]
  },
  {
   "cell_type": "markdown",
   "id": "1e4d0e8a",
   "metadata": {},
   "source": [
    "#### Kreis"
   ]
  },
  {
   "cell_type": "code",
   "execution_count": 7,
   "id": "6fd1255c",
   "metadata": {},
   "outputs": [],
   "source": [
    "# Kreis:\n",
    "radius = 1.8\n",
    "PI = 3.14159 # Für Pi reichen hier die ersten fünf Nachkommastellen aus.\n",
    "\n",
    "# TODO: Berechne wie oben für das Rechteck jetzt den Umfang und die Fläche für den Kreis.\n",
    "# Gebe auch hier die Ergebnisse jeweils passend formatiert als ganze Sätze aus.\n"
   ]
  },
  {
   "cell_type": "markdown",
   "id": "c88b4ac5",
   "metadata": {},
   "source": [
    "### Strings (Zeichenketten)"
   ]
  },
  {
   "cell_type": "markdown",
   "id": "91afdf1b",
   "metadata": {},
   "source": [
    "Strings kennt ihr ja schon etwas von [Tutorium Termin 1](Termin01_Loesung.ipynb). Deshalb jetzt ein paar komplexere Aufgaben mit Strings.\n",
    "**Tipp**: In Python gibt es einige eingebauten Funktionen, die euch die Aufgaben erleichtern (len() und count()).\n",
    "Google ist euer Freund -> versucht herauszufinden, wie ihr die funktionen anwendet.\n",
    "\n",
    "Erstellen Sie ein Python-Programm, das die folgenden Schritte durchführt:"
   ]
  },
  {
   "cell_type": "code",
   "execution_count": 9,
   "id": "5e2f69d6",
   "metadata": {},
   "outputs": [],
   "source": [
    "# TODO: Der Benutzer wird aufgefordert, einen Satz oder eine Zeichenkette einzugeben.\n",
    "\n",
    "# TODO: Das Programm zählt und gibt die Anzahl des Buchstabens \"a\" in der eingegebenen Zeichenkette aus.\n",
    "\n",
    "# TODO: Das Programm zählt und gibt die Anzahl der Leerzeichen in der eingegebenen Zeichenkette aus.\n",
    "\n",
    "# TODO: Das Programm zählt und gibt die Anzahl der Ausrufezeichen (\"!\") in der eingegebenen Zeichenkette aus.\n",
    "\n",
    "# TODO: Das Programm gibt die Gesamtlänge der eingegebenen Zeichenkette aus.\n"
   ]
  },
  {
   "cell_type": "markdown",
   "id": "b717bf2e",
   "metadata": {},
   "source": [
    "Die Ausgabe sollte so aussehen:\n",
    "\n",
    "```text\n",
    "input: Die Hochschule Karlsruhe hat keine Sicherheitslücken!\n",
    "output: Der Satz 'Die Hochschule Karlsruhe hat keine Sicherheitslücken!' enthält 2 Mal 'a', 5 Leerzeichen und 1 Ausrufezeichen. Der Satz hat insgesamt 53 Zeichen.\n",
    "```"
   ]
  },
  {
   "cell_type": "markdown",
   "id": "294658e0",
   "metadata": {},
   "source": [
    "### Booleans"
   ]
  },
  {
   "cell_type": "markdown",
   "id": "521ce4b7",
   "metadata": {},
   "source": [
    "Lasse den Benutzer nun zwei Wörter eingeben.\n",
    "Überprüfe dann, ob das erste Wort länger ist als das zweite Wort und gebe das ergebnis wie in den Beispielen unten aus:\n",
    "\n",
    "**Beispiel 1:**\n",
    "```text\n",
    "Wort A: Karlsruhe\n",
    "Wort B: Berlin\n",
    "\n",
    "Ausgabe: Die Aussage 'Das Wort 'Karlsruhe' ist länger als das Wort 'Berlin'.' ist: True\n",
    "```\n",
    "\n",
    "**Beispiel 2:**\n",
    "```text\n",
    "Wort A: Karlsruhe\n",
    "Wort B: Kaiserslautern\n",
    "\n",
    "Ausgabe: Die Aussage 'Das Wort 'Karlsruhe' ist länger als das Wort 'Kaiserslautern'.' ist: False\n",
    "```"
   ]
  },
  {
   "cell_type": "code",
   "execution_count": 12,
   "id": "f29cc57d",
   "metadata": {},
   "outputs": [],
   "source": [
    "# TODO: Eingabe von Wort A\n",
    "\n",
    "# TODO: Eingabe von Wort B\n",
    "\n",
    "# TODO: Vergleichen von den Längen von A und B, speichern des Booleans in einer Variablen\n",
    "\n",
    "# TODO: Ausgeben des formatierten Strings\n"
   ]
  }
 ],
 "metadata": {
  "kernelspec": {
   "display_name": "Python 3 (ipykernel)",
   "language": "python",
   "name": "python3"
  },
  "language_info": {
   "codemirror_mode": {
    "name": "ipython",
    "version": 3
   },
   "file_extension": ".py",
   "mimetype": "text/x-python",
   "name": "python",
   "nbconvert_exporter": "python",
   "pygments_lexer": "ipython3",
   "version": "3.10.9"
  }
 },
 "nbformat": 4,
 "nbformat_minor": 5
}
