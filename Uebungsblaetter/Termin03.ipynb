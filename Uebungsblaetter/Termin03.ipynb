{
 "cells": [
  {
   "cell_type": "markdown",
   "id": "b675fb6b-aaee-4a2f-8b10-9e43381fa52b",
   "metadata": {},
   "source": [
    "# Tutorium 3: Kontrollstrukturen"
   ]
  },
  {
   "cell_type": "markdown",
   "id": "c0baf63b-121e-43a7-88f9-76f14b973891",
   "metadata": {},
   "source": [
    "___"
   ]
  },
  {
   "cell_type": "markdown",
   "id": "b88d81ab-b0cd-4c7a-94d2-f05aa7e0d5d5",
   "metadata": {},
   "source": [
    "## Wiederholung: Strings"
   ]
  },
  {
   "cell_type": "markdown",
   "id": "97b7431b-98c7-44ef-92f0-bb057444f0eb",
   "metadata": {},
   "source": [
    "### String Indizierung\n",
    "\n",
    "Ein String ist ein sequenzieller Datentyp. Ein String ist somit eine Auflistung von Buchstaben mit einer Reihenfolge. Wir können über die jeweiligen Indizes auf die einzelnen Zeichen in einem String zugreifen:"
   ]
  },
  {
   "cell_type": "markdown",
   "id": "1fbff77e-36d1-4651-a89f-d855eb879664",
   "metadata": {
    "tags": []
   },
   "source": [
    "```py\n",
    "string = \"Data Science is awesome!\"\n",
    "\n",
    "einzelne Character\n",
    "\n",
    "string[0]\n",
    "'D'\n",
    "string[1]\n",
    "'a'\n",
    "string[2]\n",
    "'t'\n",
    "```\n",
    "\n",
    "Man kann auch auf eine Sequenz von Stringelementen zugreifen:\n",
    "```py\n",
    "string[0:4]\n",
    "'Data'\n",
    "string[-8:]  \n",
    "'awesome!\n",
    "'\n",
    "```\n",
    "\n",
    "Durch ein drittes Argument in den eckigen Klammern kann man auch die Schrittweite bestimmen welche Character ausgegeben werden sollen in eienr Sequenz: \n",
    "\n",
    "```py\n",
    "string[0:25:2]\n",
    "'Dt cec saeoe'\n",
    "```"
   ]
  },
  {
   "cell_type": "markdown",
   "id": "bd0cbb5d-0c9c-4418-90d8-7e51e8242a26",
   "metadata": {
    "tags": []
   },
   "source": [
    "Allgemeine Syntax:\n",
    "    \n",
    "``` py\n",
    "str[index]              # Gibt Zeichen des angebenen Indexes zurück  \n",
    "str[start:stop]         # Gibt Zeichen zurüch von Start-Index bis Stop-Index -1\n",
    "str[start:]             # Gibt alle Zeichen des Strings ab dem Start-Index zurück\n",
    "str[:stop]              # Gibt alle Zeichen vom Anfang des Strings bis zum Stop-Index -1 zurück\n",
    "str[:]                  # Gibt eine Kopie des Strings zurück\n",
    "str[start:stop:step]    # Gibt Zeichen von Start-Index bis Stop-Index -1 zurück mit einer angegebenen Schrittweite\n",
    "\n",
    "```\n",
    "\n",
    "(https://www.python-kurs.eu/sequentielle_datentypen.php)\n",
    "(https://www.w3schools.com/python/python_strings.asp)\n"
   ]
  },
  {
   "cell_type": "code",
   "execution_count": 30,
   "id": "40c6a30d-a802-48c4-9db8-f7a25e75b5e4",
   "metadata": {
    "tags": []
   },
   "outputs": [],
   "source": [
    "# Aufgabe 1: wende Stringsclicing zur Lösung folgender Aufgaben an:\n",
    "\n",
    "nums = '0, 1, 2, 3, 4, 5, 6, 7, 8, 9'\n",
    "\n",
    "# output 1: '123456789'\n",
    "\n",
    "    # code here\n",
    "    \n",
    "# output 2: '97531'\n",
    "    \n",
    "    # code here\n",
    "\n",
    "# output 3: '345'\n",
    "\n",
    "    # code here\n",
    "\n",
    "# output 4: '543'\n",
    "\n",
    "    # code here\n",
    "\n",
    "# output 5: '987654321'"
   ]
  },
  {
   "cell_type": "markdown",
   "id": "ab4d712d-a8c9-4b9f-93a7-5975cdbe3dc7",
   "metadata": {},
   "source": [
    "___"
   ]
  },
  {
   "cell_type": "markdown",
   "id": "09a9967b-a99e-451c-a4e3-b883661e5afe",
   "metadata": {},
   "source": [
    "## Kontrollstrukturen\n",
    "\n",
    "\n",
    "Wenn wir programmieren, wollen wir manchmal dass ein gewissen Codeabschnitt in unserem Programm nur unter bestimmten Vorraussetzungen ausgeführt wird. Dazu verwenden wir Kontrollstrukturen die wir in diesem Übungsblatt behandeln werden.\n",
    "\n",
    "\n",
    "### Vergleichsoperatoren\n",
    "\n",
    "Um die Bedingungen in unserem Code abzubilden, können wir die Vergleichsoperatoren der Mathematik verwenden:\n",
    "   \n",
    "    1. a == b  # a ist gleich b\n",
    "    2. a != b  # a ist nicht gleich b\n",
    "    3. a < b   # a ist kleiner b\n",
    "    4. a <= b  # a ist kleiner oder gleich b\n",
    "    5. a > b   # a ist größer b\n",
    "    6. a >= b  # a ist größer oder gleich b"
   ]
  },
  {
   "cell_type": "markdown",
   "id": "b0852721-e274-4b29-bdf3-5c702e1ceaee",
   "metadata": {},
   "source": [
    "### If- elif - else"
   ]
  },
  {
   "cell_type": "markdown",
   "id": "bc50ee62-5c6b-41ac-a290-da46c6c79fbe",
   "metadata": {
    "tags": []
   },
   "source": [
    "If bedeutet, dass die Codesequenz die auf diesem Statement folgt nur dann ausgeführt wird wenn die angegebene Bedingung erfüllt ist.\n",
    "\n",
    "else ist derjenige Codeabschnitt der ausgeführt wird wenn eine bedingung nicht erfüllt wird. "
   ]
  },
  {
   "cell_type": "code",
   "execution_count": 33,
   "id": "38737509-5d71-4a2d-b219-79fce5b975c0",
   "metadata": {
    "tags": []
   },
   "outputs": [
    {
     "name": "stdout",
     "output_type": "stream",
     "text": [
      "42 ist nicht gleich 13\n"
     ]
    }
   ],
   "source": [
    "# Beispiel einer If-Bedingung\n",
    "a = 42\n",
    "b = 13\n",
    "\n",
    "if a == b:\n",
    "    print(f'{a} ist gleich {b}')\n",
    "else:\n",
    "    print(f'{a} ist nicht gleich {b}')"
   ]
  },
  {
   "cell_type": "markdown",
   "id": "5c5f72cb-aa69-475d-b0a7-7c311101c7d9",
   "metadata": {},
   "source": [
    "Man kann auch beliebig viele alternative Bedingungen in einem If Statement hinzufügen mit elif"
   ]
  },
  {
   "cell_type": "code",
   "execution_count": 37,
   "id": "2e8896ed-6b19-4772-8695-5722ad415a6e",
   "metadata": {
    "tags": []
   },
   "outputs": [
    {
     "name": "stdout",
     "output_type": "stream",
     "text": [
      "42 ist größer als 13\n"
     ]
    }
   ],
   "source": [
    "# Beispiel\n",
    "a = 42\n",
    "b = 13\n",
    "\n",
    "if a == b:\n",
    "    print(f'{a} ist gleich {b}')\n",
    "elif a > b:\n",
    "    print(f'{a} ist größer als {b}')\n",
    "else:\n",
    "    print(f'{a} ist nicht gleich {b}')"
   ]
  },
  {
   "cell_type": "markdown",
   "id": "d4fd692e-3e25-4366-9b94-c093323068be",
   "metadata": {},
   "source": [
    "(https://www.w3schools.com/python/python_conditions.asp)"
   ]
  },
  {
   "cell_type": "markdown",
   "id": "e0a5daab-2a70-4023-86a6-b44127cf6562",
   "metadata": {},
   "source": [
    "## Aufgabe 1: If-Statement\n",
    "fordere 2 Zahlen als Benutzereingabe, speichere diese als Varialen zahl1 und zahl2 ab und überprüfe ob zahl1 größer, kleiner oder gleich zahl2 ist. Gibt das Ergebnis im Terminal aus:"
   ]
  },
  {
   "cell_type": "code",
   "execution_count": 36,
   "id": "990f8c44-e939-4f25-9102-22844ebfc87a",
   "metadata": {
    "tags": []
   },
   "outputs": [],
   "source": [
    "# Code here"
   ]
  },
  {
   "cell_type": "markdown",
   "id": "82455ebd-1a5a-47af-85a6-e31864696590",
   "metadata": {},
   "source": [
    "## Funktionen und Methoden in If-Bedingung\n",
    "\n",
    "Wir können auch Funktionen und Methoden in unserem If-Statement integrieren um Kontrolle über unseren Code zu bekommen:"
   ]
  },
  {
   "cell_type": "code",
   "execution_count": 38,
   "id": "57703f1c-74b5-4bc2-9a5d-51bd06beb017",
   "metadata": {
    "tags": []
   },
   "outputs": [
    {
     "name": "stdin",
     "output_type": "stream",
     "text": [
      "Was ist dein Lieblingsessen Spaghetti\n"
     ]
    },
    {
     "name": "stdout",
     "output_type": "stream",
     "text": [
      "Dein Lieblingsessen Spaghetti ist echt ein langes Wort!\n"
     ]
    }
   ],
   "source": [
    "# Beispiel mit den len() methode\n",
    "wort = input('Was ist dein Lieblingsessen')\n",
    "\n",
    "if len(wort) < 6:\n",
    "    print(f'Dein Lieblingsessen {wort} hat weniger als 6 Ziffern')\n",
    "else:\n",
    "    print(f'Dein Lieblingsessen {wort} ist echt ein langes Wort!')"
   ]
  },
  {
   "cell_type": "markdown",
   "id": "41f9eca4-ae3b-4101-8323-2d737cb54468",
   "metadata": {},
   "source": [
    "## Aufgabe 2: Funktionen und Methoden in If-Bedingung\n",
    "\n",
    "Schreibe ein Programm welches einen beliebigen Benutzerinput als Eingabewerte nimmt und prüft ob es sich um einen gültigen Bezeichner für eine Variable handelt. \n",
    "Ein Bezeichner ist ein string, welcher geeignet ist um als Variablennamen verwendet zu werden. \n",
    "Schaue dir hierzu die Methode `isidetifier()` an.\n",
    "https://www.w3schools.com/python/ref_string_isidentifier.asp\n",
    "Lese hier nach welche Regeln es für Bezeichner gibt."
   ]
  },
  {
   "cell_type": "code",
   "execution_count": 39,
   "id": "aea1c314-9138-4c55-9ca6-6127748547cd",
   "metadata": {
    "tags": []
   },
   "outputs": [],
   "source": [
    "# Code here"
   ]
  },
  {
   "cell_type": "markdown",
   "id": "62529e40-0b65-409f-adc9-4601256b10a7",
   "metadata": {},
   "source": [
    "## Aufgabe 3: Kombination von Bedingungen\n",
    "\n",
    "Wir können auch Bedingungen in einem If-Statement beliebig kombinieren\n",
    "\n",
    "| Operator     | Description                                | Example               | \n",
    "|:--------------|:--------------------------------------------|-----------------------:|\n",
    "|and           |`True` wenn beide Statements true           |x < 5 `and` x < 10     |\n",
    "|or            |`True` wenn eines der beiden Statements true|x < 5 `or` x < 4       |\n",
    "|not           |`False` wenn beide Statements true          |not(x < 5 `and` x < 10)|\n",
    "|in            |`True` wenn ein definierter Wert in geprüfter Sequenz liegt         |x `in` y|\n",
    "|not in        |`True` wenn ein definierter Wert nicht in geprüfter Sequenz liegt   |x `in` y|\n",
    "\n",
    "<table>\n",
    "<tr><th> AND </th><th> OR </th><th> NOT </th></tr>\n",
    "<tr><td>\n",
    "\n",
    "|A|B|A and B|\n",
    "|--|--|:--:|\n",
    "|T|T|T|\n",
    "|T|F|F|\n",
    "|F|T|F|\n",
    "|F|F|F|\n",
    "\n",
    "</td><td>\n",
    "\n",
    "|A|B|A or B|\n",
    "|--|--|:--:|\n",
    "|T|T|T|\n",
    "|T|F|T|\n",
    "|F|T|T|\n",
    "|F|F|F|\n",
    "    \n",
    "</td><td>\n",
    "\n",
    "|A|A'|\n",
    "|-|-|\n",
    "|T|F|\n",
    "|F|T|\n",
    "\n",
    "</td></tr> </table>"
   ]
  },
  {
   "cell_type": "markdown",
   "id": "ef3d4146-8e28-4ef6-9ab9-b1852b3bee07",
   "metadata": {
    "tags": []
   },
   "source": [
    "### Aufgabe\n",
    "Schreibe ein Programm Bei dem die Benutzereingabe nach der Anzahl der Studenten im Tutorium fragt. \n",
    "* Wenn weniger als 10 Studenten anwesend sind im Tutorium soll das Terminal ausgeben, dass die Tutoren traurig sind. \n",
    "* Wenn zwischen 11 und 30 Studenten anwesend sind, soll das Terminal ausgeben, dass die Tutoren entspannt sind \n",
    "* Wenn mehr als 31 Studenten da sind, soll das Temrinal ausgeben, dass die Tutoren überfordert sind."
   ]
  },
  {
   "cell_type": "code",
   "execution_count": 47,
   "id": "a21085b7-4ee9-4b67-8411-208edf56b3ea",
   "metadata": {
    "tags": []
   },
   "outputs": [],
   "source": [
    "# Code here"
   ]
  },
  {
   "cell_type": "markdown",
   "id": "795b736d-25ad-41ee-910a-df8c8817b4ff",
   "metadata": {},
   "source": [
    "## Aufgabe 4\n",
    "Ob ein Jahr im Gregorianischen Kalender ein Schaltjahr ist, kann nach den folgenden Regeln entschieden werden:\n",
    "\n",
    "Jahre sind Schaltjahre, falls ihre Jahrzahl durch 400 teilbar ist.\n",
    "\n",
    "Jahre sind Schaltjahre, falls ihre Jahrzahl durch 4 teilbar ist, ausser die Jahrzahl ist durch 100 teilbar.\n",
    "\n",
    "Schreibe ein Programm, welches den Benutzer nach einer Jahreszahl fragt und anschliessend prüft, ob es sich um ein Schaltjahr handelt."
   ]
  },
  {
   "cell_type": "code",
   "execution_count": null,
   "id": "5b33342f-8f7a-4095-8d51-60bb450f7a9d",
   "metadata": {},
   "outputs": [],
   "source": [
    "# code here"
   ]
  },
  {
   "cell_type": "markdown",
   "id": "af545276-e6ed-40ca-8478-12b0b3943c4e",
   "metadata": {},
   "source": [
    "## Aufgabe 5: Herausforderung\n",
    "\n",
    "Schreibe ein Programm welches überprüft ob eine gegebene Zahl (integer) ein Palindrom ist oder nicht. \n",
    "\n",
    "```py\n",
    "Beispiel 1:\n",
    "Input: x = 1221\n",
    "Output: 1221 ist ein Palindrom, denn wenn man von nrechts liest, dann ist es immernoch 1221\n",
    "\n",
    "Beispiel2:\n",
    "Input: x = 100\n",
    "Output: 100 ist kein Palindrom, denn wenn man von rechts liest, dann ist es 001.\n",
    "```"
   ]
  },
  {
   "cell_type": "code",
   "execution_count": null,
   "id": "fc8f6e52-67e2-4a61-b1fc-5f57ab48cfee",
   "metadata": {},
   "outputs": [],
   "source": [
    "# code here"
   ]
  },
  {
   "cell_type": "markdown",
   "id": "aeae07b6-7de6-41ac-9227-15e25466cbbd",
   "metadata": {
    "tags": []
   },
   "source": [
    "___"
   ]
  },
  {
   "cell_type": "markdown",
   "id": "326fac5e-6da8-4401-894c-5f17f8291bcd",
   "metadata": {
    "tags": []
   },
   "source": [
    "# For Schleife"
   ]
  },
  {
   "cell_type": "markdown",
   "id": "c908d0a1-71d6-4055-ab81-7de0e3b0fb75",
   "metadata": {},
   "source": [
    "https://www.w3schools.com/python/python_for_loops.asp\n",
    "Um die funktionsweisen von for Schleifen zu veranschaulichen, werden wir uns den Datantyp `Liste` jetzt genauer anschauen.\n",
    "\n",
    "Die Liste ist ein sequenzieller Datentyp, welche verschiedene Elemente enthalten kann. Man kann also wie bei Strings über einen Index auf die jeweiligen Elemente der Liste zugreifen. \n",
    "In einer Liste können dabei Elemente mit verschiedenen Datentypen vorhanden sein.\n",
    "\n",
    "```py\n",
    "pizza_Tonno = ['Teig', 'Tomatensoße', 'Mozzarella', 'Thunfisch', 'Basilikum']\n",
    "\n",
    "pizza_Tonno[0]\n",
    "'Teig'\n",
    "pizza_Tonno[4]\n",
    "'Basilikum'\n",
    "\n",
    "liste = [True, 2, 'hallo']\n",
    "# auch möglich\n",
    "```\n",
    "\n",
    "in einer for Schleife können wir jetzt **für** jedes Element in zB einer Liste einen Programmabschnitt ausführen:"
   ]
  },
  {
   "cell_type": "code",
   "execution_count": 48,
   "id": "db453d5c-5b6d-493b-8ef5-b525171033cf",
   "metadata": {
    "tags": []
   },
   "outputs": [
    {
     "name": "stdout",
     "output_type": "stream",
     "text": [
      "Teig\n",
      "Tomatensoße\n",
      "Mozzarella\n",
      "Thunfisch\n",
      "Basilikum\n",
      "0\n",
      "1\n",
      "2\n",
      "3\n",
      "4\n",
      "5\n",
      "6\n",
      "7\n",
      "8\n",
      "9\n"
     ]
    }
   ],
   "source": [
    "for zutat in ['Teig', 'Tomatensoße', 'Mozzarella', 'Thunfisch', 'Basilikum']:\n",
    "    print(zutat)\n",
    "    \n",
    "for i in range(10):\n",
    "    print(i)"
   ]
  },
  {
   "cell_type": "markdown",
   "id": "2bb3d96a-4912-42ce-b4ab-a56932e1b883",
   "metadata": {},
   "source": [
    "## Aufgabe 6: Fakultät berechnen\n",
    "\n",
    "Schreibe ein Programm welches die Fakultät derjenigen Zahl berechnet die der Benutzer eingibt. \n",
    "Tipp: Schaue dir hierfür die range() Funktion an:\n",
    "https://www.w3schools.com/python/ref_func_range.asp"
   ]
  },
  {
   "cell_type": "code",
   "execution_count": 45,
   "id": "78c1f8e9-ec01-42af-b32c-575df574959c",
   "metadata": {
    "tags": []
   },
   "outputs": [],
   "source": [
    "# Code here"
   ]
  },
  {
   "cell_type": "markdown",
   "id": "d443c25e-8d3f-4d0b-89ff-33628595cb1c",
   "metadata": {
    "tags": []
   },
   "source": [
    "___"
   ]
  },
  {
   "cell_type": "markdown",
   "id": "9349c7f8-7623-4ab4-9c40-c93b7b15f0f0",
   "metadata": {},
   "source": [
    "## While-Schleife\n",
    "\n",
    "In einer While Schleife wird ein Programmabschnit **so lange** wiederholt, bis die Bedingung nicht mehr erfüllt ist."
   ]
  },
  {
   "cell_type": "code",
   "execution_count": 49,
   "id": "8acadcef-2e7e-407e-b930-278654d8db0a",
   "metadata": {},
   "outputs": [
    {
     "name": "stdin",
     "output_type": "stream",
     "text": [
      "Beantworte die Frage mit Ja oder Nein (J/N):  n\n"
     ]
    },
    {
     "name": "stdout",
     "output_type": "stream",
     "text": [
      "Vielen Dank!\n"
     ]
    }
   ],
   "source": [
    "antwort = input('Beantworte die Frage mit Ja oder Nein (J/N): ')\n",
    "\n",
    "while antwort not in ['j', 'J', 'n', 'N']:\n",
    "    print('Eingabe ungültig!')\n",
    "    antwort = input('Beantworte die Frage mit Ja oder Nein (J/N): ')\n",
    "\n",
    "print('Vielen Dank!')"
   ]
  },
  {
   "cell_type": "markdown",
   "id": "ad7db93a-e977-44d2-9048-ec035d3eee8a",
   "metadata": {},
   "source": [
    "Hier sollte man ein wenig aufpassen, denn es kann passieren, dass man ausversehen eine Endlosschleife programmiert. Das bedeutet, der Code wird \"für immer\" den Codeabschnitt innerhalb der While-Schleife ausführen, was nicht erwünscht sein sollte, da man damit nur Probleme bekommt."
   ]
  },
  {
   "cell_type": "markdown",
   "id": "ddef8696-8fd4-4309-a269-08de6ea87152",
   "metadata": {},
   "source": [
    "___\n",
    "## Aufgabe 7: \n",
    "\n",
    "Schreibe ein Programm welches die Zahlen 1 bis 20 im Terminal ausgibt, ohne eine for Schleife zu verwenden."
   ]
  },
  {
   "cell_type": "code",
   "execution_count": 1,
   "id": "a51976b4-0150-45a9-84fb-71790a514ce8",
   "metadata": {
    "tags": []
   },
   "outputs": [],
   "source": [
    "#code here"
   ]
  },
  {
   "cell_type": "markdown",
   "id": "371bc238-dec0-4d64-9326-95e4ab8181ec",
   "metadata": {},
   "source": [
    "___\n",
    "## Aufgabe 8:\n",
    "\n",
    "Schreibe ein Programm, welches den Benutzer nach einer Zahl fragt und anschliessend prüft, ob diese Zahl eine Primzahl ist."
   ]
  },
  {
   "cell_type": "code",
   "execution_count": null,
   "id": "40e0427e-95d2-40bb-9099-ab5bede4d8b8",
   "metadata": {},
   "outputs": [],
   "source": [
    "# code here"
   ]
  },
  {
   "cell_type": "markdown",
   "id": "d6830bc5-f2be-4c85-8bf7-702ea068b84d",
   "metadata": {},
   "source": [
    "___\n",
    "## Aufgabe 9:\n",
    "\n",
    "Schreibe ein Programm das alle Fibonaccizahlen bis zu einer gewünschten Grenze des Benutzers ausgibt.\n",
    "https://www.abi-mathe.de/buch/grundlagen/fibonacci-folge/"
   ]
  },
  {
   "cell_type": "code",
   "execution_count": 2,
   "id": "b5897027-159f-43fc-977c-2921aefc781d",
   "metadata": {
    "tags": []
   },
   "outputs": [],
   "source": [
    "# Code here"
   ]
  },
  {
   "cell_type": "markdown",
   "id": "f0fd79ee-4a0e-49e6-a384-85946214414c",
   "metadata": {},
   "source": [
    "___\n",
    "## Aufgabe 10:\n",
    "\n",
    "Schreibe ein Programm das beim folgenden Text jedes Zeichen durchgeht und prüft ob es ein Vokal ist oder ein Konsonant. Am Ende soll die gesamte Anzahl der enthaltenen Vokale ausgegeben werden"
   ]
  },
  {
   "cell_type": "code",
   "execution_count": 1,
   "id": "fa24042f-6043-43c6-9c27-e8980a02fa65",
   "metadata": {
    "tags": []
   },
   "outputs": [],
   "source": [
    "vokale = ['a', 'e', 'i', 'o', 'u']\n",
    "text = '''Python ist wie der Gentleman unter den Programmiersprachen. Statt wild herumzuschreien und sich unkontrolliert zu verhalten, schlängelt er sich elegant durch den Code, als trüge er einen Monokel. Wenn andere Sprachen komplizierte Syntax und Schachtelungen benutzen, sagt Python: \"Lassen Sie uns das einfach halten, Schatz.\"\n",
    "Mit seinen leicht lesbaren Befehlen ist Python die Sprache, die Entwickler dazu verleitet, Kaffee zu trinken, statt frustriert auf den Bildschirm zu starren. Und wenn ein Fehler auftaucht, sagt Python nicht \"Ich bin enttäuscht\", sondern \"Keine Sorge, alter Freund, wir finden eine Lösung.\"\n",
    "Python ist der charmante Sprachheld, der alles leichter macht. Kein Wunder, dass Entwickler weltweit sich in seine sanfte Umarmung begeben. In der Welt des Codes ist Python der, der immer die Tür offen hält, und das mit einem Lächeln.\n",
    "'''\n",
    "zaehler_Der_Vokale = 0\n",
    "\n",
    "## code here"
   ]
  },
  {
   "cell_type": "markdown",
   "id": "ab0691ce-206e-4082-8501-4df97f2b020c",
   "metadata": {},
   "source": [
    "___\n",
    "## Aufgabe 11:\n",
    "\n",
    "Das Collatz-Problem gehört zu den ungelösten Problemen der Mathematik. Es besagt, dass jede Abfolge von Zahlen, welche nach der folgenden Regel gebildet wird, irgendwann bei der Zahl 1 landet:\n",
    "\n",
    "* Die Folge beginnt bei einer beliebigen Zahl.\n",
    "* Ist die momentane Zahl gerade, so ist die nächste Zahl die Hälfte von dieser, also `n/2`\n",
    "* Ist die momentane Zahl ungerade, so ist die nächste Zahl um eins grösser als das dreifache der Zahl, also `3*n + 1`\n",
    "\n",
    "\n",
    "Bilden wir beispielsweise für die Zahl `23` diese Folge, so lautet sie:\n",
    "```py\n",
    "23,70,35,106,53,160,80,40,20,10,5,16,8,4,2,1\n",
    "```\n",
    "\n",
    "Schreibe ein Programm, welches diese Folge für eine vom Benutzer gewählte Zahl ausgibt und mit der Berechnung stoppt, sobald 1 erreicht wurde."
   ]
  },
  {
   "cell_type": "code",
   "execution_count": 2,
   "id": "d12445fe-e390-4016-808c-84580521b204",
   "metadata": {
    "tags": []
   },
   "outputs": [],
   "source": [
    "#code here"
   ]
  },
  {
   "cell_type": "markdown",
   "id": "bc5a9674-1a76-4bcf-84c6-db1cbc955cc3",
   "metadata": {},
   "source": [
    "___\n",
    "## Aufgabe 12: Herausforderung - Übersetzung von Römischen Zahlen in Integers\n",
    "\n",
    "Römische Zahlen werden mit folgenden Ziffern angegeben: `I`, `V`, `X`, `L`, `C`, `D` und `M`.\n",
    "\n",
    "|Symbol|Wert|\n",
    "|--|--|\n",
    "|I|1|\n",
    "|V|5|\n",
    "|X|10|\n",
    "|L|50|\n",
    "|C|100|\n",
    "|D|500|\n",
    "|M|1000|\n",
    "```\n",
    "Beispiel 1: 2 wird im römischen als `II` geschrieben. \n",
    "Beispiel 3: 12 wird als `XII` geschrieben. Das ist einfach 10 + 2 also `X` + `I` + `I`\n",
    "```\n",
    "\n",
    "Römische Zahlen werden gemäß der Regeln vom höchsten Wert bis zum kleinsten Wert von links nach rechts geschrieben.\n",
    "Jedoch gibt es Ausnahmen:\n",
    "```\n",
    "I(1) wird vor V(5) gesetzt um eine 4(IV) zu reprersentieren.\n",
    "I(1) wird vor X(10) gesetzt um eine 9(IX) zu representieren.\n",
    "X(10) wird vor L(50) oder C(100) gesetzt um 40(XL) oder 90(XC) zu repräsentieren.\n",
    "C(100) kann vor D(500) und M(1000) gesetzt werden um 400(CD) oder 900(CM) zu repräsentieren.\n",
    "```\n",
    "Hier werden die kleinere Werte vor die größeren Werte gesetzt um zu zeigen, dass der kleine Wert von dem großen Wert subtrahiert werden soll.\n",
    "\n",
    "\n",
    "Aufgabe: Schreibe ein Programm dass jede beliebige römische Zahl in ein Integer konvertiert.\n",
    "\n",
    "* Tipp1: schaue dir die Methode replace() an. https://www.w3schools.com/python/ref_string_replace.asp. Versuche damit Zeichen wie `IV` oder `IX` zu übersetzen in `IIII` und `VIIII`\n",
    "* Tipp2: in der Code Zelle wird ein `Dictionary` vorgegeben. Dies ist ein neuer Datentyp den wir das nächste mal besprechen werden. https://www.w3schools.com/python/python_dictionaries.asp\n",
    "\n"
   ]
  },
  {
   "cell_type": "code",
   "execution_count": 5,
   "id": "e6b880a6-c9dc-4ac0-924a-16c3797ed3c3",
   "metadata": {
    "tags": []
   },
   "outputs": [],
   "source": [
    "übersetzung = {\n",
    "            \"I\": 1,\n",
    "            \"V\": 5,\n",
    "            \"X\": 10,\n",
    "            \"L\": 50,\n",
    "            \"C\": 100,\n",
    "            \"D\": 500,\n",
    "            \"M\": 1000\n",
    "        }\n",
    "\n",
    "roemische_Zahlen = ['XX', 'IV', 'CMLXXXVIII', 'XLV', 'MMMMCMXCIX']\n",
    "\n",
    "##Code here"
   ]
  }
 ],
 "metadata": {
  "kernelspec": {
   "display_name": "Python 3 (ipykernel)",
   "language": "python",
   "name": "python3"
  },
  "language_info": {
   "codemirror_mode": {
    "name": "ipython",
    "version": 3
   },
   "file_extension": ".py",
   "mimetype": "text/x-python",
   "name": "python",
   "nbconvert_exporter": "python",
   "pygments_lexer": "ipython3",
   "version": "3.11.4"
  }
 },
 "nbformat": 4,
 "nbformat_minor": 5
}
