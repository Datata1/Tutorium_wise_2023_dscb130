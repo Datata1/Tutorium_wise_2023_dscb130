{
 "cells": [
  {
   "cell_type": "markdown",
   "metadata": {},
   "source": [
    "# Tutorium Übung 4"
   ]
  },
  {
   "cell_type": "markdown",
   "metadata": {},
   "source": [
    "## Datenstrukturen\n",
    "\n",
    "Datenstrukturen sind wichtige Konzepte in der Programmierung, die es ermöglichen, Daten in organisierten Formen zu speichern, zu verarbeiten und zu verwalten. In Python gibt es einige grundlegende Datenstrukturen, die Anfänger kennen sollten: Listen, Dictionaries, Sets und Tupel.\n",
    "\n",
    "1. **Listen (Lists):**\n",
    "   - Eine Liste ist eine geordnete Sammlung von Elementen, die unterschiedliche Datentypen enthalten können.\n",
    "   - Listen werden in eckigen Klammern `[]` erstellt und die Elemente werden durch Kommata getrennt.\n",
    "   - Listen sind veränderbar, was bedeutet, dass Sie Elemente hinzufügen, ändern und entfernen können.\n",
    "\n",
    "   Beispiel:\n",
    "   ```python\n",
    "   meine_liste = [1, 2, 3, \"Hallo\", 4.5]\n",
    "   meine_liste.append(6)  # Ein Element hinzufügen\n",
    "   print(meine_liste)     # Ausgabe: [1, 2, 3, \"Hallo\", 4.5, 6]\n",
    "\n",
    "   # Leere Liste:\n",
    "   leer = []\n",
    "   # Oder:\n",
    "   leer = list()\n",
    "   ```\n",
    "\n",
    "2. **Dictionaries (Dicts):**\n",
    "   - Ein Dictionary ist eine Sammlung von Schlüssel-Wert-Paaren. Es ermöglicht den schnellen Zugriff auf Werte über eindeutige Schlüssel.\n",
    "   - Dictionaries werden in geschweiften Klammern `{}` erstellt, wobei Schlüssel und Werte durch einen Doppelpunkt `:` getrennt sind.\n",
    "\n",
    "   Beispiel:\n",
    "   ```python\n",
    "   mein_dict = {\"Name\": \"Max\", \"Alter\": 25, \"Stadt\": \"Berlin\"}\n",
    "   print(mein_dict[\"Name\"])  # Ausgabe: Max\n",
    "   \n",
    "   # Leeres Dictionary:\n",
    "   leer = {}\n",
    "   # Oder:\n",
    "   leer = dict()\n",
    "   ```\n",
    "\n",
    "3. **Sets:**\n",
    "   - Ein Set ist eine ungeordnete Sammlung von eindeutigen Elementen. Sets entfernen automatisch doppelte Einträge.\n",
    "   - Sets werden in geschweiften Klammern `{}` erstellt oder mit der Funktion `set()`.\n",
    "\n",
    "   Beispiel:\n",
    "   ```python\n",
    "   mein_set = {1, 2, 3, 2, 4}\n",
    "   print(mein_set)  # Ausgabe: {1, 2, 3, 4}\n",
    "\n",
    "   # Leeres Set:\n",
    "   leer = set()\n",
    "   # NICHT:\n",
    "   # leer = {}\n",
    "   # Das wäre ein Dictionary\n",
    "   ```\n",
    "\n",
    "4. **Tupel (Tuples):**\n",
    "   - Ein Tupel ist eine geordnete Sammlung von Elementen, ähnlich wie eine Liste, aber im Gegensatz zu Listen sind Tupel unveränderlich.\n",
    "   - Tupel werden in runden Klammern `()` erstellt.\n",
    "\n",
    "   Beispiel:\n",
    "   ```python\n",
    "   mein_tupel = (1, 2, 3)\n",
    "   # mein_tupel[0] = 5  # Dies würde einen Fehler verursachen, da Tupel unveränderlich sind.\n",
    "   ```\n",
    "\n",
    "Diese grundlegenden Datenstrukturen in Python können je nach Ihren Anforderungen verwendet werden. Listen sind vielseitig und flexibel, Dictionaries sind ideal für den Zugriff auf Werte über Schlüssel, Sets ermöglichen das Speichern eindeutiger Elemente, und Tupel bieten Unveränderlichkeit und Sicherheit vor unbeabsichtigten Änderungen. Es ist wichtig, diese Strukturen zu verstehen, um effektiv mit Daten in Python umgehen zu können."
   ]
  },
  {
   "cell_type": "markdown",
   "metadata": {},
   "source": [
    "### Aufgaben\n",
    "\n",
    "Zur Übung der Datenstrukturen sind hier ein paar Aufgaben"
   ]
  },
  {
   "cell_type": "code",
   "execution_count": null,
   "metadata": {},
   "outputs": [],
   "source": [
    "# TODO: Definiere eine Liste von deutschen Städten.\n",
    "# Verwende dann eine Schleife, um die einzelnen Elemente in der Liste so auszugeben:\n",
    "# \"<Stadt> ist eine Stadt in Deutschland.\"\n"
   ]
  },
  {
   "cell_type": "code",
   "execution_count": null,
   "metadata": {},
   "outputs": [],
   "source": [
    "# TODO: Definiere jetzt ein Dictionary, welches Städte zusammen mit ihrer Einwohnerzahl speichert\n",
    "# Verwende dann erneut eine Schleife, um die Städte mit ihren Einwohnerzahlen so auszugeben:\n",
    "# \"<Stadt> hat <Einwohnerzahl> Einwohner.\"\n"
   ]
  },
  {
   "cell_type": "code",
   "execution_count": null,
   "metadata": {},
   "outputs": [],
   "source": [
    "# TODO: Schreibe jetzt Code, der in einer Schleife immer wieder einen Input des Benutzers erwartet.\n",
    "# Alle Eingaben sollen in einer Liste gespeichert werden.\n",
    "# Wenn der eingegebene String noch nicht in der Liste enthalten ist, soll er zur Liste hinzugefügt werden.\n",
    "# Wenn der eingegebene String schon in der Liste enthalten ist, soll er allerdings nicht hinzugefügt werden.\n",
    "# Tipp: Frag Google, wie man herausfindet, ob ein Element schon in der Liste enthalten ist.\n",
    "# Nach jeder Eingabe soll der Inhalt der Liste ausgegeben werden.\n",
    "# WICHTIG: Füge auch ein, dass die Schleife beendet wird (break), wenn die Eingabe leer ist.\n",
    "# Sonst landest du in einer Endlosschleife.\n",
    "# Beispiel:\n",
    "# Out: []\n",
    "# In: Apfel\n",
    "# Out: [Apfel]\n",
    "# In: Apfel\n",
    "# Out: [Apfel]\n",
    "# In: Birne\n",
    "# Out: [Apfel, Birne]\n",
    "# In: \n",
    "# Out: [Apfel, Birne]\n",
    "# ENDE\n"
   ]
  },
  {
   "cell_type": "code",
   "execution_count": null,
   "metadata": {},
   "outputs": [],
   "source": [
    "# TODO: Um den Vorteil von Sets zu verdeutlichen, schreibe jetzt das Programm oben neu.\n",
    "# Verwende jetzt statt einer Liste ein Set.\n",
    "# Hinweis: Sets können automatisch jedes Element nur ein mal enthalten\n"
   ]
  },
  {
   "cell_type": "markdown",
   "metadata": {},
   "source": [
    "## Funktionen\n",
    "\n",
    "In Python sind Funktionen eine Möglichkeit, um eine Gruppe von Anweisungen oder Operationen zu organisieren und sie wiederverwendbar zu machen. Sie sind wie kleine Programme innerhalb Ihres größeren Programms und helfen dabei, den Code zu strukturieren und zu vereinfachen. Hier ist eine grundlegende Erklärung, wie Funktionen in Python funktionieren:\n",
    "\n",
    "1. **Funktionen erstellen:**\n",
    "   Sie können eine Funktion erstellen, indem Sie das Schlüsselwort `def` (kurz für \"define\", was \"definieren\" bedeutet) gefolgt von einem Funktionsnamen und den Klammern `()` verwenden. Innerhalb dieser Klammern können Sie auch Parameter angeben, die der Funktion übergeben werden können.\n",
    "\n",
    "   ```python\n",
    "   def meine_funktion(parameter1, parameter2):\n",
    "       # Hier folgen Anweisungen, die von der Funktion ausgeführt werden.\n",
    "   ```\n",
    "\n",
    "2. **Funktionsaufruf:**\n",
    "   Um eine Funktion auszuführen, rufen Sie sie einfach auf, indem Sie ihren Namen gefolgt von Klammern verwenden. Sie können dabei auch Argumente (Werte) an die Funktion übergeben.\n",
    "\n",
    "   ```python\n",
    "   meine_funktion(wert1, wert2)\n",
    "   ```\n",
    "\n",
    "3. **Parameter und Argumente:**\n",
    "   Parameter sind Platzhalter in der Funktionsdefinition, die Werte erwarten. Argumente sind die tatsächlichen Werte, die Sie der Funktion beim Aufruf übergeben. In obigem Beispiel sind `parameter1` und `parameter2` die Parameter, während `wert1` und `wert2` die Argumente sind.\n",
    "\n",
    "4. **Rückgabewert:**\n",
    "   Funktionen können auch einen Wert zurückgeben, indem sie das Schlüsselwort `return` verwenden. Dieser Wert kann in der aufrufenden Stelle gespeichert oder weiterverwendet werden.\n",
    "\n",
    "   ```python\n",
    "   def addiere(zahl1, zahl2):\n",
    "       ergebnis = zahl1 + zahl2\n",
    "       return ergebnis\n",
    "\n",
    "   summe = addiere(5, 3)\n",
    "   ```\n",
    "\n",
    "5. **Funktionsstruktur:**\n",
    "   Funktionen können beliebige Anweisungen enthalten, einschließlich Verzweigungen (`if`), Schleifen (`for`, `while`) und andere Funktionen. Sie können so komplex sein, wie es die Aufgabe erfordert.\n",
    "\n",
    "6. **Wiederverwendbarkeit:**\n",
    "   Der große Vorteil von Funktionen besteht darin, dass Sie denselben Code an verschiedenen Stellen in Ihrem Programm verwenden können, ohne ihn mehrfach schreiben zu müssen.\n"
   ]
  },
  {
   "cell_type": "markdown",
   "metadata": {},
   "source": [
    "### Aufgaben\n",
    "\n",
    "Zur Übung con Funktionen sind hier ein paar Aufgaben"
   ]
  },
  {
   "cell_type": "code",
   "execution_count": null,
   "metadata": {},
   "outputs": [],
   "source": [
    "# TODO: Zuerst _ohne_ Funktionen:\n",
    "# Schreibe code, der über die Liste unten iteriert.\n",
    "# Für jedes Element, soll das Element so formatiert ausgegeben werden:\n",
    "# \"<Element> hat <Zeichen> Zeichen.\"\n",
    "# z.B. \"Apfel hat 5 Zeichen.\"\n",
    "# Außerdem soll gleichzeitig ein Dictionary erstellt werden,\n",
    "# welches jeweils das Element als Key und die Länge des Elements als Value speichert.\n",
    "# Am Ende des Codes soll dann nochmal das gesamte Dictionary ausgegeben werden\n",
    "\n",
    "liste_1 = [\"Apfel\", \"Birne\", \"Banane\", \"Backstein\", \"Elefant\", \"Ameise\"]\n",
    "wort_laengen = dict()\n"
   ]
  },
  {
   "cell_type": "code",
   "execution_count": null,
   "metadata": {},
   "outputs": [],
   "source": [
    "# TODO: Schreibe den gleichen Code jetzt nochmal für die beiden Listen unten aus:\n",
    "\n",
    "liste_2 = [\"Alpha\", \"Beta\", \"Gamma\", \"Delta\"]\n",
    "liste_3 = [\"Merkur\", \"Venus\", \"Erde\", \"Mars\", \"Jupiter\", \"Saturn\", \"Uranus\", \"Neptun\"]\n"
   ]
  },
  {
   "cell_type": "code",
   "execution_count": null,
   "metadata": {},
   "outputs": [],
   "source": [
    "# Vielleicht ist dir aufgefallen, dass du für die Aufgabe Code kopieren musstest.\n",
    "# Das macht unseren Code größer, ohne tatsächlich neuen Code hinzuzufügen.\n",
    "# Außerdem müsste man, wenn man etwas Ändern möchte, die Änderung an jeder Stelle durchführen.\n",
    "# TODO: Deshalb sollst du den Code jetzt nochmal mit einer Funktion realisieren.\n",
    "\n",
    "def zeichen_laengen(liste):\n",
    "    wort_laengen = dict()\n",
    "    # TODO: Hier soll dein angepasster Code jetzt rein, der das gleiche wie oben macht.\n"
   ]
  },
  {
   "cell_type": "code",
   "execution_count": null,
   "metadata": {},
   "outputs": [],
   "source": [
    "# TODO: Rufe deine Funktion jetzt nochmal für alle drei Listen auf.\n"
   ]
  },
  {
   "cell_type": "markdown",
   "metadata": {},
   "source": [
    "#### Aufgabe: Schreibe eine Python-Funktion, die überprüft, ob eine gegebene Zahl eine Primzahl ist.\n",
    "\n",
    "Beschreibung:\n",
    "Eine Primzahl ist eine natürliche Zahl größer als 1, die nur durch 1 und sich selbst ohne Rest geteilt werden kann. Schreibe eine Python-Funktion mit dem Namen `ist_primzahl`, die überprüft, ob eine gegebene positive Ganzzahl eine Primzahl ist.\n",
    "\n",
    "Deine Funktion sollte einen Parameter \"zahl\" akzeptieren und True zurückgeben, wenn die Zahl eine Primzahl ist, andernfalls sollte sie False zurückgeben.\n",
    "\n",
    "Verwende eine Schleife, um zu überprüfen, ob die Zahl durch andere Zahlen (außer 1 und sich selbst) ohne Rest teilbar ist. Wenn die Zahl durch eine andere Zahl ohne Rest teilbar ist, ist sie keine Primzahl.\n",
    "\n",
    "Beispiel:\n",
    "```python\n",
    "def ist_primzahl(zahl):\n",
    "    # Implementiere hier den Code, um zu überprüfen, ob \"zahl\" eine Primzahl ist.\n",
    "    pass\n",
    "\n",
    "# Teste die Funktion mit verschiedenen Zahlen\n",
    "print(ist_primzahl(7))   # True\n",
    "print(ist_primzahl(12))  # False\n",
    "print(ist_primzahl(29))  # True\n",
    "```\n",
    "\n",
    "Erwartete Ausgabe:\n",
    "```\n",
    "True\n",
    "False\n",
    "True\n",
    "```\n"
   ]
  },
  {
   "cell_type": "code",
   "execution_count": null,
   "metadata": {},
   "outputs": [],
   "source": [
    "def ist_primzahl(zahl):\n",
    "    # TODO: Hier dein Code\n",
    "    pass"
   ]
  },
  {
   "cell_type": "code",
   "execution_count": null,
   "metadata": {},
   "outputs": [],
   "source": [
    "# Diesen Code kannst du zum Testen der Primzahlen unter 100 verwenden:\n",
    "# Wenn deine Funktion richtig ist, sollte hier kein Fehler sein\n",
    "prim_100 = [2, 3, 5, 7, 11, 13, 17, 19, 23, 29, 31, 37, 41, 43, 47, 53, 59, 61, 67, 71, 73, 79, 83, 89, 97]\n",
    "for i in range(1, 100):\n",
    "    print(i)\n",
    "    if i in prim_100:\n",
    "        assert ist_primzahl(i)\n",
    "    else:\n",
    "        assert not ist_primzahl(i)\n"
   ]
  },
  {
   "cell_type": "markdown",
   "metadata": {},
   "source": [
    "#### Aufgabe: Schreibe eine Python-Funktion, um die Anzahl der Vokale in einem gegebenen Text zu zählen und diese Anzahl zurückzugeben.\n",
    "\n",
    "Beschreibung:\n",
    "Schreibe eine Python-Funktion mit dem Namen `anzahl_vokale`, die die Anzahl der Vokale in einem gegebenen Text zählt und diese Anzahl als Rückgabewert zurückgibt. In dieser Aufgabe betrachten wir die Vokale \"A\", \"E\", \"I\", \"O\" und \"U\" (Groß- und Kleinbuchstaben).\n",
    "\n",
    "Tipp: Erstelle eine Liste mit allen kleinen Vokalen, so kannst du überprüfen, ob ein Zeichen in `lower()` in dieser Liste enthalten ist.\n",
    "\n",
    "```python\n",
    "# Beispiel\n",
    "\"a\".lower() in [\"a\", \"e\", \"i\", \"o\", \"u\"] # True\n",
    "\"A\".lower() in [\"a\", \"e\", \"i\", \"o\", \"u\"] # True\n",
    "\"b\".lower() in [\"a\", \"e\", \"i\", \"o\", \"u\"] # False\n",
    "```\n",
    "\n",
    "Die Funktion sollte einen Parameter `text` akzeptieren und die Anzahl der Vokale im Text zählen, unabhängig von Groß- und Kleinschreibung.\n",
    "\n",
    "Beispiel:\n",
    "```python\n",
    "def anzahl_vokale(text):\n",
    "    # Implementiere hier den Code, um die Anzahl der Vokale im \"text\" zu zählen.\n",
    "    pass\n",
    "\n",
    "# Teste die Funktion mit verschiedenen Texten\n",
    "text1 = \"Hallo, wie geht es dir?\"\n",
    "text2 = \"Python ist großartig!\"\n",
    "anzahl1 = anzahl_vokale(text1)\n",
    "anzahl2 = anzahl_vokale(text2)\n",
    "print(anzahl1)  # Erwartete Ausgabe: 10 (5 Vokale in \"Hallo, wie geht es dir?\")\n",
    "print(anzahl2)  # Erwartete Ausgabe: 10 (5 Vokale in \"OpenAI ist großartig!\")\n",
    "```\n",
    "\n",
    "In dieser Aufgabe ist es wichtig, eine Schleife zu verwenden, um jeden Buchstaben im Text zu überprüfen, ob er ein Vokal ist, und die Anzahl der Vokale zu zählen. Schließlich soll die Funktion die Anzahl der gefundenen Vokale mithilfe des `return`-Befehls zurückgeben."
   ]
  },
  {
   "cell_type": "code",
   "execution_count": null,
   "metadata": {},
   "outputs": [],
   "source": [
    "# TODO: Hier dein Code\n",
    "def anzahl_vokale(text):\n",
    "    # Implementiere hier den Code, um die Anzahl der Vokale im \"text\" zu zählen.\n",
    "    pass"
   ]
  },
  {
   "cell_type": "code",
   "execution_count": null,
   "metadata": {},
   "outputs": [],
   "source": [
    "# Teste die Funktion mit verschiedenen Texten\n",
    "\n",
    "text1 = \"Hallo, wie geht es dir?\"\n",
    "anzahl1 = anzahl_vokale(text1)\n",
    "print(anzahl1)  # Erwartete Ausgabe: 7\n",
    "\n",
    "text2 = \"Python ist großartig!\"\n",
    "anzahl2 = anzahl_vokale(text2)\n",
    "print(anzahl2)  # Erwartete Ausgabe: 5"
   ]
  },
  {
   "cell_type": "markdown",
   "metadata": {},
   "source": [
    "#### Aufgabe: Schreibe eine Python-Funktion, die eine einfache Textanalyse durchführt, um das am häufigsten verwendete Wort in einem Text zu ermitteln.\n",
    "\n",
    "Beschreibung:\n",
    "Schreibe eine Python-Funktion mit dem Namen `haeufigstes_wort`, die einen Text akzeptiert und das am häufigsten verwendete Wort im Text sowie dessen Häufigkeit zurückgibt.\n",
    "Wurden mehrere Wörter gleich oft verwendet, sollen all diese Wörter zurückgegeben werden.\n",
    "Daher soll eine Liste mit einem oder mehreren Strings das Ergebnis sein.\n",
    "\n",
    "\n",
    "Beispiel:\n",
    "```python\n",
    "def haeufigstes_wort(text):\n",
    "    # Implementiere hier den Code, um die am häufigsten verwendeten Wörter im \"text\" zu ermitteln.\n",
    "    pass\n",
    "\n",
    "# Teste die Funktion mit einem Text\n",
    "text = \"Das ist ein einfacher Test. Ein einfacher Test. ist das Dieser Text ist ein Beispiel.\"\n",
    "haeufigstes = haeufigstes_wort(text)\n",
    "print(haeufigstes)\n",
    "```\n",
    "\n",
    "Erwartete Ausgabe:\n",
    "```\n",
    "[\"ist\"]\n",
    "```\n",
    "\n",
    "In dieser Aufgabe musst du den Text analysieren, Wörter zählen und die Liste der am häufigsten verwendeten Wörter und ihrer Häufigkeit zurückgeben.\n",
    "Du kannst die Textmanipulation und -analyse in Python nutzen, um diese Aufgabe zu lösen."
   ]
  },
  {
   "cell_type": "code",
   "execution_count": null,
   "metadata": {},
   "outputs": [],
   "source": [
    "# TODO: Schreibe zunächst eine Helferfunktion, um alle Sonderzeichen aus dem Text zu entfernen.\n",
    "def entferne_sonderzeichen(text):\n",
    "    # Implementiere hier deinen Code\n",
    "    pass"
   ]
  },
  {
   "cell_type": "markdown",
   "metadata": {},
   "source": [
    "Tipps:\n",
    "Einige hilfreiche python Funktionen sind [split](https://python-reference.readthedocs.io/en/latest/docs/str/split.html), [max](https://python-reference.readthedocs.io/en/latest/docs/functions/max.html), [items](https://python-reference.readthedocs.io/en/latest/docs/dict/items.html), [keys](https://python-reference.readthedocs.io/en/latest/docs/dict/keys.html) und [values](https://python-reference.readthedocs.io/en/latest/docs/dict/values.html)."
   ]
  },
  {
   "cell_type": "code",
   "execution_count": null,
   "metadata": {},
   "outputs": [],
   "source": [
    "# TODO: Hier dein Code\n",
    "def haeufigstes_wort(text):\n",
    "    # Implementiere hier den Code, um die am häufigsten verwendeten Wörter im \"text\" zu ermitteln.\n",
    "    text_bereinigt = entferne_sonderzeichen(text)\n",
    "\n",
    "    # Speichere in wort_haeufigkeit die Wörter als Keys und die Häufigkeiten als Values\n",
    "    # Iteriere dafür über die Wörter im bereinigten Text mit text_bereinigt.split(\" \").\n",
    "    wort_haeufigkeit = {}\n",
    "\n",
    "    pass"
   ]
  }
 ],
 "metadata": {
  "kernelspec": {
   "display_name": "base",
   "language": "python",
   "name": "python3"
  },
  "language_info": {
   "codemirror_mode": {
    "name": "ipython",
    "version": 3
   },
   "file_extension": ".py",
   "mimetype": "text/x-python",
   "name": "python",
   "nbconvert_exporter": "python",
   "pygments_lexer": "ipython3",
   "version": "3.10.9"
  },
  "orig_nbformat": 4
 },
 "nbformat": 4,
 "nbformat_minor": 2
}
