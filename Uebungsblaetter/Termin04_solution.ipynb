{
 "cells": [
  {
   "cell_type": "markdown",
   "metadata": {},
   "source": [
    "# Tutorium Übung 4"
   ]
  },
  {
   "cell_type": "markdown",
   "metadata": {},
   "source": [
    "## Datenstrukturen\n",
    "\n",
    "Datenstrukturen sind wichtige Konzepte in der Programmierung, die es ermöglichen, Daten in organisierten Formen zu speichern, zu verarbeiten und zu verwalten. In Python gibt es einige grundlegende Datenstrukturen, die Anfänger kennen sollten: Listen, Dictionaries, Sets und Tupel.\n",
    "\n",
    "1. **Listen (Lists):**\n",
    "   - Eine Liste ist eine geordnete Sammlung von Elementen, die unterschiedliche Datentypen enthalten können.\n",
    "   - Listen werden in eckigen Klammern `[]` erstellt und die Elemente werden durch Kommata getrennt.\n",
    "   - Listen sind veränderbar, was bedeutet, dass Sie Elemente hinzufügen, ändern und entfernen können.\n",
    "\n",
    "   Beispiel:\n",
    "   ```python\n",
    "   meine_liste = [1, 2, 3, \"Hallo\", 4.5]\n",
    "   meine_liste.append(6)  # Ein Element hinzufügen\n",
    "   print(meine_liste)     # Ausgabe: [1, 2, 3, \"Hallo\", 4.5, 6]\n",
    "\n",
    "   # Leere Liste:\n",
    "   leer = []\n",
    "   # Oder:\n",
    "   leer = list()\n",
    "   ```\n",
    "\n",
    "2. **Dictionaries (Dicts):**\n",
    "   - Ein Dictionary ist eine Sammlung von Schlüssel-Wert-Paaren. Es ermöglicht den schnellen Zugriff auf Werte über eindeutige Schlüssel.\n",
    "   - Dictionaries werden in geschweiften Klammern `{}` erstellt, wobei Schlüssel und Werte durch einen Doppelpunkt `:` getrennt sind.\n",
    "\n",
    "   Beispiel:\n",
    "   ```python\n",
    "   mein_dict = {\"Name\": \"Max\", \"Alter\": 25, \"Stadt\": \"Berlin\"}\n",
    "   print(mein_dict[\"Name\"])  # Ausgabe: Max\n",
    "   \n",
    "   # Leeres Dictionary:\n",
    "   leer = {}\n",
    "   # Oder:\n",
    "   leer = dict()\n",
    "   ```\n",
    "\n",
    "3. **Sets:**\n",
    "   - Ein Set ist eine ungeordnete Sammlung von eindeutigen Elementen. Sets entfernen automatisch doppelte Einträge.\n",
    "   - Sets werden in geschweiften Klammern `{}` erstellt oder mit der Funktion `set()`.\n",
    "\n",
    "   Beispiel:\n",
    "   ```python\n",
    "   mein_set = {1, 2, 3, 2, 4}\n",
    "   print(mein_set)  # Ausgabe: {1, 2, 3, 4}\n",
    "\n",
    "   # Leeres Set:\n",
    "   leer = set()\n",
    "   # NICHT:\n",
    "   # leer = {}\n",
    "   # Das wäre ein Dictionary\n",
    "   ```\n",
    "\n",
    "4. **Tupel (Tuples):**\n",
    "   - Ein Tupel ist eine geordnete Sammlung von Elementen, ähnlich wie eine Liste, aber im Gegensatz zu Listen sind Tupel unveränderlich.\n",
    "   - Tupel werden in runden Klammern `()` erstellt.\n",
    "\n",
    "   Beispiel:\n",
    "   ```python\n",
    "   mein_tupel = (1, 2, 3)\n",
    "   # mein_tupel[0] = 5  # Dies würde einen Fehler verursachen, da Tupel unveränderlich sind.\n",
    "   ```\n",
    "\n",
    "Diese grundlegenden Datenstrukturen in Python können je nach Ihren Anforderungen verwendet werden. Listen sind vielseitig und flexibel, Dictionaries sind ideal für den Zugriff auf Werte über Schlüssel, Sets ermöglichen das Speichern eindeutiger Elemente, und Tupel bieten Unveränderlichkeit und Sicherheit vor unbeabsichtigten Änderungen. Es ist wichtig, diese Strukturen zu verstehen, um effektiv mit Daten in Python umgehen zu können."
   ]
  },
  {
   "cell_type": "markdown",
   "metadata": {},
   "source": [
    "### Aufgaben\n",
    "\n",
    "Zur Übung der Datenstrukturen sind hier ein paar Aufgaben"
   ]
  },
  {
   "cell_type": "code",
   "execution_count": 1,
   "metadata": {},
   "outputs": [
    {
     "name": "stdout",
     "output_type": "stream",
     "text": [
      "Aachen ist eine Stadt in Deutschland.\n",
      "Berlin ist eine Stadt in Deutschland.\n",
      "Cottbus ist eine Stadt in Deutschland.\n",
      "Dortmund ist eine Stadt in Deutschland.\n",
      "Erfurt ist eine Stadt in Deutschland.\n"
     ]
    }
   ],
   "source": [
    "# TODO: Definiere eine Liste von deutschen Städten.\n",
    "# Verwende dann eine Schleife, um die einzelnen Elemente in der Liste so auszugeben:\n",
    "# \"<Stadt> ist eine Stadt in Deutschland.\"\n",
    "staedte = [\"Aachen\", \"Berlin\", \"Cottbus\", \"Dortmund\", \"Erfurt\"]\n",
    "for stadt in staedte:\n",
    "    print(f\"{stadt} ist eine Stadt in Deutschland.\")"
   ]
  },
  {
   "cell_type": "code",
   "execution_count": 2,
   "metadata": {},
   "outputs": [
    {
     "name": "stdout",
     "output_type": "stream",
     "text": [
      "Aachen hat 100000 Einwohner.\n",
      "Bielefeld hat 0 Einwohner.\n",
      "Cottbus hat 4 Einwohner.\n",
      "Dortmund hat 100000000 Einwohner.\n",
      "Erfurt hat 17 Einwohner.\n"
     ]
    }
   ],
   "source": [
    "# TODO: Definiere jetzt ein Dictionary, welches Städte zusammen mit ihrer\n",
    "# Einwohnerzahl speichert (die Zahlen müssen nicht stimmen.)\n",
    "# Verwende dann erneut eine Schleife, um die Städte mit ihren Einwohnerzahlen so auszugeben:\n",
    "# \"<Stadt> hat <Einwohnerzahl> Einwohner.\"\n",
    "# Tipp: um über eine Dictionary zu iterieren kannst du:\n",
    "# for key, value in dictionary.items()\n",
    "# verwenden.\n",
    "staedte_einwohner = {\n",
    "    \"Aachen\": 100000,\n",
    "    \"Bielefeld\": 0,\n",
    "    \"Cottbus\": 4,\n",
    "    \"Dortmund\": 100000000,\n",
    "    \"Erfurt\": 17\n",
    "}\n",
    "\n",
    "for stadt, einwohner in staedte_einwohner.items():\n",
    "    print(f\"{stadt} hat {einwohner} Einwohner.\")\n"
   ]
  },
  {
   "cell_type": "code",
   "execution_count": 7,
   "metadata": {},
   "outputs": [],
   "source": [
    "# TODO: Schreibe jetzt Code, der in einer Schleife immer wieder einen Input des Benutzers erwartet.\n",
    "# Alle Eingaben sollen in einer Liste gespeichert werden.\n",
    "# Wenn der eingegebene String noch nicht in der Liste enthalten ist, soll er zur Liste hinzugefügt werden.\n",
    "# Wenn der eingegebene String schon in der Liste enthalten ist, soll er allerdings nicht hinzugefügt werden.\n",
    "# Tipp: Frag Google, wie man herausfindet, ob ein Element schon in der Liste enthalten ist.\n",
    "# Nach jeder Eingabe soll der Inhalt der Liste ausgegeben werden.\n",
    "# WICHTIG: Füge auch ein, dass die Schleife beendet wird (break), wenn die Eingabe leer ist.\n",
    "# Sonst landest du in einer Endlosschleife.\n",
    "# Beispiel:\n",
    "# Out: []\n",
    "# In: Apfel\n",
    "# Out: [Apfel]\n",
    "# In: Apfel\n",
    "# Out: [Apfel]\n",
    "# In: Birne\n",
    "# Out: [Apfel, Birne]\n",
    "# In: \n",
    "# Out: [Apfel, Birne]\n",
    "# ENDE\n",
    "\n",
    "woerter = []\n",
    "while True:\n",
    "    eingabe = input(\"Wort hinzufügen: \")\n",
    "    if eingabe == \"\":\n",
    "        break\n",
    "    if eingabe not in woerter:\n",
    "        woerter.append(eingabe)\n",
    "    print(woerter)\n"
   ]
  },
  {
   "cell_type": "code",
   "execution_count": 9,
   "metadata": {},
   "outputs": [
    {
     "name": "stdout",
     "output_type": "stream",
     "text": [
      "{'Apfel'}\n",
      "{'Banane', 'Apfel'}\n",
      "{'Banane', 'Apfel'}\n"
     ]
    }
   ],
   "source": [
    "# TODO: Um den Vorteil von Sets zu verdeutlichen, schreibe jetzt das Programm oben neu.\n",
    "# Verwende jetzt statt einer Liste ein Set.\n",
    "# Hinweis: Sets können automatisch jedes Element nur ein mal enthalten\n",
    "woerter = set()\n",
    "while True:\n",
    "    eingabe = input(\"Wort hinzufügen: \")\n",
    "    if eingabe == \"\":\n",
    "        break\n",
    "    woerter.add(eingabe)\n",
    "    print(woerter)"
   ]
  },
  {
   "cell_type": "markdown",
   "metadata": {},
   "source": [
    "## Funktionen\n",
    "\n",
    "In Python sind Funktionen eine Möglichkeit, um eine Gruppe von Anweisungen oder Operationen zu organisieren und sie wiederverwendbar zu machen. Sie sind wie kleine Programme innerhalb Ihres größeren Programms und helfen dabei, den Code zu strukturieren und zu vereinfachen. Hier ist eine grundlegende Erklärung, wie Funktionen in Python funktionieren:\n",
    "\n",
    "1. **Funktionen erstellen:**\n",
    "   Sie können eine Funktion erstellen, indem Sie das Schlüsselwort `def` (kurz für \"define\", was \"definieren\" bedeutet) gefolgt von einem Funktionsnamen und den Klammern `()` verwenden. Innerhalb dieser Klammern können Sie auch Parameter angeben, die der Funktion übergeben werden können.\n",
    "\n",
    "   ```python\n",
    "   def meine_funktion(parameter1, parameter2):\n",
    "       # Hier folgen Anweisungen, die von der Funktion ausgeführt werden.\n",
    "   ```\n",
    "\n",
    "2. **Funktionsaufruf:**\n",
    "   Um eine Funktion auszuführen, rufen Sie sie einfach auf, indem Sie ihren Namen gefolgt von Klammern verwenden. Sie können dabei auch Argumente (Werte) an die Funktion übergeben.\n",
    "\n",
    "   ```python\n",
    "   meine_funktion(wert1, wert2)\n",
    "   ```\n",
    "\n",
    "3. **Parameter und Argumente:**\n",
    "   Parameter sind Platzhalter in der Funktionsdefinition, die Werte erwarten. Argumente sind die tatsächlichen Werte, die Sie der Funktion beim Aufruf übergeben. In obigem Beispiel sind `parameter1` und `parameter2` die Parameter, während `wert1` und `wert2` die Argumente sind.\n",
    "\n",
    "4. **Rückgabewert:**\n",
    "   Funktionen können auch einen Wert zurückgeben, indem sie das Schlüsselwort `return` verwenden. Dieser Wert kann in der aufrufenden Stelle gespeichert oder weiterverwendet werden.\n",
    "\n",
    "   ```python\n",
    "   def addiere(zahl1, zahl2):\n",
    "       ergebnis = zahl1 + zahl2\n",
    "       return ergebnis\n",
    "\n",
    "   summe = addiere(5, 3)\n",
    "   ```\n",
    "\n",
    "5. **Funktionsstruktur:**\n",
    "   Funktionen können beliebige Anweisungen enthalten, einschließlich Verzweigungen (`if`), Schleifen (`for`, `while`) und andere Funktionen. Sie können so komplex sein, wie es die Aufgabe erfordert.\n",
    "\n",
    "6. **Wiederverwendbarkeit:**\n",
    "   Der große Vorteil von Funktionen besteht darin, dass Sie denselben Code an verschiedenen Stellen in Ihrem Programm verwenden können, ohne ihn mehrfach schreiben zu müssen.\n"
   ]
  },
  {
   "cell_type": "markdown",
   "metadata": {},
   "source": [
    "### Aufgaben\n",
    "\n",
    "Zur Übung con Funktionen sind hier ein paar Aufgaben"
   ]
  },
  {
   "cell_type": "code",
   "execution_count": 12,
   "metadata": {},
   "outputs": [
    {
     "name": "stdout",
     "output_type": "stream",
     "text": [
      "Banane hat 6 Zeichen.\n",
      "Elefant hat 7 Zeichen.\n",
      "Birne hat 5 Zeichen.\n",
      "Backstein hat 9 Zeichen.\n",
      "Ameise hat 6 Zeichen.\n",
      "Apfel hat 5 Zeichen.\n",
      "{'Banane': 6, 'Elefant': 7, 'Birne': 5, 'Backstein': 9, 'Ameise': 6, 'Apfel': 5}\n"
     ]
    }
   ],
   "source": [
    "# TODO: Zuerst _ohne_ Funktionen:\n",
    "# Schreibe code, der über das Set unten iteriert.\n",
    "# Für jedes Element, soll das Element so formatiert ausgegeben werden:\n",
    "# \"<Element> hat <Zeichen> Zeichen.\"\n",
    "# z.B. \"Apfel hat 5 Zeichen.\"\n",
    "# Außerdem soll gleichzeitig ein Dictionary erstellt werden,\n",
    "# welches jeweils das Element als Key und die Länge des Elements als Value speichert.\n",
    "# Am Ende des Codes soll dann nochmal das gesamte Dictionary ausgegeben werden\n",
    "\n",
    "set_1 = {\"Apfel\", \"Birne\", \"Banane\", \"Backstein\", \"Elefant\", \"Ameise\"}\n",
    "wort_laengen = dict()\n",
    "\n",
    "for wort in set_1:\n",
    "    wort_laenge = len(wort)\n",
    "    print(f\"{wort} hat {wort_laenge} Zeichen.\")\n",
    "    wort_laengen[wort] = wort_laenge\n",
    "print(wort_laengen)"
   ]
  },
  {
   "cell_type": "code",
   "execution_count": 14,
   "metadata": {},
   "outputs": [
    {
     "name": "stdout",
     "output_type": "stream",
     "text": [
      "Alpha hat 5 Zeichen.\n",
      "Delta hat 5 Zeichen.\n",
      "Beta hat 4 Zeichen.\n",
      "Gamma hat 5 Zeichen.\n",
      "{'Banane': 6, 'Elefant': 7, 'Birne': 5, 'Backstein': 9, 'Ameise': 6, 'Apfel': 5, 'Alpha': 5, 'Delta': 5, 'Beta': 4, 'Gamma': 5}\n",
      "Neptun hat 6 Zeichen.\n",
      "Erde hat 4 Zeichen.\n",
      "Uranus hat 6 Zeichen.\n",
      "Merkur hat 6 Zeichen.\n",
      "Jupiter hat 7 Zeichen.\n",
      "Venus hat 5 Zeichen.\n",
      "Saturn hat 6 Zeichen.\n",
      "Mars hat 4 Zeichen.\n",
      "{'Banane': 6, 'Elefant': 7, 'Birne': 5, 'Backstein': 9, 'Ameise': 6, 'Apfel': 5, 'Alpha': 5, 'Delta': 5, 'Beta': 4, 'Gamma': 5, 'Neptun': 6, 'Erde': 4, 'Uranus': 6, 'Merkur': 6, 'Jupiter': 7, 'Venus': 5, 'Saturn': 6, 'Mars': 4}\n"
     ]
    }
   ],
   "source": [
    "# TODO: Schreibe den gleichen Code jetzt nochmal für die beiden Sets unten aus:\n",
    "\n",
    "set_2 = {\"Alpha\", \"Beta\", \"Gamma\", \"Delta\"}\n",
    "for wort in set_2:\n",
    "    wort_laenge = len(wort)\n",
    "    print(f\"{wort} hat {wort_laenge} Zeichen.\")\n",
    "    wort_laengen[wort] = wort_laenge\n",
    "print(wort_laengen)\n",
    "\n",
    "set_3 = {\"Merkur\", \"Venus\", \"Erde\", \"Mars\", \"Jupiter\", \"Saturn\", \"Uranus\", \"Neptun\"}\n",
    "for wort in set_3:\n",
    "    wort_laenge = len(wort)\n",
    "    print(f\"{wort} hat {wort_laenge} Zeichen.\")\n",
    "    wort_laengen[wort] = wort_laenge\n",
    "print(wort_laengen)"
   ]
  },
  {
   "cell_type": "code",
   "execution_count": 15,
   "metadata": {},
   "outputs": [],
   "source": [
    "# Vielleicht ist dir aufgefallen, dass du für die Aufgabe Code kopieren musstest.\n",
    "# Das macht unseren Code größer, ohne tatsächlich neuen Code hinzuzufügen.\n",
    "# Außerdem müsste man, wenn man etwas Ändern möchte, die Änderung an jeder Stelle durchführen.\n",
    "# TODO: Deshalb sollst du den Code jetzt nochmal mit einer Funktion realisieren.\n",
    "\n",
    "def zeichen_laengen(input_set):\n",
    "    wort_laengen = dict()\n",
    "    # TODO: Hier soll dein angepasster Code jetzt rein, der das gleiche wie oben macht.\n",
    "    for wort in input_set:\n",
    "        wort_laenge = len(wort)\n",
    "        print(f\"{wort} hat {wort_laenge} Zeichen.\")\n",
    "        wort_laengen[wort] = wort_laenge\n",
    "    print(wort_laengen)"
   ]
  },
  {
   "cell_type": "code",
   "execution_count": 16,
   "metadata": {},
   "outputs": [
    {
     "name": "stdout",
     "output_type": "stream",
     "text": [
      "Banane hat 6 Zeichen.\n",
      "Elefant hat 7 Zeichen.\n",
      "Birne hat 5 Zeichen.\n",
      "Backstein hat 9 Zeichen.\n",
      "Ameise hat 6 Zeichen.\n",
      "Apfel hat 5 Zeichen.\n",
      "{'Banane': 6, 'Elefant': 7, 'Birne': 5, 'Backstein': 9, 'Ameise': 6, 'Apfel': 5}\n",
      "Alpha hat 5 Zeichen.\n",
      "Delta hat 5 Zeichen.\n",
      "Beta hat 4 Zeichen.\n",
      "Gamma hat 5 Zeichen.\n",
      "{'Alpha': 5, 'Delta': 5, 'Beta': 4, 'Gamma': 5}\n",
      "Neptun hat 6 Zeichen.\n",
      "Erde hat 4 Zeichen.\n",
      "Uranus hat 6 Zeichen.\n",
      "Merkur hat 6 Zeichen.\n",
      "Jupiter hat 7 Zeichen.\n",
      "Venus hat 5 Zeichen.\n",
      "Saturn hat 6 Zeichen.\n",
      "Mars hat 4 Zeichen.\n",
      "{'Neptun': 6, 'Erde': 4, 'Uranus': 6, 'Merkur': 6, 'Jupiter': 7, 'Venus': 5, 'Saturn': 6, 'Mars': 4}\n"
     ]
    }
   ],
   "source": [
    "# TODO: Rufe deine Funktion jetzt nochmal für alle drei Sets auf.\n",
    "zeichen_laengen(set_1)\n",
    "zeichen_laengen(set_2)\n",
    "zeichen_laengen(set_3)"
   ]
  },
  {
   "cell_type": "markdown",
   "metadata": {},
   "source": [
    "#### Aufgabe: Schreibe eine Python-Funktion, die überprüft, ob eine gegebene Zahl eine Primzahl ist.\n",
    "\n",
    "Beschreibung:\n",
    "Eine Primzahl ist eine natürliche Zahl größer als 1, die nur durch 1 und sich selbst ohne Rest geteilt werden kann. Schreibe eine Python-Funktion mit dem Namen `ist_primzahl`, die überprüft, ob eine gegebene positive Ganzzahl eine Primzahl ist.\n",
    "\n",
    "Deine Funktion sollte einen Parameter \"zahl\" akzeptieren und True zurückgeben, wenn die Zahl eine Primzahl ist, andernfalls sollte sie False zurückgeben.\n",
    "\n",
    "Verwende eine Schleife, um zu überprüfen, ob die Zahl durch andere Zahlen (außer 1 und sich selbst) ohne Rest teilbar ist. Wenn die Zahl durch eine andere Zahl ohne Rest teilbar ist, ist sie keine Primzahl.\n",
    "\n",
    "Beispiel:\n",
    "```python\n",
    "def ist_primzahl(zahl):\n",
    "    # Implementiere hier den Code, um zu überprüfen, ob \"zahl\" eine Primzahl ist.\n",
    "    pass\n",
    "\n",
    "# Teste die Funktion mit verschiedenen Zahlen\n",
    "print(ist_primzahl(7))   # True\n",
    "print(ist_primzahl(12))  # False\n",
    "print(ist_primzahl(29))  # True\n",
    "```\n",
    "\n",
    "Erwartete Ausgabe:\n",
    "```\n",
    "True\n",
    "False\n",
    "True\n",
    "```\n"
   ]
  },
  {
   "cell_type": "code",
   "execution_count": 49,
   "metadata": {},
   "outputs": [
    {
     "data": {
      "text/plain": [
       "True"
      ]
     },
     "execution_count": 49,
     "metadata": {},
     "output_type": "execute_result"
    }
   ],
   "source": [
    "# TODO: Hier dein Code\n",
    "def ist_primzahl(zahl):\n",
    "    if zahl <= 1:\n",
    "        return False\n",
    "    for i in range(2, zahl-1):\n",
    "        if zahl % i == 0:\n",
    "            return False\n",
    "    return True\n",
    "\n",
    "ist_primzahl(2)"
   ]
  },
  {
   "cell_type": "code",
   "execution_count": 50,
   "metadata": {},
   "outputs": [],
   "source": [
    "# Diesen Code kannst du zum Testen der Primzahlen unter 100 verwenden.\n",
    "# Den Code musst du nicht verstehen, er ist nur zum Testen.\n",
    "prim_100 = [2, 3, 5, 7, 11, 13, 17, 19, 23, 29, 31, 37, 41, 43, 47, 53, 59, 61, 67, 71, 73, 79, 83, 89, 97]\n",
    "for i in range(1, 100):\n",
    "    try:\n",
    "        if i in prim_100:\n",
    "            assert ist_primzahl(i)\n",
    "        else:\n",
    "            assert not ist_primzahl(i)\n",
    "    except AssertionError as e:\n",
    "        print(f\"Der Test ist bei {i} fehlgeschlagen.\")\n",
    "        raise AssertionError(f\"Der Test ist bei {i} fehlgeschlagen.\")\n"
   ]
  },
  {
   "cell_type": "markdown",
   "metadata": {},
   "source": [
    "#### Aufgabe: Schreibe eine Python-Funktion, um die Anzahl der Vokale in einem gegebenen Text zu zählen und diese Anzahl zurückzugeben.\n",
    "\n",
    "Beschreibung:\n",
    "Schreibe eine Python-Funktion mit dem Namen `anzahl_vokale`, die die Anzahl der Vokale in einem gegebenen Text zählt und diese Anzahl als Rückgabewert zurückgibt. In dieser Aufgabe betrachten wir die Vokale \"A\", \"E\", \"I\", \"O\" und \"U\" (Groß- und Kleinbuchstaben).\n",
    "\n",
    "Tipp: Erstelle eine Liste mit allen kleinen Vokalen, so kannst du überprüfen, ob ein Zeichen in `lower()` in dieser Liste enthalten ist.\n",
    "\n",
    "```python\n",
    "# Beispiel\n",
    "\"a\".lower() in [\"a\", \"e\", \"i\", \"o\", \"u\"] # True\n",
    "\"A\".lower() in [\"a\", \"e\", \"i\", \"o\", \"u\"] # True\n",
    "\"b\".lower() in [\"a\", \"e\", \"i\", \"o\", \"u\"] # False\n",
    "```\n",
    "\n",
    "Die Funktion sollte einen Parameter `text` akzeptieren und die Anzahl der Vokale im Text zählen, unabhängig von Groß- und Kleinschreibung.\n",
    "\n",
    "Beispiel:\n",
    "```python\n",
    "def anzahl_vokale(text):\n",
    "    # Implementiere hier den Code, um die Anzahl der Vokale im \"text\" zu zählen.\n",
    "    pass\n",
    "\n",
    "# Teste die Funktion mit verschiedenen Texten\n",
    "text1 = \"Hallo, wie geht es dir?\"\n",
    "text2 = \"Python ist großartig!\"\n",
    "anzahl1 = anzahl_vokale(text1)\n",
    "anzahl2 = anzahl_vokale(text2)\n",
    "print(anzahl1)  # Erwartete Ausgabe: 10 (5 Vokale in \"Hallo, wie geht es dir?\")\n",
    "print(anzahl2)  # Erwartete Ausgabe: 10 (5 Vokale in \"OpenAI ist großartig!\")\n",
    "```\n",
    "\n",
    "In dieser Aufgabe ist es wichtig, eine Schleife zu verwenden, um jeden Buchstaben im Text zu überprüfen, ob er ein Vokal ist, und die Anzahl der Vokale zu zählen. Schließlich soll die Funktion die Anzahl der gefundenen Vokale mithilfe des `return`-Befehls zurückgeben."
   ]
  },
  {
   "cell_type": "code",
   "execution_count": 11,
   "metadata": {},
   "outputs": [],
   "source": [
    "# TODO: Hier dein Code\n"
   ]
  },
  {
   "cell_type": "markdown",
   "metadata": {},
   "source": [
    "#### Aufgabe: Schreibe eine Python-Funktion, die eine Liste von Wörtern sortiert, wobei die Wörter nach der Anzahl der Vokale in aufsteigender Reihenfolge sortiert werden.\n",
    "\n",
    "Beschreibung:\n",
    "Schreibe eine Python-Funktion mit dem Namen `sortiere_nach_vokalen`, die eine Liste von Wörtern akzeptiert und die Wörter in aufsteigender Reihenfolge sortiert, wobei die Sortierung basierend auf der Anzahl der Vokale in jedem Wort erfolgt. Bei Wörtern mit der gleichen Anzahl von Vokalen bleibt die Reihenfolge unverändert.\n",
    "\n",
    "Die Funktion sollte einen Parameter `wortliste` akzeptieren, der eine Liste von Wörtern enthält, und die sortierte Liste als Rückgabewert zurückgeben.\n",
    "\n",
    "Beispiel:\n",
    "```python\n",
    "def sortiere_nach_vokalen(wortliste):\n",
    "    # Implementiere hier den Code, um die Wörter nach der Anzahl der Vokale zu sortieren.\n",
    "    pass\n",
    "\n",
    "# Teste die Funktion mit einer Liste von Wörtern\n",
    "wortliste = [\"Apfel\", \"Banane\", \"Erdbeere\", \"Kiwi\", \"Orange\"]\n",
    "sortierte_liste = sortiere_nach_vokalen(wortliste)\n",
    "print(sortierte_liste)\n",
    "```\n",
    "\n",
    "Erwartete Ausgabe:\n",
    "```\n",
    "['Kiwi', 'Apfel', 'Banane', 'Orange', 'Erdbeere']\n",
    "```\n",
    "\n",
    "In dieser Aufgabe musst du die Wörter in der Liste nach der Anzahl der Vokale in jedem Wort sortieren. Du kannst die Python `sorted`-Funktion verwenden und einen geeigneten Schlüssel (Key) angeben, um die Sortierreihenfolge basierend auf der Vokalanzahl festzulegen. Stelle sicher, dass die Funktion die sortierte Liste mit `return` zurückgibt."
   ]
  },
  {
   "cell_type": "code",
   "execution_count": 12,
   "metadata": {},
   "outputs": [],
   "source": [
    "# TODO: Hier dein Code"
   ]
  },
  {
   "cell_type": "markdown",
   "metadata": {},
   "source": [
    "#### Aufgabe: Schreibe eine Python-Funktion, die eine einfache Textanalyse durchführt, um die am häufigsten verwendeten Wörter in einem Text zu ermitteln und diese zusammen mit ihrer Häufigkeit zurückzugeben.\n",
    "\n",
    "Beschreibung:\n",
    "Schreibe eine Python-Funktion mit dem Namen `haeufigste_woerter`, die einen Text akzeptiert und die am häufigsten verwendeten Wörter im Text sowie ihre Häufigkeit zurückgibt. Die Funktion sollte eine bestimmte Anzahl der am häufigsten verwendeten Wörter (zum Beispiel die Top 10) zurückgeben.\n",
    "\n",
    "Die Funktion sollte die Wörter im Text zählen und dann eine Liste von Tupeln zurückgeben, wobei jedes Tupel aus einem Wort und seiner Häufigkeit besteht. Die Liste sollte nach der Häufigkeit absteigend sortiert sein.\n",
    "\n",
    "Beispiel:\n",
    "```python\n",
    "def haeufigste_woerter(text, anzahl=10):\n",
    "    # Implementiere hier den Code, um die am häufigsten verwendeten Wörter im \"text\" zu ermitteln.\n",
    "    pass\n",
    "\n",
    "# Teste die Funktion mit einem Text\n",
    "text = \"Das ist ein einfacher Test. Ein einfacher Test ist das. Dieser Text ist ein Beispiel.\"\n",
    "haeufigste = haeufigste_woerter(text)\n",
    "print(haeufigste)\n",
    "```\n",
    "\n",
    "Erwartete Ausgabe:\n",
    "```\n",
    "[('ein', 3), ('ist', 3), ('Test', 2), ('Das', 1), ('einfacher', 2), ('Das.', 1), ('das.', 1), ('Dieser', 1), ('Text', 1), ('Beispiel.', 1)]\n",
    "```\n",
    "\n",
    "In dieser Aufgabe musst du den Text analysieren, Wörter zählen und die Liste der am häufigsten verwendeten Wörter und ihrer Häufigkeit zurückgeben. Du kannst die Textmanipulation und -analyse in Python nutzen, um diese Aufgabe zu lösen. Stelle sicher, dass die Funktion die gewünschte Anzahl der haufigsten Wörter und ihre Häufigkeit zurückgibt."
   ]
  },
  {
   "cell_type": "code",
   "execution_count": 13,
   "metadata": {},
   "outputs": [],
   "source": [
    "# TODO: Hier dein Code"
   ]
  }
 ],
 "metadata": {
  "kernelspec": {
   "display_name": "base",
   "language": "python",
   "name": "python3"
  },
  "language_info": {
   "codemirror_mode": {
    "name": "ipython",
    "version": 3
   },
   "file_extension": ".py",
   "mimetype": "text/x-python",
   "name": "python",
   "nbconvert_exporter": "python",
   "pygments_lexer": "ipython3",
   "version": "3.10.9"
  },
  "orig_nbformat": 4
 },
 "nbformat": 4,
 "nbformat_minor": 2
}
