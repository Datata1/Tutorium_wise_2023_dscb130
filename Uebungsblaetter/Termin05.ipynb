{
 "cells": [
  {
   "cell_type": "markdown",
   "metadata": {},
   "source": [
    "# Assignment 05: This merchant life\n",
    "\n",
    "In the bustling market town of Oakridge, a diligent merchant named Alex is on a quest to uncover the mysteries of their daily financial journey."
   ]
  },
  {
   "cell_type": "markdown",
   "metadata": {},
   "source": [
    "## Setup Stuff"
   ]
  },
  {
   "cell_type": "code",
   "execution_count": 1,
   "metadata": {},
   "outputs": [],
   "source": [
    "import csv\n",
    "import random\n",
    "from enum import Enum\n",
    "from datetime import datetime, timedelta"
   ]
  },
  {
   "cell_type": "code",
   "execution_count": 2,
   "metadata": {},
   "outputs": [],
   "source": [
    "# Define an enum for goods' tiers\n",
    "class GoodsTier(Enum):\n",
    "    COMMON = 1\n",
    "    RARE = 2\n",
    "    EXOTIC = 3\n",
    "\n",
    "# Define the goods, their price ranges, and their tiers\n",
    "goods = [\n",
    "    (\"Grain\", (14, 16), GoodsTier.COMMON),\n",
    "    (\"Timber\", (24, 26), GoodsTier.COMMON),\n",
    "    (\"Meat\", (32, 38), GoodsTier.COMMON),\n",
    "    (\"Hides\", (47, 53), GoodsTier.COMMON),\n",
    "    (\"Iron\", (62, 68), GoodsTier.COMMON),\n",
    "    (\"Ale\", (78, 82), GoodsTier.COMMON),\n",
    "    (\"Herbs\", (81, 89), GoodsTier.COMMON),\n",
    "    (\"Fruit\", (87, 93), GoodsTier.COMMON),\n",
    "    (\"Wool\", (87, 93), GoodsTier.COMMON),\n",
    "    (\"Pottery\", (96, 104), GoodsTier.RARE),\n",
    "    (\"Cloth\", (116, 124), GoodsTier.RARE),\n",
    "    (\"Wine\", (136, 144), GoodsTier.RARE),\n",
    "    (\"Salt\", (157, 163), GoodsTier.RARE),\n",
    "    (\"Weapon\", (176, 184), GoodsTier.RARE),\n",
    "    (\"Medicine\", (197, 203), GoodsTier.RARE),\n",
    "    (\"Books\", (297, 303), GoodsTier.EXOTIC),\n",
    "    (\"Dyes\", (346, 354), GoodsTier.EXOTIC),\n",
    "    (\"Spices\", (396, 404), GoodsTier.EXOTIC),\n",
    "    (\"Gems\", (446, 454), GoodsTier.EXOTIC),\n",
    "    (\"Silver\", (495, 505), GoodsTier.EXOTIC),\n",
    "    (\"Gold\", (594, 606), GoodsTier.EXOTIC),\n",
    "]\n",
    "\n",
    "# Define the date range for trades\n",
    "start_date = \"2023-10-01\"\n",
    "end_date = \"2023-10-31\""
   ]
  },
  {
   "cell_type": "code",
   "execution_count": 3,
   "metadata": {},
   "outputs": [],
   "source": [
    "# Create an inventory dictionary to keep track of goods and their quantities\n",
    "inventory = {item: 0 for item, _, _ in goods}\n",
    "\n",
    "# Create a CSV file with random trades for the merchant\n",
    "csv_file = 'merchant_trades.csv'\n",
    "\n",
    "# Initialize supply and demand based on tier\n",
    "supply = {item: 100 - 10 * tier.value for item, _, tier in goods}\n",
    "demand = {item: 50 + 5 * tier.value for item, _, tier in goods}\n",
    "\n",
    "# Initialize inventory\n",
    "inventory = {item: 0 for item, _, _ in goods}\n",
    "\n",
    "max_trades = 16\n",
    "\n",
    "# Create a CSV file with random trades for the merchant\n",
    "csv_file = 'merchant_trades.csv'"
   ]
  },
  {
   "cell_type": "code",
   "execution_count": 4,
   "metadata": {},
   "outputs": [
    {
     "name": "stdout",
     "output_type": "stream",
     "text": [
      "CSV file \"merchant_trades.csv\" has been created with random trades.\n"
     ]
    }
   ],
   "source": [
    "with open(csv_file, 'w', newline='') as file:\n",
    "    writer = csv.writer(file)\n",
    "    writer.writerow([\"Date\", \"Item\", \"Quantity\", \"Price\", \"Transaction Type\"])\n",
    "    current_date = start_date\n",
    "    no_iterations = 0\n",
    "    while current_date <= end_date:\n",
    "        trades_today = 0\n",
    "        for item, price_range, tier in goods:\n",
    "            # Decide action based on inventory\n",
    "            if inventory[item] > 0:\n",
    "                actions = [\"Sell\", \"Buy\", \"No Action\"]\n",
    "                weights = [0.4, 0.4, 0.2]\n",
    "            else:\n",
    "                actions = [\"Buy\", \"No Action\"]\n",
    "                weights = [0.7, 0.3]\n",
    "            action = random.choices(actions, weights=weights, k=1)[0]\n",
    "            if action == \"Buy\" and trades_today < max_trades:\n",
    "                quantity = random.randint(1, 100)\n",
    "                supply_factor = 0.9\n",
    "                price = round(random.uniform(price_range[0], price_range[1]) * supply_factor)\n",
    "                assert price > 0, f\"Price for {item} is {price}.\"\n",
    "                inventory[item] += quantity\n",
    "                supply[item] += quantity\n",
    "                demand[item] -= quantity\n",
    "                trades_today += 1\n",
    "            elif action == \"Sell\" and trades_today < max_trades:\n",
    "                quantity = random.randint(1, inventory[item])\n",
    "                demand_factor = 1.1\n",
    "                price = round(random.uniform(price_range[0], price_range[1]) * demand_factor)\n",
    "                assert price > 0, f\"Price for {item} is {price}.\"\n",
    "                inventory[item] -= quantity\n",
    "                supply[item] -= quantity\n",
    "                demand[item] += quantity\n",
    "                trades_today += 1\n",
    "            else:\n",
    "                action = \"No Action\"\n",
    "            if action != \"No Action\":\n",
    "                writer.writerow([current_date, item, quantity, price, action])\n",
    "            no_iterations += 1\n",
    "        current_date = (datetime.strptime(current_date, \"%Y-%m-%d\") + timedelta(days=1)).strftime(\"%Y-%m-%d\")\n",
    "\n",
    "    no_days = (datetime.strptime(end_date, \"%Y-%m-%d\") - datetime.strptime(start_date, \"%Y-%m-%d\")).days + 1\n",
    "    no_goods = len(goods)\n",
    "    assert no_iterations == no_days * no_goods, f\"Number of iterations ({no_iterations}) does not match number of days ({no_days}) times number of goods ({no_goods}).\"\n",
    "\n",
    "print(f'CSV file \"{csv_file}\" has been created with random trades.')"
   ]
  },
  {
   "cell_type": "markdown",
   "metadata": {},
   "source": [
    "# Aufgaben"
   ]
  },
  {
   "cell_type": "markdown",
   "metadata": {},
   "source": [
    "**Aufgabenstellung Task 1: Datenauswertung**\n",
    "*Beschreibung der Aufgabe*: Ihre Aufgabe besteht darin, dem Händler dabei zu helfen, sinnvolle Daten aus seinen Handelsprotokollen zu extrahieren. Ihnen wurde eine CSV-Datei mit Transaktionsdaten für Waren zur Verfügung gestellt. Jede Zeile repräsentiert einen einzelnen Handel.\n",
    "\n",
    "*Auftrag*: Schreiben Sie eine Python-Funktion, die die bereitgestellte CSV-Datei liest und die Daten in eine Liste von Dictionaries extrahiert. Jedes Dictionary sollte einen einzelnen Handel repräsentieren, mit Schlüsseln für 'Datum', 'Artikel', 'Menge', 'Preis' und 'Transaktionstyp'.\n",
    "\n",
    "*Beispieldaten (im CSV-Format)*:\n",
    "\n",
    "```\n",
    "Date,Item,Quantity,Price,Transaction Type\n",
    "2023-10-15,Timber,50,1200,Sell\n",
    "2023-10-17,Grain,100,800,Buy\n",
    "...\n",
    "```"
   ]
  },
  {
   "cell_type": "code",
   "execution_count": 1,
   "metadata": {
    "ExecuteTime": {
     "end_time": "2023-11-02T09:15:03.770388700Z",
     "start_time": "2023-11-02T09:15:03.762879300Z"
    }
   },
   "outputs": [],
   "source": [
    "import csv\n",
    "\n",
    "# Function to read the CSV file and extract data into a list of dictionaries\n",
    "def extract_data_from_csv(file_path):\n",
    "    data = []\n",
    "    with open(file_path, 'r') as file:\n",
    "        csv_reader = csv.DictReader(file)\n",
    "        for row in csv_reader:\n",
    "            data.append(row)\n",
    "    return data\n",
    "\n",
    "csv_file = 'merchant_trades.csv'\n",
    "transaction_data = extract_data_from_csv(csv_file)\n",
    "print(transaction_data)"
   ]
  },
  {
   "cell_type": "markdown",
   "metadata": {
    "ExecuteTime": {
     "end_time": "2023-11-02T09:15:07.305359700Z",
     "start_time": "2023-11-02T09:15:07.296850600Z"
    }
   },
   "source": [
    "**Aufgabenstellung Task 2: Einzigartige Waren**\n",
    "\n",
    "*Beschreibung der Aufgabe*: Der Händler möchte wissen, mit welchen verschiedenen Waren er handelt, unabhängig davon, ob er sie kauft oder verkauft. Sie werden das Konzept der Sets verwenden und dem Händler dabei helfen, die Anzahl der einzigartigen gehandelten Artikel zu ermitteln.\n",
    "\n",
    "*Auftrag*: Schreiben Sie eine Python-Funktion, die die Handelsdaten des Händlers verwendet, um die Anzahl der verschiedenen Waren zu bestimmen, mit denen er handelt. Um dies zu erreichen, sollten Sie folgende Schritte ausführen:\n",
    "   1. Erstellen Sie eine Menge, um die Namen aller in den Transaktionen involvierten Waren zu speichern.\n",
    "   2. Durchlaufen Sie die Handelsdaten und fügen Sie die Namen der Waren der Sets hinzu, unabhängig davon, ob sie gekauft oder verkauft werden.\n",
    "   3. Berechnen und drucken Sie die Gesamtanzahl der einzigartigen gehandelten Waren des Händlers.\n"
   ]
  },
  {
   "cell_type": "code",
   "execution_count": 3,
   "metadata": {
    "ExecuteTime": {
     "end_time": "2023-11-02T09:15:17.716720300Z",
     "start_time": "2023-11-02T09:15:17.711211200Z"
    }
   },
   "outputs": [],
   "source": [
    "# Function to count the unique goods involved in all transactions\n",
    "def count_unique_goods_traded(data):\n",
    "    unique_goods = set()\n",
    "    for transaction in data:\n",
    "        item = transaction['Item']\n",
    "        unique_goods.add(item)\n",
    "    return len(unique_goods)\n",
    "\n",
    "unique_goods_count = count_unique_goods_traded(transaction_data)\n",
    "print(f'The merchant is involved with {unique_goods_count} different types of goods.')"
   ]
  },
  {
   "cell_type": "markdown",
   "metadata": {},
   "source": [
    "**Aufgabenstellung Task 3: Teure Waren**\n",
    "\n",
    "*Beschreibung der Aufgabe*: Der Händler muss seine Handelsdaten analysieren, um fundierte Entscheidungen zu treffen. Helfen Sie dem Händler, einige grundlegende Datenanalysen durchzuführen.\n",
    "\n",
    "*Auftrag*: Schreiben Sie ein Python-Programm, das die in Task 1 extrahierten Daten verwendet, um die folgenden Operationen auszuführen:\n",
    "   1. Finden Sie den teuersten Artikel, den der Händler gekauft hat.\n",
    "   2. Finden Sie den teuersten Artikel, den der Händler verkauft hat.\n",
    "   3. Berechnen Sie den durchschnittlichen Preis für jeden gekauften Artikel.\n",
    "   4. Berechnen Sie den durchschnittlichen Preis für jeden verkauften Artikel.\n",
    "   5. Vergleichen Sie den Durchschnittspreis von gekauften und verkauften Artikeln. Wie viel Einnahmen/Verlust hat der Händler erzielt?\n"
   ]
  },
  {
   "cell_type": "code",
   "execution_count": 4,
   "metadata": {
    "ExecuteTime": {
     "end_time": "2023-11-02T09:15:30.634536800Z",
     "start_time": "2023-11-02T09:15:30.630028600Z"
    }
   },
   "outputs": [],
   "source": [
    "# Function to find the most expensive item bought\n",
    "def find_most_expensive_item_bought(data):\n",
    "    most_expensive_item = None\n",
    "    max_price = 0\n",
    "    for transaction in data:\n",
    "        if transaction['Transaction Type'] == 'Buy':\n",
    "            price = float(transaction['Price'])\n",
    "            if price > max_price:\n",
    "                most_expensive_item = transaction['Item']\n",
    "                max_price = price\n",
    "    return most_expensive_item, max_price\n",
    "\n",
    "most_expensive_item_bought = find_most_expensive_item_bought(transaction_data)\n",
    "print(f'Most expensive item bought: {most_expensive_item_bought[0]} for ${most_expensive_item_bought[1]:.2f}')"
   ]
  },
  {
   "cell_type": "code",
   "execution_count": 8,
   "metadata": {},
   "outputs": [
    {
     "name": "stdout",
     "output_type": "stream",
     "text": [
      "Most expensive item sold: Gold for $665.00\n"
     ]
    }
   ],
   "source": [
    "# Function to find the most expensive item sold\n",
    "def find_most_expensive_item_sold(data):\n",
    "    most_expensive_item = None\n",
    "    max_price = 0\n",
    "    for transaction in data:\n",
    "        if transaction['Transaction Type'] == 'Sell':\n",
    "            price = float(transaction['Price'])\n",
    "            if price > max_price:\n",
    "                most_expensive_item = transaction['Item']\n",
    "                max_price = price\n",
    "    return most_expensive_item, max_price\n",
    "\n",
    "most_expensive_item_sold = find_most_expensive_item_sold(transaction_data)\n",
    "print(f'Most expensive item sold: {most_expensive_item_sold[0]} for ${most_expensive_item_sold[1]:.2f}')"
   ]
  },
  {
   "cell_type": "code",
   "execution_count": 5,
   "metadata": {
    "ExecuteTime": {
     "end_time": "2023-11-02T09:15:48.121465200Z",
     "start_time": "2023-11-02T09:15:48.111754800Z"
    }
   },
   "outputs": [],
   "source": [
    "# Function to calculate the average price for each item sold\n",
    "def calculate_average_prices_items_sold(data):\n",
    "    item_prices = {}\n",
    "    item_counts = {}\n",
    "    \n",
    "    for transaction in data:\n",
    "        item = transaction['Item']\n",
    "        price = float(transaction['Price'])\n",
    "        if transaction['Transaction Type'] == 'Sell':\n",
    "            if item in item_prices:\n",
    "                item_prices[item] += price\n",
    "                item_counts[item] += 1\n",
    "            else:\n",
    "                item_prices[item] = price\n",
    "                item_counts[item] = 1\n",
    "    \n",
    "    average_prices = {item: item_prices[item] / item_counts[item] for item in item_prices}\n",
    "    return average_prices\n",
    "\n",
    "average_prices_items_sold = calculate_average_prices_items_sold(transaction_data)\n",
    "print('Average prices for items sold:')\n",
    "for item, price in average_prices_items_sold.items():\n",
    "    print(f'{item.ljust(10)}: ${price:.2f}')"
   ]
  },
  {
   "cell_type": "code",
   "execution_count": 6,
   "metadata": {
    "ExecuteTime": {
     "end_time": "2023-11-02T09:15:53.402053700Z",
     "start_time": "2023-11-02T09:15:53.359032800Z"
    }
   },
   "outputs": [],
   "source": [
    "# Function to calculate the average price for each item bought\n",
    "def calculate_average_prices_items_bought(data):\n",
    "    item_prices = {}\n",
    "    item_counts = {}\n",
    "    \n",
    "    for transaction in data:\n",
    "        item = transaction['Item']\n",
    "        price = float(transaction['Price'])\n",
    "        if transaction['Transaction Type'] == 'Buy':\n",
    "            if item in item_prices:\n",
    "                item_prices[item] += price\n",
    "                item_counts[item] += 1\n",
    "            else:\n",
    "                item_prices[item] = price\n",
    "                item_counts[item] = 1\n",
    "    \n",
    "    average_prices = {item: item_prices[item] / item_counts[item] for item in item_prices}\n",
    "    return average_prices\n",
    "\n",
    "average_prices_items_bought = calculate_average_prices_items_bought(transaction_data)\n",
    "print('Average prices for items sold:')\n",
    "for item, price in average_prices_items_bought.items():\n",
    "    print(f'{item.ljust(10)}: ${price:.2f}')"
   ]
  },
  {
   "cell_type": "code",
   "execution_count": 7,
   "metadata": {
    "ExecuteTime": {
     "end_time": "2023-11-02T09:15:58.935230800Z",
     "start_time": "2023-11-02T09:15:58.928721400Z"
    }
   },
   "outputs": [],
   "source": [
    "# Function to compare the average price for each item bought and sold\n",
    "def compare_average_prices_items_bought_sold(data):\n",
    "    average_prices_items_sold = calculate_average_prices_items_sold(data)\n",
    "    average_prices_items_bought = calculate_average_prices_items_bought(data)\n",
    "    results = []\n",
    "    for item in average_prices_items_sold | average_prices_items_bought:\n",
    "        price_sold = average_prices_items_sold[item]\n",
    "        price_bought = average_prices_items_bought[item]\n",
    "        if price_sold > price_bought:\n",
    "            profit = price_sold - price_bought\n",
    "            results.append((item, price_bought, price_sold, profit))\n",
    "        elif price_sold < price_bought:\n",
    "            loss = price_bought - price_sold\n",
    "            results.append((item, price_bought, price_sold, -loss))\n",
    "    return results\n",
    "\n",
    "average_prices_items_bought_sold = compare_average_prices_items_bought_sold(transaction_data)\n",
    "for item, price_bought, price_sold, profit_loss in average_prices_items_bought_sold:\n",
    "    if profit_loss > 0:\n",
    "        print(f'{item.ljust(10)} was bought for ${price_bought:.2f}\\t, sold for ${price_sold:.2f}\\t, and made a profit of ${profit_loss:.2f}\\t on average')\n",
    "    else:\n",
    "        print(f'{item.ljust(10)} was bought for ${price_bought:.2f}\\t, sold for ${price_sold:.2f}\\t, and made a loss of ${-profit_loss:.2f}\\t on average')\n"
   ]
  },
  {
   "cell_type": "markdown",
   "metadata": {
    "ExecuteTime": {
     "end_time": "2023-11-02T09:16:03.704588Z",
     "start_time": "2023-11-02T09:16:03.674944200Z"
    }
   },
   "source": [
    "**Aufgabenstellung Task 4: Analyse der Transaktionshäufigkeit**\n",
    "\n",
    "*Beschreibung der Aufgabe*: Der Händler möchte wissen, welche Artikel am häufigsten gehandelt werden.\n",
    "\n",
    "*Auftrag*: Schreiben Sie eine Python-Funktion, die die Anzahl der Transaktionen für jeden Artikel berechnet und ausgibt.\n"
   ]
  },
  {
   "cell_type": "code",
   "execution_count": 8,
   "metadata": {
    "ExecuteTime": {
     "end_time": "2023-11-02T09:16:06.698421500Z",
     "start_time": "2023-11-02T09:16:06.688905600Z"
    }
   },
   "outputs": [],
   "source": [
    "# Function to calculate the amount of each item bought and sold\n",
    "def calculate_amount_items_bought_sold(data):\n",
    "    items_bought = {}\n",
    "    items_sold = {}\n",
    "    for transaction in data:\n",
    "        item = transaction['Item']\n",
    "        quantity = float(transaction['Quantity'])\n",
    "        if transaction['Transaction Type'] == 'Buy':\n",
    "            if item in items_bought:\n",
    "                items_bought[item] += quantity\n",
    "            else:\n",
    "                items_bought[item] = quantity\n",
    "        elif transaction['Transaction Type'] == 'Sell':\n",
    "            if item in items_sold:\n",
    "                items_sold[item] += quantity\n",
    "            else:\n",
    "                items_sold[item] = quantity\n",
    "    return items_bought, items_sold\n",
    "\n",
    "items_bought, items_sold = calculate_amount_items_bought_sold(transaction_data)\n",
    "\n",
    "# Print the data in a tabular format\n",
    "print('Item\\t  Amount Bought\\tAmount Sold')\n",
    "for item in set(items_bought.keys()) | set(items_sold.keys()):\n",
    "    print(f'{item.ljust(10)}{int(items_bought.get(item, 0))}\\t\\t{int(items_sold.get(item, 0))}')\n"
   ]
  },
  {
   "cell_type": "markdown",
   "metadata": {},
   "source": [
    "**Aufgabenstellung Task 5: Analyse des täglichen Gewinns und Verlusts**\n",
    "\n",
    "*Beschreibung der Aufgabe*: Der Händler möchte wissen, wie viel Gewinn oder Verlust er gemacht hat.\n",
    "\n",
    "*Auftrag*: Entwickeln Sie Python-Funktionen, um die folgenden Aufgaben auszuführen:\n",
    "   1. Berechnen Sie den Gewinn/Verlust für jeden Tag.\n",
    "   2. Ermitteln Sie den Tag mit dem höchsten/niedrigsten Gewinn.\n",
    "   3. Berechnen Sie den Gewinn/Verlust für die gesamte Zeitspanne.\n"
   ]
  },
  {
   "cell_type": "code",
   "execution_count": 13,
   "metadata": {},
   "outputs": [
    {
     "name": "stdout",
     "output_type": "stream",
     "text": [
      "Total profit/loss per day:\n",
      "2023-10-01: $-2658.00\n",
      "2023-10-02: $-1268.00\n",
      "2023-10-03: $-1604.00\n",
      "2023-10-04: $2289.00\n",
      "2023-10-05: $-1830.00\n",
      "2023-10-06: $784.00\n",
      "2023-10-07: $544.00\n",
      "2023-10-08: $-193.00\n",
      "2023-10-09: $882.00\n",
      "2023-10-10: $47.00\n",
      "2023-10-11: $-977.00\n",
      "2023-10-12: $651.00\n",
      "2023-10-13: $788.00\n",
      "2023-10-14: $409.00\n",
      "2023-10-15: $1332.00\n",
      "2023-10-16: $97.00\n",
      "2023-10-17: $1892.00\n",
      "2023-10-18: $-393.00\n",
      "2023-10-19: $566.00\n",
      "2023-10-20: $798.00\n",
      "2023-10-21: $-584.00\n",
      "2023-10-22: $1803.00\n",
      "2023-10-23: $-1057.00\n",
      "2023-10-24: $-288.00\n",
      "2023-10-25: $-40.00\n",
      "2023-10-26: $201.00\n",
      "2023-10-27: $47.00\n",
      "2023-10-28: $428.00\n",
      "2023-10-29: $256.00\n",
      "2023-10-30: $1470.00\n",
      "2023-10-31: $-968.00\n"
     ]
    }
   ],
   "source": [
    "# Function to calculate the total profit/loss per day\n",
    "def calculate_total_profit_loss_per_day(data):\n",
    "    total_profit_loss_per_day = {}\n",
    "    for transaction in data:\n",
    "        date = transaction['Date']\n",
    "        if transaction['Transaction Type'] == 'Buy':\n",
    "            profit_loss = -float(transaction['Price'])\n",
    "        elif transaction['Transaction Type'] == 'Sell':\n",
    "            profit_loss = float(transaction['Price'])\n",
    "        if date in total_profit_loss_per_day:\n",
    "            total_profit_loss_per_day[date] += profit_loss\n",
    "        else:\n",
    "            total_profit_loss_per_day[date] = profit_loss\n",
    "    return total_profit_loss_per_day\n",
    "\n",
    "total_profit_loss_per_day = calculate_total_profit_loss_per_day(transaction_data)\n",
    "print('Total profit/loss per day:')\n",
    "for date, profit_loss in total_profit_loss_per_day.items():\n",
    "    print(f'{date}: ${profit_loss:.2f}')"
   ]
  },
  {
   "cell_type": "code",
   "execution_count": 14,
   "metadata": {},
   "outputs": [
    {
     "name": "stdout",
     "output_type": "stream",
     "text": [
      "Most profitable day:\t2023-10-04 with a profit of $2289.00\n",
      "Least profitable day:\t2023-10-01 with a loss of $-2658.00\n"
     ]
    }
   ],
   "source": [
    "total_profit_loss_per_day = calculate_total_profit_loss_per_day(transaction_data)\n",
    "sorted_profit_loss_per_day = sorted(total_profit_loss_per_day.items(), key=lambda x: x[1])\n",
    "least_profitable_day = sorted_profit_loss_per_day[0]\n",
    "most_profitable_day = sorted_profit_loss_per_day[-1]\n",
    "\n",
    "print(f'Most profitable day:\\t{most_profitable_day[0]} with a profit of ${most_profitable_day[1]:.2f}')\n",
    "print(f'Least profitable day:\\t{least_profitable_day[0]} with a loss of ${least_profitable_day[1]:.2f}')"
   ]
  },
  {
   "cell_type": "code",
   "execution_count": 15,
   "metadata": {},
   "outputs": [
    {
     "name": "stdout",
     "output_type": "stream",
     "text": [
      "The total profit/loss was $3424.00\n"
     ]
    }
   ],
   "source": [
    "# Function to calculate the total profit/loss\n",
    "def calculate_total_profit_loss(data):\n",
    "    total_profit_loss = 0\n",
    "    for transaction in data:\n",
    "        if transaction['Transaction Type'] == 'Buy':\n",
    "            total_profit_loss -= float(transaction['Price'])\n",
    "        elif transaction['Transaction Type'] == 'Sell':\n",
    "            total_profit_loss += float(transaction['Price'])\n",
    "    return total_profit_loss\n",
    "\n",
    "total_profit_loss = calculate_total_profit_loss(transaction_data)\n",
    "print(f'The total profit/loss was ${total_profit_loss:.2f}')"
   ]
  },
  {
   "cell_type": "code",
   "execution_count": 16,
   "metadata": {},
   "outputs": [
    {
     "name": "stdout",
     "output_type": "stream",
     "text": [
      "The total profit/loss was $3424.00\n"
     ]
    }
   ],
   "source": [
    "# Function to calculate the total profit/loss using the calculate_total_profit_loss_per_day function\n",
    "def calculate_total_profit_loss(data):\n",
    "    total_profit_loss_per_day = calculate_total_profit_loss_per_day(data)\n",
    "    total_profit_loss = sum(total_profit_loss_per_day.values())\n",
    "    return total_profit_loss\n",
    "\n",
    "total_profit_loss = calculate_total_profit_loss(transaction_data)\n",
    "print(f'The total profit/loss was ${total_profit_loss:.2f}')"
   ]
  }
 ],
 "metadata": {
  "kernelspec": {
   "display_name": "base",
   "language": "python",
   "name": "python3"
  },
  "language_info": {
   "codemirror_mode": {
    "name": "ipython",
    "version": 3
   },
   "file_extension": ".py",
   "mimetype": "text/x-python",
   "name": "python",
   "nbconvert_exporter": "python",
   "pygments_lexer": "ipython3",
   "version": "3.11.3"
  }
 },
 "nbformat": 4,
 "nbformat_minor": 2
}
