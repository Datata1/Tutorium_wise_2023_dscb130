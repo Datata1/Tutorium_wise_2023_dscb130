{
 "cells": [
  {
   "cell_type": "code",
   "execution_count": null,
   "id": "initial_id",
   "metadata": {
    "collapsed": true
   },
   "outputs": [],
   "source": []
  },
  {
   "cell_type": "markdown",
   "source": [
    "# Aufgabe 05: Das Leben dieses Händlers\n",
    "\n",
    "In der belebten Marktstadt Oakridge ist ein fleißiger Händler namens Alex auf einer Quest, um die Geheimnisse seiner täglichen finanziellen Reise aufzudecken."
   ],
   "metadata": {
    "collapsed": false
   },
   "id": "ed058aafe25ec98e"
  },
  {
   "cell_type": "markdown",
   "source": [
    "## Setup Stuff"
   ],
   "metadata": {
    "collapsed": false
   },
   "id": "b164756b5f2482fb"
  },
  {
   "cell_type": "code",
   "execution_count": 1,
   "outputs": [],
   "source": [
    "import csv\n",
    "import random\n",
    "from enum import Enum\n",
    "from datetime import datetime, timedelta"
   ],
   "metadata": {
    "collapsed": false
   },
   "id": "f6881cd8f6eef668"
  },
  {
   "cell_type": "code",
   "execution_count": 2,
   "outputs": [],
   "source": [
    "# Define an enum for goods' tiers\n",
    "class GoodsTier(Enum):\n",
    "    COMMON = 1\n",
    "    RARE = 2\n",
    "    EXOTIC = 3\n",
    "\n",
    "# Define the goods, their price ranges, and their tiers\n",
    "goods = [\n",
    "    (\"Grain\", (14, 16), GoodsTier.COMMON),\n",
    "    (\"Timber\", (24, 26), GoodsTier.COMMON),\n",
    "    (\"Meat\", (32, 38), GoodsTier.COMMON),\n",
    "    (\"Hides\", (47, 53), GoodsTier.COMMON),\n",
    "    (\"Iron\", (62, 68), GoodsTier.COMMON),\n",
    "    (\"Ale\", (78, 82), GoodsTier.COMMON),\n",
    "    (\"Herbs\", (81, 89), GoodsTier.COMMON),\n",
    "    (\"Fruit\", (87, 93), GoodsTier.COMMON),\n",
    "    (\"Wool\", (87, 93), GoodsTier.COMMON),\n",
    "    (\"Pottery\", (96, 104), GoodsTier.RARE),\n",
    "    (\"Cloth\", (116, 124), GoodsTier.RARE),\n",
    "    (\"Wine\", (136, 144), GoodsTier.RARE),\n",
    "    (\"Salt\", (157, 163), GoodsTier.RARE),\n",
    "    (\"Weapon\", (176, 184), GoodsTier.RARE),\n",
    "    (\"Medicine\", (197, 203), GoodsTier.RARE),\n",
    "    (\"Books\", (297, 303), GoodsTier.EXOTIC),\n",
    "    (\"Dyes\", (346, 354), GoodsTier.EXOTIC),\n",
    "    (\"Spices\", (396, 404), GoodsTier.EXOTIC),\n",
    "    (\"Gems\", (446, 454), GoodsTier.EXOTIC),\n",
    "    (\"Silver\", (495, 505), GoodsTier.EXOTIC),\n",
    "    (\"Gold\", (594, 606), GoodsTier.EXOTIC),\n",
    "]\n",
    "\n",
    "# Define the date range for trades\n",
    "start_date = \"2023-10-01\"\n",
    "end_date = \"2023-10-31\""
   ],
   "metadata": {
    "collapsed": false
   },
   "id": "2225e217d8c5bdf1"
  },
  {
   "cell_type": "code",
   "execution_count": 3,
   "outputs": [],
   "source": [
    "# Create an inventory dictionary to keep track of goods and their quantities\n",
    "inventory = {item: 0 for item, _, _ in goods}\n",
    "\n",
    "# Create a CSV file with random trades for the merchant\n",
    "csv_file = 'merchant_trades.csv'\n",
    "\n",
    "# Initialize supply and demand based on tier\n",
    "supply = {item: 100 - 10 * tier.value for item, _, tier in goods}\n",
    "demand = {item: 50 + 5 * tier.value for item, _, tier in goods}\n",
    "\n",
    "# Initialize inventory\n",
    "inventory = {item: 0 for item, _, _ in goods}\n",
    "\n",
    "max_trades = 16\n",
    "\n",
    "# Create a CSV file with random trades for the merchant\n",
    "csv_file = 'merchant_trades.csv'"
   ],
   "metadata": {
    "collapsed": false
   },
   "id": "2d3cb26224483a6f"
  },
  {
   "cell_type": "code",
   "execution_count": 4,
   "outputs": [
    {
     "name": "stdout",
     "output_type": "stream",
     "text": [
      "CSV file \"merchant_trades.csv\" has been created with random trades.\n"
     ]
    }
   ],
   "source": [
    "with open(csv_file, 'w', newline='') as file:\n",
    "    writer = csv.writer(file)\n",
    "    writer.writerow([\"Date\", \"Item\", \"Quantity\", \"Price\", \"Transaction Type\"])\n",
    "    current_date = start_date\n",
    "    no_iterations = 0\n",
    "    while current_date <= end_date:\n",
    "        trades_today = 0\n",
    "        for item, price_range, tier in goods:\n",
    "            # Decide action based on inventory\n",
    "            if inventory[item] > 0:\n",
    "                actions = [\"Sell\", \"Buy\", \"No Action\"]\n",
    "                weights = [0.4, 0.4, 0.2]\n",
    "            else:\n",
    "                actions = [\"Buy\", \"No Action\"]\n",
    "                weights = [0.7, 0.3]\n",
    "            action = random.choices(actions, weights=weights, k=1)[0]\n",
    "            if action == \"Buy\" and trades_today < max_trades:\n",
    "                quantity = random.randint(1, 100)\n",
    "                supply_factor = 0.9\n",
    "                price = round(random.uniform(price_range[0], price_range[1]) * supply_factor)\n",
    "                assert price > 0, f\"Price for {item} is {price}.\"\n",
    "                inventory[item] += quantity\n",
    "                supply[item] += quantity\n",
    "                demand[item] -= quantity\n",
    "                trades_today += 1\n",
    "            elif action == \"Sell\" and trades_today < max_trades:\n",
    "                quantity = random.randint(1, inventory[item])\n",
    "                demand_factor = 1.1\n",
    "                price = round(random.uniform(price_range[0], price_range[1]) * demand_factor)\n",
    "                assert price > 0, f\"Price for {item} is {price}.\"\n",
    "                inventory[item] -= quantity\n",
    "                supply[item] -= quantity\n",
    "                demand[item] += quantity\n",
    "                trades_today += 1\n",
    "            else:\n",
    "                action = \"No Action\"\n",
    "            if action != \"No Action\":\n",
    "                writer.writerow([current_date, item, quantity, price, action])\n",
    "            no_iterations += 1\n",
    "        current_date = (datetime.strptime(current_date, \"%Y-%m-%d\") + timedelta(days=1)).strftime(\"%Y-%m-%d\")\n",
    "\n",
    "    no_days = (datetime.strptime(end_date, \"%Y-%m-%d\") - datetime.strptime(start_date, \"%Y-%m-%d\")).days + 1\n",
    "    no_goods = len(goods)\n",
    "    assert no_iterations == no_days * no_goods, f\"Number of iterations ({no_iterations}) does not match number of days ({no_days}) times number of goods ({no_goods}).\"\n",
    "\n",
    "print(f'CSV file \"{csv_file}\" has been created with random trades.')"
   ],
   "metadata": {
    "collapsed": false
   },
   "id": "bd07dae9c691b587"
  },
  {
   "cell_type": "markdown",
   "source": [
    "# Aufgaben"
   ],
   "metadata": {
    "collapsed": false
   },
   "id": "e4754d70048e999f"
  },
  {
   "cell_type": "markdown",
   "source": [
    "**Aufgabenstellung Task 1: Datenauswertung**\n",
    "*Beschreibung der Aufgabe*: Ihre Aufgabe besteht darin, dem Händler dabei zu helfen, sinnvolle Daten aus seinen Handelsprotokollen zu extrahieren. Ihnen wurde eine CSV-Datei mit Transaktionsdaten für Waren zur Verfügung gestellt. Jede Zeile repräsentiert einen einzelnen Handel.\n",
    "\n",
    "*Auftrag*: Schreiben Sie eine Python-Funktion, die die bereitgestellte CSV-Datei liest und die Daten in eine Liste von Dictionaries extrahiert. Jedes Dictionary sollte einen einzelnen Handel repräsentieren, mit Schlüsseln für 'Datum', 'Artikel', 'Menge', 'Preis' und 'Transaktionstyp'.\n",
    "\n",
    "*Beispieldaten (im CSV-Format)*:\n",
    "\n",
    "```\n",
    "Date,Item,Quantity,Price,Transaction Type\n",
    "2023-10-15,Timber,50,1200,Sell\n",
    "2023-10-17,Grain,100,800,Buy\n",
    "...\n",
    "```"
   ],
   "metadata": {
    "collapsed": false
   },
   "id": "abf9c3b20448a1dc"
  },
  {
   "cell_type": "code",
   "execution_count": 1,
   "outputs": [],
   "source": [
    "# Code here"
   ],
   "metadata": {
    "collapsed": false,
    "ExecuteTime": {
     "end_time": "2023-11-01T22:48:08.638904800Z",
     "start_time": "2023-11-01T22:48:08.627397700Z"
    }
   },
   "id": "ee20ec3ef648c268"
  },
  {
   "cell_type": "markdown",
   "source": [
    "**Aufgabenstellung Task 2: Einzigartige Waren**\n",
    "\n",
    "*Beschreibung der Aufgabe*: Der Händler möchte wissen, mit welchen verschiedenen Waren er handelt, unabhängig davon, ob er sie kauft oder verkauft. Sie werden das Konzept der Sets verwenden und dem Händler dabei helfen, die Anzahl der einzigartigen gehandelten Artikel zu ermitteln.\n",
    "\n",
    "*Auftrag*: Schreiben Sie eine Python-Funktion, die die Handelsdaten des Händlers verwendet, um die Anzahl der verschiedenen Waren zu bestimmen, mit denen er handelt. Um dies zu erreichen, sollten Sie folgende Schritte ausführen:\n",
    "   1. Erstellen Sie eine Menge, um die Namen aller in den Transaktionen involvierten Waren zu speichern.\n",
    "   2. Durchlaufen Sie die Handelsdaten und fügen Sie die Namen der Waren der Sets hinzu, unabhängig davon, ob sie gekauft oder verkauft werden.\n",
    "   3. Berechnen und drucken Sie die Gesamtanzahl der einzigartigen gehandelten Waren des Händlers.\n"
   ],
   "metadata": {
    "collapsed": false
   },
   "id": "2611057405a0dfc8"
  },
  {
   "cell_type": "code",
   "execution_count": 2,
   "outputs": [],
   "source": [
    "#  Code here"
   ],
   "metadata": {
    "collapsed": false,
    "ExecuteTime": {
     "end_time": "2023-11-01T22:48:24.565389300Z",
     "start_time": "2023-11-01T22:48:24.556385600Z"
    }
   },
   "id": "81a4a67685556968"
  },
  {
   "cell_type": "markdown",
   "source": [
    "**Aufgabenstellung Task 3: Teure Waren**\n",
    "\n",
    "*Beschreibung der Aufgabe*: Der Händler muss seine Handelsdaten analysieren, um fundierte Entscheidungen zu treffen. Helfen Sie dem Händler, einige grundlegende Datenanalysen durchzuführen.\n",
    "\n",
    "*Auftrag*: Schreiben Sie ein Python-Programm, das die in Task 1 extrahierten Daten verwendet, um die folgenden Operationen auszuführen:\n",
    "   1. Finden Sie den teuersten Artikel, den der Händler gekauft hat.\n",
    "   2. Finden Sie den teuersten Artikel, den der Händler verkauft hat.\n",
    "   3. Berechnen Sie den durchschnittlichen Preis für jeden gekauften Artikel.\n",
    "   4. Berechnen Sie den durchschnittlichen Preis für jeden verkauften Artikel.\n",
    "   5. Vergleichen Sie den Durchschnittspreis von gekauften und verkauften Artikeln. Wie viel Einnahmen/Verlust hat der Händler erzielt?\n"
   ],
   "metadata": {
    "collapsed": false
   },
   "id": "699d0d885b5ca15b"
  },
  {
   "cell_type": "code",
   "execution_count": 3,
   "outputs": [],
   "source": [
    "# Code here 1)"
   ],
   "metadata": {
    "collapsed": false,
    "ExecuteTime": {
     "end_time": "2023-11-01T22:48:35.635720200Z",
     "start_time": "2023-11-01T22:48:35.626715900Z"
    }
   },
   "id": "3606369930143395"
  },
  {
   "cell_type": "code",
   "execution_count": 4,
   "outputs": [],
   "source": [
    "# Code here 2)"
   ],
   "metadata": {
    "collapsed": false,
    "ExecuteTime": {
     "end_time": "2023-11-01T22:49:03.023812400Z",
     "start_time": "2023-11-01T22:49:03.010296900Z"
    }
   },
   "id": "eb7801c4c47ec47b"
  },
  {
   "cell_type": "code",
   "execution_count": 5,
   "outputs": [],
   "source": [
    "# Code here 3)"
   ],
   "metadata": {
    "collapsed": false,
    "ExecuteTime": {
     "end_time": "2023-11-01T22:49:16.337171700Z",
     "start_time": "2023-11-01T22:49:16.328166500Z"
    }
   },
   "id": "1d66f24ac269fb45"
  },
  {
   "cell_type": "code",
   "execution_count": 6,
   "outputs": [],
   "source": [
    "# Code here 4)"
   ],
   "metadata": {
    "collapsed": false,
    "ExecuteTime": {
     "end_time": "2023-11-01T22:49:25.224516Z",
     "start_time": "2023-11-01T22:49:25.215511900Z"
    }
   },
   "id": "924a0fe452357d5"
  },
  {
   "cell_type": "code",
   "execution_count": 7,
   "outputs": [],
   "source": [
    "# Code here 5)"
   ],
   "metadata": {
    "collapsed": false,
    "ExecuteTime": {
     "end_time": "2023-11-01T22:49:36.272358700Z",
     "start_time": "2023-11-01T22:49:36.263354500Z"
    }
   },
   "id": "2dd0ac81fde9a495"
  },
  {
   "cell_type": "markdown",
   "source": [
    "**Aufgabenstellung Task 4: Analyse der Transaktionshäufigkeit**\n",
    "\n",
    "*Beschreibung der Aufgabe*: Der Händler möchte wissen, welche Artikel am häufigsten gehandelt werden.\n",
    "\n",
    "*Auftrag*: Schreiben Sie eine Python-Funktion, die die Anzahl der Transaktionen für jeden Artikel berechnet und ausgibt.\n"
   ],
   "metadata": {
    "collapsed": false
   },
   "id": "5b538b91b052457e"
  },
  {
   "cell_type": "code",
   "execution_count": 13,
   "outputs": [],
   "source": [
    "# Code here"
   ],
   "metadata": {
    "collapsed": false,
    "ExecuteTime": {
     "end_time": "2023-11-01T22:51:13.811195900Z",
     "start_time": "2023-11-01T22:51:13.802685300Z"
    }
   },
   "id": "71cdd6f252f9fa2a"
  },
  {
   "cell_type": "markdown",
   "source": [
    "**Aufgabenstellung Task 5: Analyse des täglichen Gewinns und Verlusts**\n",
    "\n",
    "*Beschreibung der Aufgabe*: Der Händler möchte wissen, wie viel Gewinn oder Verlust er gemacht hat.\n",
    "\n",
    "*Auftrag*: Entwickeln Sie Python-Funktionen, um die folgenden Aufgaben auszuführen:\n",
    "   1. Berechnen Sie den Gewinn/Verlust für jeden Tag.\n",
    "   2. Ermitteln Sie den Tag mit dem höchsten/niedrigsten Gewinn.\n",
    "   3. Berechnen Sie den Gewinn/Verlust für die gesamte Zeitspanne.\n"
   ],
   "metadata": {
    "collapsed": false
   },
   "id": "3a83059d305c893f"
  },
  {
   "cell_type": "code",
   "execution_count": 9,
   "outputs": [],
   "source": [
    "# Code here 1)"
   ],
   "metadata": {
    "collapsed": false,
    "ExecuteTime": {
     "end_time": "2023-11-01T22:50:07.459038200Z",
     "start_time": "2023-11-01T22:50:07.450529800Z"
    }
   },
   "id": "ed557421ace6a475"
  },
  {
   "cell_type": "code",
   "execution_count": 10,
   "outputs": [],
   "source": [
    "# Code here 2)"
   ],
   "metadata": {
    "collapsed": false,
    "ExecuteTime": {
     "end_time": "2023-11-01T22:50:17.361664300Z",
     "start_time": "2023-11-01T22:50:17.357111100Z"
    }
   },
   "id": "f50b180d9ae2be98"
  },
  {
   "cell_type": "code",
   "execution_count": 11,
   "outputs": [],
   "source": [
    "# Code here 3)"
   ],
   "metadata": {
    "collapsed": false,
    "ExecuteTime": {
     "end_time": "2023-11-01T22:50:26.226319Z",
     "start_time": "2023-11-01T22:50:26.219314500Z"
    }
   },
   "id": "a70828c816ba2c81"
  }
 ],
 "metadata": {
  "kernelspec": {
   "display_name": "Python 3",
   "language": "python",
   "name": "python3"
  },
  "language_info": {
   "codemirror_mode": {
    "name": "ipython",
    "version": 2
   },
   "file_extension": ".py",
   "mimetype": "text/x-python",
   "name": "python",
   "nbconvert_exporter": "python",
   "pygments_lexer": "ipython2",
   "version": "2.7.6"
  }
 },
 "nbformat": 4,
 "nbformat_minor": 5
}
