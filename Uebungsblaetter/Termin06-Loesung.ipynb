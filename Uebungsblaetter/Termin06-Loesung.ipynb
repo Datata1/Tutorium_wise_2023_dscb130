{
 "cells": [
  {
   "cell_type": "markdown",
   "id": "5818ccac-8578-4030-a657-18bc8deb22c1",
   "metadata": {},
   "source": [
    "# Lösungen\n"
   ]
  },
  {
   "cell_type": "markdown",
   "id": "25dffe2a-cc55-4000-8de0-be75b990d17e",
   "metadata": {},
   "source": [
    "1) Schreibe eine Funktion welche 5 mal 'Hello World!' ausgibt"
   ]
  },
  {
   "cell_type": "code",
   "execution_count": null,
   "id": "1127c1fd-56db-4396-889b-36b33418a04c",
   "metadata": {
    "tags": []
   },
   "outputs": [],
   "source": [
    "# Aufgabe 1 \n",
    "\n",
    "def hello_world_x5():\n",
    "    for _ in range(5):\n",
    "        print('Hello World!')\n",
    "\n",
    "hello_world_x5()"
   ]
  },
  {
   "cell_type": "markdown",
   "id": "da6dbdb6-38e7-42a0-895d-1647e3b6d57a",
   "metadata": {},
   "source": [
    "2) Schreibe eine Funktion welche eine Liste als `*args` nimmt und diese ausgibt (siehe unpacking)"
   ]
  },
  {
   "cell_type": "code",
   "execution_count": null,
   "id": "abf1c06b-0ffc-4338-944b-0ca53a36342b",
   "metadata": {
    "tags": []
   },
   "outputs": [],
   "source": [
    "# Aufgabe 2 \n",
    "\n",
    "def liste_Wird_Multipliziert(*args):\n",
    "    zahl = 1\n",
    "    for i in args:\n",
    "        zahl = zahl * i\n",
    "    return zahl\n",
    "        \n",
    "liste_Wird_Multipliziert(*liste_Aufgabe_2)"
   ]
  },
  {
   "cell_type": "markdown",
   "id": "43b57422-b806-46fd-b0d3-1a785d4c3591",
   "metadata": {},
   "source": [
    "3) Schreibe ein Funktion welche einen input rückwärts ausgibt."
   ]
  },
  {
   "cell_type": "code",
   "execution_count": null,
   "id": "a84c9fda-b355-435e-85b2-0b11bb5d2e7c",
   "metadata": {},
   "outputs": [],
   "source": [
    "# Aufgabe 3 \n",
    "\n",
    "wort_Input = input('Was ist dein Lieblingsessen?')\n",
    "\n",
    "def wort_Rückwärts(wort):\n",
    "    return wort[::-1]\n",
    "\n",
    "wort_Rückwärts(wort_Input)"
   ]
  },
  {
   "cell_type": "markdown",
   "id": "1ed2bf32-f59f-470e-bd64-1df0854116ee",
   "metadata": {
    "tags": []
   },
   "source": [
    "4) Schreibe eine Funktion welche eine Liste von Wörter züruckgibt die sich in einem Text befinden. (Beispielstext wird gegeben)\n"
   ]
  },
  {
   "cell_type": "code",
   "execution_count": 5,
   "id": "d6a7b062-0710-4ee8-bf03-7ba5293913f1",
   "metadata": {
    "tags": []
   },
   "outputs": [
    {
     "name": "stdout",
     "output_type": "stream",
     "text": [
      "['Eine', 'mit', 'GB', 'und', 'Tabellen', 'ist', 'zwar', 'größer', 'als', 'typische', 'Beispieldatenbanken', 'aber', 'es', 'könnte', 'dennoch', 'gut', 'funktionieren', 'abhängig', 'von', 'den', 'Anforderungen', 'und', 'Nutzungsmustern', 'deiner', 'Anwendung', 'Hier', 'sind', 'einige', 'Faktoren', 'zu', 'berücksichtigen', 'Speicherplatz', 'SQLite', 'verwendet', 'eine', 'einzige', 'Datei', 'zur', 'Speicherung', 'der', 'gesamten', 'Datenbank', 'Solange', 'du', 'ausreichend', 'freien', 'Speicherplatz', 'auf', 'deinem', 'System', 'hast', 'sollte', 'dies', 'keine', 'unmittelbare', 'Beeinträchtigung', 'darstellen', 'Denke', 'jedoch', 'daran', 'dass', 'du', 'genügend', 'Speicherplatz', 'für', 'Backups', 'und', 'Wartung', 'benötigen', 'wirst', 'Leistung', 'Die', 'Leistung', 'von', 'SQLite', 'kann', 'bei', 'großen', 'Datenbanken', 'beeinträchtigt', 'werden', 'insbesondere', 'wenn', 'komplexe', 'Abfragen', 'oder', 'gleichzeitige', 'Schreibzugriffe', 'häufig', 'auftreten', 'Du', 'solltest', 'sicherstellen', 'dass', 'die', 'Leistung', 'für', 'deine', 'spezielle', 'Anwendung', 'ausreichend', 'ist', 'Es', 'könnte', 'notwendig', 'sein', 'Indexe', 'oder', 'andere', 'Optimierungen', 'zu', 'verwenden', 'Backup', 'und', 'Wartung', 'Bei', 'größeren', 'Datenbanken', 'wird', 'das', 'Erstellen', 'von', 'Backups', 'und', 'die', 'Durchführung', 'von', 'Wartungsarbeiten', 'zeitaufwändiger', 'Dies', 'kann', 'die', 'Dauer', 'von', 'Wartungsvorgängen', 'wie', 'Vakuumieren', 'erhöhen', 'Zugriffsmuster', 'Überlege', 'wie', 'deine', 'Anwendung', 'die', 'Datenbank', 'verwendet', 'Wenn', 'viele', 'gleichzeitige', 'Schreibzugriffe', 'oder', 'komplexe', 'Abfragen', 'durchgeführt', 'werden', 'könnte', 'dies', 'die', 'Leistung', 'beeinträchtigen', 'Du', 'könntest', 'in', 'Erwägung', 'ziehen', 'die', 'Datenbank', 'aufzuteilen', 'oder', 'eine', 'leistungsfähigere', 'Datenbanklösung', 'in', 'Betracht', 'zu', 'ziehen', 'Es', 'ist', 'wichtig', 'zu', 'beachten', 'dass', 'SQLite', 'nicht', 'für', 'alle', 'Arten', 'von', 'Anwendungen', 'und', 'Nutzungsszenarien', 'geeignet', 'ist', 'Wenn', 'du', 'feststellst', 'dass', 'die', 'Größe', 'und', 'die', 'Anforderungen', 'deiner', 'Datenbank', 'die', 'Leistung', 'oder', 'die', 'Verwaltbarkeit', 'beeinträchtigen', 'könnte', 'es', 'sinnvoll', 'sein', 'eine', 'alternative', 'Datenbanklösung', 'wie', 'PostgreSQL', 'oder', 'MySQL', 'in', 'Betracht', 'zu', 'ziehen', 'Diese', 'bieten', 'eine', 'bessere', 'Skalierbarkeit', 'und', 'Leistung', 'für', 'größere', 'Datenbanken', 'und', 'anspruchsvollere', 'Anwendungsfälle']\n",
      "238\n",
      "['Eine', 'mit', 'GB', 'und', 'Tabellen', 'ist', 'zwar', 'größer', 'als', 'typische', 'Beispieldatenbanken', 'aber', 'es', 'könnte', 'dennoch', 'gut', 'funktionieren', 'abhängig', 'von', 'den', 'Anforderungen', 'und', 'Nutzungsmustern', 'deiner', 'Anwendung', 'Hier', 'sind', 'einige', 'Faktoren', 'zu', 'berücksichtigen', 'Speicherplatz', 'SQLite', 'verwendet', 'eine', 'einzige', 'Datei', 'zur', 'Speicherung', 'der', 'gesamten', 'Datenbank', 'Solange', 'du', 'ausreichend', 'freien', 'Speicherplatz', 'auf', 'deinem', 'System', 'hast', 'sollte', 'dies', 'keine', 'unmittelbare', 'Beeinträchtigung', 'darstellen', 'Denke', 'jedoch', 'daran', 'dass', 'du', 'genügend', 'Speicherplatz', 'für', 'Backups', 'und', 'Wartung', 'benötigen', 'wirst', 'Leistung', 'Die', 'Leistung', 'von', 'SQLite', 'kann', 'bei', 'großen', 'Datenbanken', 'beeinträchtigt', 'werden', 'insbesondere', 'wenn', 'komplexe', 'Abfragen', 'oder', 'gleichzeitige', 'Schreibzugriffe', 'häufig', 'auftreten', 'Du', 'solltest', 'sicherstellen', 'dass', 'die', 'Leistung', 'für', 'deine', 'spezielle', 'Anwendung', 'ausreichend', 'ist', 'Es', 'könnte', 'notwendig', 'sein', 'Indexe', 'oder', 'andere', 'Optimierungen', 'zu', 'verwenden', 'Backup', 'und', 'Wartung', 'Bei', 'größeren', 'Datenbanken', 'wird', 'das', 'Erstellen', 'von', 'Backups', 'und', 'die', 'Durchführung', 'von', 'Wartungsarbeiten', 'zeitaufwändiger', 'Dies', 'kann', 'die', 'Dauer', 'von', 'Wartungsvorgängen', 'wie', 'Vakuumieren', 'erhöhen', 'Zugriffsmuster', 'Überlege', 'wie', 'deine', 'Anwendung', 'die', 'Datenbank', 'verwendet', 'Wenn', 'viele', 'gleichzeitige', 'Schreibzugriffe', 'oder', 'komplexe', 'Abfragen', 'durchgeführt', 'werden', 'könnte', 'dies', 'die', 'Leistung', 'beeinträchtigen', 'Du', 'könntest', 'in', 'Erwägung', 'ziehen', 'die', 'Datenbank', 'aufzuteilen', 'oder', 'eine', 'leistungsfähigere', 'Datenbanklösung', 'in', 'Betracht', 'zu', 'ziehen', 'Es', 'ist', 'wichtig', 'zu', 'beachten', 'dass', 'SQLite', 'nicht', 'für', 'alle', 'Arten', 'von', 'Anwendungen', 'und', 'Nutzungsszenarien', 'geeignet', 'ist', 'Wenn', 'du', 'feststellst', 'dass', 'die', 'Größe', 'und', 'die', 'Anforderungen', 'deiner', 'Datenbank', 'die', 'Leistung', 'oder', 'die', 'Verwaltbarkeit', 'beeinträchtigen', 'könnte', 'es', 'sinnvoll', 'sein', 'eine', 'alternative', 'Datenbanklösung', 'wie', 'PostgreSQL', 'oder', 'MySQL', 'in', 'Betracht', 'zu', 'ziehen', 'Diese', 'bieten', 'eine', 'bessere', 'Skalierbarkeit', 'und', 'Leistung', 'für', 'größere', 'Datenbanken', 'und', 'anspruchsvollere', 'Anwendungsfälle']\n",
      "238\n"
     ]
    }
   ],
   "source": [
    "# Aufgabe 4 \n",
    "Text = '''Eine SQLite-Datenbank mit 20 GB und 10 Tabellen ist zwar größer als typische Beispieldatenbanken, aber es könnte dennoch gut funktionieren, abhängig von den Anforderungen und Nutzungsmustern deiner Anwendung. Hier sind einige Faktoren zu berücksichtigen:\n",
    "\n",
    "Speicherplatz: SQLite verwendet eine einzige Datei zur Speicherung der gesamten Datenbank. Solange du ausreichend freien Speicherplatz auf deinem System hast, sollte dies keine unmittelbare Beeinträchtigung darstellen. Denke jedoch daran, dass du genügend Speicherplatz für Backups und Wartung benötigen wirst.\n",
    "\n",
    "Leistung: Die Leistung von SQLite kann bei großen Datenbanken beeinträchtigt werden, insbesondere wenn komplexe Abfragen oder gleichzeitige Schreibzugriffe häufig auftreten. Du solltest sicherstellen, dass die Leistung für deine spezielle Anwendung ausreichend ist. Es könnte notwendig sein, Indexe oder andere Optimierungen zu verwenden.\n",
    "\n",
    "Backup und Wartung: Bei größeren Datenbanken wird das Erstellen von Backups und die Durchführung von Wartungsarbeiten zeitaufwändiger. Dies kann die Dauer von Wartungsvorgängen wie Vakuumieren erhöhen.\n",
    "\n",
    "Zugriffsmuster: Überlege, wie deine Anwendung die Datenbank verwendet. Wenn viele gleichzeitige Schreibzugriffe oder komplexe Abfragen durchgeführt werden, könnte dies die Leistung beeinträchtigen. Du könntest in Erwägung ziehen, die Datenbank aufzuteilen oder eine leistungsfähigere Datenbanklösung in Betracht zu ziehen.\n",
    "\n",
    "Es ist wichtig zu beachten, dass SQLite nicht für alle Arten von Anwendungen und Nutzungsszenarien geeignet ist. Wenn du feststellst, dass die Größe und die Anforderungen deiner Datenbank die Leistung oder die Verwaltbarkeit beeinträchtigen, könnte es sinnvoll sein, eine alternative Datenbanklösung wie PostgreSQL oder MySQL in Betracht zu ziehen. Diese bieten eine bessere Skalierbarkeit und Leistung für größere Datenbanken und anspruchsvollere Anwendungsfälle.'''\n",
    "\n",
    "def woerter_Aus_Einem_Text_Short(text):\n",
    "    return [word.strip(\".,?!:\") for word in text.split() if word.strip(\".,?!:\").isalpha()]  # List-Comprehension (lohnt sich zu recherchieren)\n",
    "\n",
    "# split Methode trennt die Wörter. default Parameter ist ein Leerzeichen, deshalb gibt es in text.split() keinen Parameter\n",
    "# strip Methode entfernt bestimmte Zeichen am Anfang und am Ende des Strings. Im Parameter werden alle Satzzeichen angegeben die entfernt werden sollen.\n",
    "# isalpha Methode prüft, ob ein String nur alphanumerische Zeichen enthält. Das stellt sicher, dass wirklich nur Wörter in die Liste übernommen werden\n",
    "\n",
    "def woerter_Aus_Einem_Text_Long(text):\n",
    "    text = text.split()\n",
    "    wortliste= []\n",
    "    \n",
    "    for word in text:\n",
    "        wort =  word.strip('.,?!:')  # füge beliebig viele Sonderzeichen ein\n",
    "        if wort.isalpha():\n",
    "            wortliste.append(wort)\n",
    "    \n",
    "    return wortliste\n",
    "    \n",
    "liste_Der_Wörter = woerter_Aus_Einem_Text_Short(Text)\n",
    "liste_Der_Wörter_Long = woerter_Aus_Einem_Text_Long(Text)\n",
    "\n",
    "print(liste_Der_Wörter)\n",
    "print(len(liste_Der_Wörter))\n",
    "\n",
    "print(liste_Der_Wörter_Long)\n",
    "print(len(liste_Der_Wörter_Long))"
   ]
  },
  {
   "cell_type": "markdown",
   "id": "a4ed67d2-4330-4db5-bab4-6dc7f742778e",
   "metadata": {},
   "source": [
    "5) Schreibe eine Funktion welche eine Liste von Wörter annimmt und zählt wie oft welches Wort vorkommt (schließt an Aufgabe 4 an). \n",
    "Die Funktion soll ein Dictionary zürückgeben welches die vorkommenden Wörter als key und die Häufigkeit als value hat."
   ]
  },
  {
   "cell_type": "code",
   "execution_count": 105,
   "id": "763ca11f-a15b-4edf-ba9b-94c0b483c7fe",
   "metadata": {},
   "outputs": [
    {
     "name": "stdout",
     "output_type": "stream",
     "text": [
      "{'eine': 5, 'mit': 1, 'gb': 1, 'und': 9, 'tabellen': 1, 'ist': 4, 'zwar': 1, 'größer': 1, 'als': 1, 'typische': 1, 'beispieldatenbanken': 1, 'aber': 1, 'es': 4, 'könnte': 4, 'dennoch': 1, 'gut': 1, 'funktionieren': 1, 'abhängig': 1, 'von': 6, 'den': 1, 'anforderungen': 2, 'nutzungsmustern': 1, 'deiner': 2, 'anwendung': 3, 'hier': 1, 'sind': 1, 'einige': 1, 'faktoren': 1, 'zu': 5, 'sqlite': 3, 'verwendet': 2, 'einzige': 1, 'datei': 1, 'zur': 1, 'speicherung': 1, 'der': 1, 'gesamten': 1, 'datenbank': 4, 'solange': 1, 'du': 5, 'ausreichend': 2, 'freien': 1, 'speicherplatz': 2, 'auf': 1, 'deinem': 1, 'system': 1, 'hast': 1, 'sollte': 1, 'dies': 3, 'keine': 1, 'unmittelbare': 1, 'beeinträchtigung': 1, 'darstellen': 1, 'denke': 1, 'jedoch': 1, 'daran': 1, 'dass': 4, 'genügend': 1, 'für': 4, 'backups': 2, 'wartung': 1, 'benötigen': 1, 'wirst': 1, 'die': 11, 'leistung': 5, 'kann': 2, 'bei': 2, 'großen': 1, 'datenbanken': 3, 'beeinträchtigt': 1, 'werden': 2, 'insbesondere': 1, 'wenn': 3, 'komplexe': 2, 'abfragen': 2, 'oder': 6, 'gleichzeitige': 2, 'schreibzugriffe': 2, 'häufig': 1, 'auftreten': 1, 'solltest': 1, 'sicherstellen': 1, 'deine': 2, 'spezielle': 1, 'notwendig': 1, 'sein': 2, 'indexe': 1, 'andere': 1, 'optimierungen': 1, 'verwenden': 1, 'backup': 1, 'größeren': 1, 'wird': 1, 'das': 1, 'erstellen': 1, 'durchführung': 1, 'wartungsarbeiten': 1, 'zeitaufwändiger': 1, 'dauer': 1, 'wartungsvorgängen': 1, 'wie': 3, 'vakuumieren': 1, 'erhöhen': 1, 'überlege': 1, 'viele': 1, 'durchgeführt': 1, 'beeinträchtigen': 2, 'könntest': 1, 'in': 3, 'erwägung': 1, 'ziehen': 3, 'aufzuteilen': 1, 'leistungsfähigere': 1, 'datenbanklösung': 2, 'betracht': 2, 'wichtig': 1, 'beachten': 1, 'nicht': 1, 'alle': 1, 'arten': 1, 'anwendungen': 1, 'nutzungsszenarien': 1, 'geeignet': 1, 'feststellst': 1, 'größe': 1, 'verwaltbarkeit': 1, 'sinnvoll': 1, 'alternative': 1, 'postgresql': 1, 'mysql': 1, 'diese': 1, 'bieten': 1, 'bessere': 1, 'skalierbarkeit': 1, 'größere': 1, 'anspruchsvollere': 1, 'anwendungsfälle': 1}\n"
     ]
    },
    {
     "data": {
      "text/plain": [
       "137"
      ]
     },
     "execution_count": 105,
     "metadata": {},
     "output_type": "execute_result"
    }
   ],
   "source": [
    "# Aufgabe 5\n",
    "\n",
    "def zaehle_Woerter(text):\n",
    "    dictionary = {}\n",
    "    for wort in text:\n",
    "        \n",
    "        if wort.lower() in dictionary.keys():\n",
    "            dictionary[wort.lower()] += 1\n",
    "        else:\n",
    "            dictionary[wort.lower()] = 1\n",
    "        \n",
    "    return dictionary\n",
    "\n",
    "# wort.lower weil ansonsten Groß- und Kleinschreibung das Ergenbnis verzerren könnte.\n",
    "\n",
    "dictionary_Aufgabe5 = zaehle_Woerter(liste_Der_Wörter)\n",
    "\n",
    "print(dictionary_Aufgabe5)\n",
    "len(dictionary_Aufgabe5)"
   ]
  },
  {
   "cell_type": "markdown",
   "id": "a05e2adb-9ace-4516-b57a-2df2f6e1daf0",
   "metadata": {},
   "source": [
    "6) Schreibe eine Funktion welche das Dictionary aus Aufgabe 5 nimmt und ausgibt welches Wort am häufigsten vorkommt"
   ]
  },
  {
   "cell_type": "code",
   "execution_count": 106,
   "id": "b56332c6-71aa-42e9-bd0b-4e90413a0463",
   "metadata": {},
   "outputs": [
    {
     "data": {
      "text/plain": [
       "('die', 11)"
      ]
     },
     "execution_count": 106,
     "metadata": {},
     "output_type": "execute_result"
    }
   ],
   "source": [
    "# Aufgabe 6\n",
    "\n",
    "def haeufigstes_Wort(dictionary):\n",
    "    haeufigkeit = 0\n",
    "    haeufigstes_Wort = ()\n",
    "    \n",
    "    for key, value in dictionary.items():\n",
    "        if haeufigkeit < value:\n",
    "            haeufigkeit = value\n",
    "            haeufigstes_Wort = (key, value)\n",
    "            \n",
    "    return haeufigstes_Wort\n",
    "\n",
    "haeufigstes_Wort(dictionary_Aufgabe5)"
   ]
  },
  {
   "cell_type": "markdown",
   "id": "87c8b69a-76a1-4c0a-91d4-9b49fdce74e1",
   "metadata": {},
   "source": [
    "7) Schreibe eine Funktion die alle Dupletten einer Liste (aus Aufgabe 4) entfernt und als Liste zurückgibt."
   ]
  },
  {
   "cell_type": "code",
   "execution_count": 107,
   "id": "2270a874-4887-4502-b4c5-fcc9cee8a550",
   "metadata": {},
   "outputs": [
    {
     "name": "stdout",
     "output_type": "stream",
     "text": [
      "['die', 'unmittelbare', 'Leistung', 'einzige', 'Nutzungsszenarien', 'benötigen', 'Größe', 'sein', 'daran', 'deinem', 'eine', 'größere', 'Hier', 'feststellst', 'freien', 'könntest', 'großen', 'Tabellen', 'wie', 'größeren', 'wirst', 'System', 'Du', 'Arten', 'PostgreSQL', 'Wartungsarbeiten', 'Dies', 'aber', 'verwendet', 'Speicherplatz', 'Die', 'alternative', 'sind', 'Verwaltbarkeit', 'notwendig', 'in', 'bessere', 'solltest', 'Backups', 'Durchführung', 'abhängig', 'beachten', 'sicherstellen', 'Bei', 'keine', 'Wartung', 'leistungsfähigere', 'Faktoren', 'jedoch', 'sollte', 'andere', 'alle', 'Anwendungen', 'bei', 'Optimierungen', 'gut', 'werden', 'zu', 'Wenn', 'Erstellen', 'viele', 'Skalierbarkeit', 'es', 'gleichzeitige', 'oder', 'beeinträchtigt', 'dies', 'komplexe', 'dass', 'Abfragen', 'anspruchsvollere', 'häufig', 'Datei', 'insbesondere', 'ist', 'spezielle', 'einige', 'Datenbank', 'Beeinträchtigung', 'gesamten', 'den', 'mit', 'kann', 'genügend', 'beeinträchtigen', 'funktionieren', 'durchgeführt', 'Überlege', 'geeignet', 'deine', 'typische', 'Datenbanklösung', 'deiner', 'und', 'Beispieldatenbanken', 'Wartungsvorgängen', 'aufzuteilen', 'nicht', 'ziehen', 'Betracht', 'Erwägung', 'zeitaufwändiger', 'Datenbanken', 'Diese', 'Backup', 'Anwendungsfälle', 'dennoch', 'auftreten', 'erhöhen', 'Solange', 'auf', 'von', 'der', 'Anwendung', 'Eine', 'darstellen', 'Denke', 'könnte', 'Speicherung', 'sinnvoll', 'bieten', 'Schreibzugriffe', 'wird', 'das', 'verwenden', 'MySQL', 'Dauer', 'hast', 'wenn', 'Anforderungen', 'ausreichend', 'wichtig', 'GB', 'für', 'zwar', 'Indexe', 'zur', 'als', 'Nutzungsmustern', 'Vakuumieren', 'du', 'SQLite', 'Es', 'größer']\n"
     ]
    },
    {
     "data": {
      "text/plain": [
       "144"
      ]
     },
     "execution_count": 107,
     "metadata": {},
     "output_type": "execute_result"
    }
   ],
   "source": [
    "# Aufgabe 7\n",
    "\n",
    "def entferne_Alle_Dupletten(liste):\n",
    "    return list(set(liste))\n",
    "\n",
    "liste_Ohne_Dupletten = entferne_Alle_Dupletten(liste_Der_Wörter)\n",
    "print(liste_Ohne_Dupletten)\n",
    "len(liste_Ohne_Dupletten)\n",
    "\n",
    "# Dies ist ein toller Trick um schnell Dupletten aus einer Liste zu entfernen. In sets befinden sich \"einzigartige\" Elemente. \n",
    "# Also die konvertierung von einer Liste zu einem Set schmeißt automatisch Dupletten raus.\n",
    "# wenn man das set dann wieder in eine Liste umwandelt, hat man die Liste ohne Dupletten \n",
    "# Achtung: Die Indizes der Elemente in der Liste könnten sich verschieben durch die Löschung von Dupletten."
   ]
  },
  {
   "cell_type": "markdown",
   "id": "9732dc58-8b76-4d49-a862-ccb5e5e6eee8",
   "metadata": {
    "tags": []
   },
   "source": [
    "8) Schreibe eine Funktion die eine Liste (aus Aufgabe 7) nimmt und ausgibt wie lange die Wörter sind die sich in der Liste befinden. \n",
    "Die Funktion soll eine Dictionary zurückgeben mit den WÖrtern als Key und der Wortlänge als value"
   ]
  },
  {
   "cell_type": "code",
   "execution_count": 113,
   "id": "4370c830-83f5-47ed-804a-6c6fb76edc61",
   "metadata": {},
   "outputs": [
    {
     "name": "stdout",
     "output_type": "stream",
     "text": [
      "{'die': 3, 'unmittelbare': 12, 'Leistung': 8, 'einzige': 7, 'Nutzungsszenarien': 17, 'benötigen': 9, 'Größe': 5, 'sein': 4, 'daran': 5, 'deinem': 6, 'eine': 4, 'größere': 7, 'Hier': 4, 'feststellst': 11, 'freien': 6, 'könntest': 8, 'großen': 6, 'Tabellen': 8, 'wie': 3, 'größeren': 8, 'wirst': 5, 'System': 6, 'Du': 2, 'Arten': 5, 'PostgreSQL': 10, 'Wartungsarbeiten': 16, 'Dies': 4, 'aber': 4, 'verwendet': 9, 'Speicherplatz': 13, 'Die': 3, 'alternative': 11, 'sind': 4, 'Verwaltbarkeit': 14, 'notwendig': 9, 'in': 2, 'bessere': 7, 'solltest': 8, 'Backups': 7, 'Durchführung': 12, 'abhängig': 8, 'beachten': 8, 'sicherstellen': 13, 'Bei': 3, 'keine': 5, 'Wartung': 7, 'leistungsfähigere': 17, 'Faktoren': 8, 'jedoch': 6, 'sollte': 6, 'andere': 6, 'alle': 4, 'Anwendungen': 11, 'bei': 3, 'Optimierungen': 13, 'gut': 3, 'werden': 6, 'zu': 2, 'Wenn': 4, 'Erstellen': 9, 'viele': 5, 'Skalierbarkeit': 14, 'es': 2, 'gleichzeitige': 13, 'oder': 4, 'beeinträchtigt': 14, 'dies': 4, 'komplexe': 8, 'dass': 4, 'Abfragen': 8, 'anspruchsvollere': 16, 'häufig': 6, 'Datei': 5, 'insbesondere': 12, 'ist': 3, 'spezielle': 9, 'einige': 6, 'Datenbank': 9, 'Beeinträchtigung': 16, 'gesamten': 8, 'den': 3, 'mit': 3, 'kann': 4, 'genügend': 8, 'beeinträchtigen': 15, 'funktionieren': 13, 'durchgeführt': 12, 'Überlege': 8, 'geeignet': 8, 'deine': 5, 'typische': 8, 'Datenbanklösung': 15, 'deiner': 6, 'und': 3, 'Beispieldatenbanken': 19, 'Wartungsvorgängen': 17, 'aufzuteilen': 11, 'nicht': 5, 'ziehen': 6, 'Betracht': 8, 'Erwägung': 8, 'zeitaufwändiger': 15, 'Datenbanken': 11, 'Diese': 5, 'Backup': 6, 'Anwendungsfälle': 15, 'dennoch': 7, 'auftreten': 9, 'erhöhen': 7, 'Solange': 7, 'auf': 3, 'von': 3, 'der': 3, 'Anwendung': 9, 'Eine': 4, 'darstellen': 10, 'Denke': 5, 'könnte': 6, 'Speicherung': 11, 'sinnvoll': 8, 'bieten': 6, 'Schreibzugriffe': 15, 'wird': 4, 'das': 3, 'verwenden': 9, 'MySQL': 5, 'Dauer': 5, 'hast': 4, 'wenn': 4, 'Anforderungen': 13, 'ausreichend': 11, 'wichtig': 7, 'GB': 2, 'für': 3, 'zwar': 4, 'Indexe': 6, 'zur': 3, 'als': 3, 'Nutzungsmustern': 15, 'Vakuumieren': 11, 'du': 2, 'SQLite': 6, 'Es': 2, 'größer': 6}\n"
     ]
    }
   ],
   "source": [
    "# Aufgabe 8\n",
    "\n",
    "def laenge_Der_Worte(liste):\n",
    "    dictionary_Wortlaenge = {}\n",
    "    for wort in liste:\n",
    "        dictionary_Wortlaenge[wort] = len(wort)\n",
    "    return dictionary_Wortlaenge\n",
    "\n",
    "\n",
    "dictionary_Wortlaenge = laenge_Der_Worte(liste_Ohne_Dupletten)       \n",
    "\n",
    "print(dictionary_Wortlaenge)"
   ]
  },
  {
   "cell_type": "markdown",
   "id": "e59e3a23-4d5f-4c37-8cd9-996c7cfe1756",
   "metadata": {},
   "source": [
    "___"
   ]
  },
  {
   "cell_type": "markdown",
   "id": "ffe59c3e-721a-468c-80ba-e5f5df46c4fc",
   "metadata": {},
   "source": [
    "### Zusatzaufgabe \n",
    "\n",
    "Schreibe eine Funktion die eine beliebige anzahl an Listen mit Integern als Elementen nimmt diese zusammenfügt und dann den Median der zusammengeführten Liste berechnet.\n",
    "\n",
    "Median: https://de.statista.com/statistik/lexikon/definition/85/median/#:~:text=Der%20Wert%2C%20der%20genau%20in,in%20der%20Mitte%20liegenden%20Werte."
   ]
  },
  {
   "cell_type": "code",
   "execution_count": 112,
   "id": "e96200aa-6ea4-40ac-9d41-c0192175ae95",
   "metadata": {
    "tags": []
   },
   "outputs": [
    {
     "name": "stdout",
     "output_type": "stream",
     "text": [
      "(78, 72, 73, 8, 42, 34, 25, 13, 89, 5, 17, 18, 66, 12, 71, 49, 79, 27, 91, 96, 30, 61, 60, 98, 34, 35, 10, 29, 43, 0, 26, 193, 57, 82, 148, 7, 128, 164, 90, 199, 199, 35, 11, 123, 121, 138, 42, 127, 18, 28, 196, 62, 9, 144, 196, 68, 31, 161, 13, 24, 68, 56, 107, 132, 140, 94, 108, 173)\n",
      "68\n",
      "[0, 5, 7, 8, 9, 10, 11, 12, 13, 13, 17, 18, 18, 24, 25, 26, 27, 28, 29, 30, 31, 34, 34, 35, 35, 42, 42, 43, 49, 56, 57, 60, 61, 62, 66, 68, 68, 71, 72, 73, 78, 79, 82, 89, 90, 91, 94, 96, 98, 107, 108, 121, 123, 127, 128, 132, 138, 140, 144, 148, 161, 164, 173, 193, 196, 196, 199, 199]\n"
     ]
    },
    {
     "data": {
      "text/plain": [
       "64.0"
      ]
     },
     "execution_count": 112,
     "metadata": {},
     "output_type": "execute_result"
    }
   ],
   "source": [
    "# Zwei Listen werden generiert die ihr als Argument eurer Funktion benutzen sollt\n",
    "import random\n",
    "\n",
    "liste1 = [random.randint(0,100) for i in range(random.randint(20,100))] # das hier ist eine List Comprehension, eine \"elegante Art\" wie man mit einer For-Schleife eine Liste erstellt\n",
    "liste2 = [random.randint(0,200) for i in range(random.randint(20,100))] # das hier ist eine List Comprehension, eine \"elegante Art\" wie man mit einer For-Schleife eine Liste erstellt\n",
    "\n",
    "def median_Der_Listen(*listen):\n",
    "    print(listen)\n",
    "    print(len(listen))\n",
    "    \n",
    "    listen = list(listen)  # Warum? die *args werden als Tupel in die Funktion übergeben. die .sort() Methode ist aber eine Listen methode\n",
    "    \n",
    "    listen.sort()\n",
    "    print(listen)\n",
    "    \n",
    "    anzahl = len(listen)\n",
    "    \n",
    "    if anzahl % 2 == 1:\n",
    "        return float(listen[anzahl // 2])\n",
    "    else:\n",
    "        mitte1 = listen[anzahl // 2 - 1]\n",
    "        mitte2 = listen[anzahl // 2]\n",
    "        return (float(mitte1) + float(mitte2)) / 2.0\n",
    "    \n",
    "median_Der_Listen(*liste1, *liste2)"
   ]
  },
  {
   "cell_type": "code",
   "execution_count": null,
   "id": "45021439-a12b-4189-845b-24b8b30a72b0",
   "metadata": {},
   "outputs": [],
   "source": []
  }
 ],
 "metadata": {
  "kernelspec": {
   "display_name": "Python 3 (ipykernel)",
   "language": "python",
   "name": "python3"
  },
  "language_info": {
   "codemirror_mode": {
    "name": "ipython",
    "version": 3
   },
   "file_extension": ".py",
   "mimetype": "text/x-python",
   "name": "python",
   "nbconvert_exporter": "python",
   "pygments_lexer": "ipython3",
   "version": "3.11.5"
  }
 },
 "nbformat": 4,
 "nbformat_minor": 5
}
