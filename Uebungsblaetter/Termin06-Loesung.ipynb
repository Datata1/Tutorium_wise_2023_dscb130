{
 "cells": [
  {
   "cell_type": "markdown",
   "id": "5818ccac-8578-4030-a657-18bc8deb22c1",
   "metadata": {},
   "source": [
    "# Lösungen\n"
   ]
  },
  {
   "cell_type": "markdown",
   "id": "25dffe2a-cc55-4000-8de0-be75b990d17e",
   "metadata": {},
   "source": [
    "1) Schreibe eine Funktion welche 5 mal 'Hello World!' ausgibt"
   ]
  },
  {
   "cell_type": "code",
   "execution_count": null,
   "id": "1127c1fd-56db-4396-889b-36b33418a04c",
   "metadata": {
    "tags": []
   },
   "outputs": [],
   "source": [
    "# Aufgabe 1 \n",
    "\n",
    "def hello_world_x5():\n",
    "    for _ in range(5):\n",
    "        print('Hello World!')\n",
    "\n",
    "hello_world_x5()"
   ]
  },
  {
   "cell_type": "markdown",
   "id": "da6dbdb6-38e7-42a0-895d-1647e3b6d57a",
   "metadata": {},
   "source": [
    "2) Schreibe eine Funktion welche eine Liste als `*args` nimmt und diese ausgibt (siehe unpacking)"
   ]
  },
  {
   "cell_type": "code",
   "execution_count": null,
   "id": "abf1c06b-0ffc-4338-944b-0ca53a36342b",
   "metadata": {
    "tags": []
   },
   "outputs": [],
   "source": [
    "# Aufgabe 2 \n",
    "\n",
    "def liste_Wird_Multipliziert(*args):\n",
    "    zahl = 1\n",
    "    for i in args:\n",
    "        zahl = zahl * i\n",
    "    return zahl\n",
    "        \n",
    "liste_Wird_Multipliziert(*liste_Aufgabe_2)"
   ]
  },
  {
   "cell_type": "markdown",
   "id": "43b57422-b806-46fd-b0d3-1a785d4c3591",
   "metadata": {},
   "source": [
    "3) Schreibe ein Funktion welche einen input rückwärts ausgibt."
   ]
  },
  {
   "cell_type": "code",
   "execution_count": null,
   "id": "a84c9fda-b355-435e-85b2-0b11bb5d2e7c",
   "metadata": {},
   "outputs": [],
   "source": [
    "# Aufgabe 3 \n",
    "\n",
    "wort_Input = input('Was ist dein Lieblingsessen?')\n",
    "\n",
    "def wort_Rückwärts(wort):\n",
    "    return wort[::-1]\n",
    "\n",
    "wort_Rückwärts(wort_Input)"
   ]
  },
  {
   "cell_type": "markdown",
   "id": "1ed2bf32-f59f-470e-bd64-1df0854116ee",
   "metadata": {
    "tags": []
   },
   "source": [
    "4) Schreibe eine Funktion welche eine Liste von Wörter züruckgibt die sich in einem Text befinden. (Beispielstext wird gegeben)\n"
   ]
  },
  {
   "cell_type": "code",
   "execution_count": null,
   "id": "d6a7b062-0710-4ee8-bf03-7ba5293913f1",
   "metadata": {},
   "outputs": [],
   "source": [
    "# Aufgabe 4 \n",
    "Text = '''Eine SQLite-Datenbank mit 20 GB und 10 Tabellen ist zwar größer als typische Beispieldatenbanken, aber es könnte dennoch gut funktionieren, abhängig von den Anforderungen und Nutzungsmustern deiner Anwendung. Hier sind einige Faktoren zu berücksichtigen:\n",
    "\n",
    "Speicherplatz: SQLite verwendet eine einzige Datei zur Speicherung der gesamten Datenbank. Solange du ausreichend freien Speicherplatz auf deinem System hast, sollte dies keine unmittelbare Beeinträchtigung darstellen. Denke jedoch daran, dass du genügend Speicherplatz für Backups und Wartung benötigen wirst.\n",
    "\n",
    "Leistung: Die Leistung von SQLite kann bei großen Datenbanken beeinträchtigt werden, insbesondere wenn komplexe Abfragen oder gleichzeitige Schreibzugriffe häufig auftreten. Du solltest sicherstellen, dass die Leistung für deine spezielle Anwendung ausreichend ist. Es könnte notwendig sein, Indexe oder andere Optimierungen zu verwenden.\n",
    "\n",
    "Backup und Wartung: Bei größeren Datenbanken wird das Erstellen von Backups und die Durchführung von Wartungsarbeiten zeitaufwändiger. Dies kann die Dauer von Wartungsvorgängen wie Vakuumieren erhöhen.\n",
    "\n",
    "Zugriffsmuster: Überlege, wie deine Anwendung die Datenbank verwendet. Wenn viele gleichzeitige Schreibzugriffe oder komplexe Abfragen durchgeführt werden, könnte dies die Leistung beeinträchtigen. Du könntest in Erwägung ziehen, die Datenbank aufzuteilen oder eine leistungsfähigere Datenbanklösung in Betracht zu ziehen.\n",
    "\n",
    "Es ist wichtig zu beachten, dass SQLite nicht für alle Arten von Anwendungen und Nutzungsszenarien geeignet ist. Wenn du feststellst, dass die Größe und die Anforderungen deiner Datenbank die Leistung oder die Verwaltbarkeit beeinträchtigen, könnte es sinnvoll sein, eine alternative Datenbanklösung wie PostgreSQL oder MySQL in Betracht zu ziehen. Diese bieten eine bessere Skalierbarkeit und Leistung für größere Datenbanken und anspruchsvollere Anwendungsfälle.'''\n",
    "\n",
    "def woerter_Aus_Einem_Text(text):\n",
    "    return text.split()\n",
    "    \n",
    "liste_Der_Wörter = woerter_Aus_Einem_Text(Text)\n",
    "\n",
    "print(liste_Der_Wörter)\n",
    "len(liste_Der_Wörter)"
   ]
  },
  {
   "cell_type": "markdown",
   "id": "a4ed67d2-4330-4db5-bab4-6dc7f742778e",
   "metadata": {},
   "source": [
    "5) Schreibe eine Funktion welche eine Liste von Wörter annimmt und zählt wie oft welches Wort vorkommt (schließt an Aufgabe 4 an). \n",
    "Die Funktion soll ein Dictionary zürückgeben welches die vorkommenden Wörter als key und die Häufigkeit als value hat."
   ]
  },
  {
   "cell_type": "code",
   "execution_count": null,
   "id": "763ca11f-a15b-4edf-ba9b-94c0b483c7fe",
   "metadata": {},
   "outputs": [],
   "source": [
    "# Aufgabe 5\n",
    "\n",
    "def zaehle_Woerter(text):\n",
    "    dictionary = {}\n",
    "    for wort in text:\n",
    "        \n",
    "        if wort.lower() in dictionary.keys():\n",
    "            dictionary[wort.lower()] += 1\n",
    "        else:\n",
    "            dictionary[wort.lower()] = 1\n",
    "        \n",
    "    return dictionary\n",
    "\n",
    "dictionary_Aufgabe5 = zaehle_Woerter(liste_Der_Wörter)\n",
    "\n",
    "print(dictionary_Aufgabe5)\n",
    "len(dictionary_Aufgabe5)"
   ]
  },
  {
   "cell_type": "markdown",
   "id": "a05e2adb-9ace-4516-b57a-2df2f6e1daf0",
   "metadata": {},
   "source": [
    "6) Schreibe eine Funktion welche das Dictionary aus Aufgabe 5 nimmt und ausgibt welches Wort am häufigsten vorkommt"
   ]
  },
  {
   "cell_type": "code",
   "execution_count": null,
   "id": "b56332c6-71aa-42e9-bd0b-4e90413a0463",
   "metadata": {},
   "outputs": [],
   "source": [
    "# Aufgabe 6\n",
    "\n",
    "def haeufigstes_Wort(dictionary):\n",
    "    haeufigkeit = 0\n",
    "    haeufigstes_Wort = ()\n",
    "    \n",
    "    for key, value in dictionary.items():\n",
    "        if haeufigkeit < value:\n",
    "            haeufigkeit = value\n",
    "            haeufigstes_Wort = (key, value)\n",
    "            \n",
    "    return haeufigstes_Wort\n",
    "\n",
    "haeufigstes_Wort(dictionary_Aufgabe5)"
   ]
  },
  {
   "cell_type": "markdown",
   "id": "87c8b69a-76a1-4c0a-91d4-9b49fdce74e1",
   "metadata": {},
   "source": [
    "7) Schreibe eine Funktion die alle Dupletten einer Liste (aus Aufgabe 4) entfernt und als Liste zurückgibt."
   ]
  },
  {
   "cell_type": "code",
   "execution_count": null,
   "id": "2270a874-4887-4502-b4c5-fcc9cee8a550",
   "metadata": {},
   "outputs": [],
   "source": [
    "# Aufgabe 7\n",
    "\n",
    "def entferne_Alle_Dupletten(liste):\n",
    "    return list(set(liste))\n",
    "\n",
    "liste_Ohne_Dupletten = entferne_Alle_Dupletten(liste_Der_Wörter)\n",
    "print(liste_Ohne_Dupletten)\n",
    "len(liste_Ohne_Dupletten)\n",
    "\n",
    "# Code here"
   ]
  },
  {
   "cell_type": "markdown",
   "id": "9732dc58-8b76-4d49-a862-ccb5e5e6eee8",
   "metadata": {
    "tags": []
   },
   "source": [
    "8) Schreibe eine Funktion die eine Liste (aus Aufgabe 7) nimmt und ausgibt wie lange die Wörter sind die sich in der Liste befinden. \n",
    "Die Funktion soll eine Dictionary zurückgeben mit den WÖrtern als Key und der Wortlänge als value"
   ]
  },
  {
   "cell_type": "code",
   "execution_count": null,
   "id": "4370c830-83f5-47ed-804a-6c6fb76edc61",
   "metadata": {},
   "outputs": [],
   "source": [
    "# Aufgabe 8\n",
    "\n",
    "def laenge_Der_Worte(liste):\n",
    "    dictionary_Wortlaenge = {}\n",
    "    for wort in liste:\n",
    "        dictionary_Wortlaenge[wort] = len(wort)\n",
    "    return dictionary_Wortlaenge\n",
    "\n",
    "\n",
    "dictionary_Wortlaenge = laenge_Der_Worte(liste_Ohne_Dupletten)       \n",
    "\n",
    "print(dictionary_Wortlaenge)"
   ]
  },
  {
   "cell_type": "markdown",
   "id": "e59e3a23-4d5f-4c37-8cd9-996c7cfe1756",
   "metadata": {},
   "source": [
    "___"
   ]
  },
  {
   "cell_type": "markdown",
   "id": "ffe59c3e-721a-468c-80ba-e5f5df46c4fc",
   "metadata": {},
   "source": [
    "### Zusatzaufgabe \n",
    "\n",
    "Schreibe eine Funktion die eine beliebige anzahl an Listen mit Integern als Elementen nimmt diese zusammenfügt und dann den Median der zusammengeführten Liste berechnet.\n",
    "\n",
    "Median: https://de.statista.com/statistik/lexikon/definition/85/median/#:~:text=Der%20Wert%2C%20der%20genau%20in,in%20der%20Mitte%20liegenden%20Werte."
   ]
  },
  {
   "cell_type": "code",
   "execution_count": null,
   "id": "e96200aa-6ea4-40ac-9d41-c0192175ae95",
   "metadata": {
    "tags": []
   },
   "outputs": [],
   "source": [
    "# Zwei Listen werden generiert die ihr als Argument eurer Funktion benutzen sollt\n",
    "import random\n",
    "\n",
    "liste1 = [random.randint(0,100) for i in range(random.randint(20,100))] # das hier ist eine List Comprehension, eine \"elegante Art\" wie man mit einer For-Schleife eine Liste erstellt\n",
    "liste2 = [random.randint(0,200) for i in range(random.randint(20,100))] # das hier ist eine List Comprehension, eine \"elegante Art\" wie man mit einer For-Schleife eine Liste erstellt\n",
    "print(liste1, liste2)\n",
    "print(len(liste1), len(liste2))\n",
    "\n",
    "def median_Der_Listen(*listen):\n",
    "    print(listen)\n",
    "    print(len(listen))\n",
    "    \n",
    "    listen = list(listen)  # Warum? die *args werden als Tupel in die Funktion übergeben. die .sort() Methode ist aber eine Listen methode\n",
    "    print(listen)\n",
    "    print(len(listen))\n",
    "    \n",
    "    listen.sort()\n",
    "    print(listen)\n",
    "    print(len(listen))\n",
    "    \n",
    "    anzahl = len(listen)\n",
    "    \n",
    "    if anzahl % 2 == 1:\n",
    "        return float(listen[anzahl // 2])\n",
    "    else:\n",
    "        mitte1 = listen[anzahl // 2 - 1]\n",
    "        mitte2 = listen[anzahl // 2]\n",
    "        return (float(mitte1) + float(mitte2)) / 2.0\n",
    "    \n",
    "median_Der_Listen(*liste1, *liste2)"
   ]
  }
 ],
 "metadata": {
  "kernelspec": {
   "display_name": "Python 3 (ipykernel)",
   "language": "python",
   "name": "python3"
  },
  "language_info": {
   "codemirror_mode": {
    "name": "ipython",
    "version": 3
   },
   "file_extension": ".py",
   "mimetype": "text/x-python",
   "name": "python",
   "nbconvert_exporter": "python",
   "pygments_lexer": "ipython3",
   "version": "3.11.5"
  }
 },
 "nbformat": 4,
 "nbformat_minor": 5
}
