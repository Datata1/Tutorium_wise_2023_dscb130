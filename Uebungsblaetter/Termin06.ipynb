{
 "cells": [
  {
   "cell_type": "markdown",
   "id": "f1a7edc1-823d-4780-8a71-0502d01dfb46",
   "metadata": {},
   "source": [
    "# Anmerkungen zu Funkionen\n",
    "___\n",
    "\n",
    "### Docstring"
   ]
  },
  {
   "cell_type": "code",
   "execution_count": 1,
   "id": "7be04417-a362-40ee-9509-3ef428d93171",
   "metadata": {
    "tags": []
   },
   "outputs": [],
   "source": [
    "def print_hello_function():                          # Namen der Funktion klein schreiben (Konvention)  \n",
    "    '''Gibt einen Hello! String aus'''\n",
    "    \n",
    "    print('Hello!')"
   ]
  },
  {
   "cell_type": "markdown",
   "id": "1c117e04-6882-4a1d-ad4b-0c737fa07355",
   "metadata": {},
   "source": [
    " <div class=\"alert alert-block alert-info\"> \n",
    "    <b>NOTE</b> \"Am Anfang einer Funktion sollte durch einen sog. Documentation String (Docstring), beschrieben sein was eine Funktion macht (nicht wie). Definiert werden Docstrings durch drei Anführungszeichen (Siehe Beispiel oben)\" </div>"
   ]
  },
  {
   "cell_type": "markdown",
   "id": "e0ce99a9-f8db-4363-934a-61e9e164c6ec",
   "metadata": {
    "tags": []
   },
   "source": [
    "___"
   ]
  },
  {
   "cell_type": "markdown",
   "id": "30ca7c8e-acef-4b5b-a564-75258491d577",
   "metadata": {},
   "source": [
    "### return statement"
   ]
  },
  {
   "cell_type": "code",
   "execution_count": 4,
   "id": "75917c19-12bf-407e-8102-4d4bf3f944f1",
   "metadata": {
    "tags": []
   },
   "outputs": [
    {
     "name": "stdout",
     "output_type": "stream",
     "text": [
      "10\n"
     ]
    }
   ],
   "source": [
    "def add_numbers(a, b):\n",
    "    '''addiert zwei Zahlen'''\n",
    "    \n",
    "    return a + b\n",
    "\n",
    "variable = add_numbers(5, 5)\n",
    "print(variable)"
   ]
  },
  {
   "cell_type": "markdown",
   "id": "351a8170-fe5f-436d-bb2a-bed4a02c80db",
   "metadata": {
    "tags": []
   },
   "source": [
    " <div class=\"alert alert-block alert-info\"> \n",
    "    <b>NOTE</b> \"Wenn eine Funktion einen Wert zurückliefern soll kann das `return` Statement genutzt werden. \" </div>"
   ]
  },
  {
   "cell_type": "markdown",
   "id": "486a5c5c-c39f-4964-9daa-9dbb37fc9ba1",
   "metadata": {},
   "source": [
    "___"
   ]
  },
  {
   "cell_type": "markdown",
   "id": "3eb30580-5cd7-4218-985a-010217d45f31",
   "metadata": {},
   "source": [
    "### pass statement"
   ]
  },
  {
   "cell_type": "code",
   "execution_count": 46,
   "id": "c0b5bdeb-96b4-4235-8326-1dda4e21b555",
   "metadata": {
    "tags": []
   },
   "outputs": [],
   "source": [
    "def leere_funktion(a, b):\n",
    "    '''Diese Funktion macht gar nichts'''\n",
    "    \n",
    "    pass\n",
    "\n",
    "leere_funktion(5,5)"
   ]
  },
  {
   "cell_type": "markdown",
   "id": "2b6d5beb-b396-446c-b8c7-9c3549524a7e",
   "metadata": {},
   "source": [
    "<div class=\"alert alert-block alert-info\"> \n",
    "    <b>NOTE</b> \"Funktionen können nicht \"leer\" sein, wenn eine Funtion aber keinen Wert zurückliefern soll kann man das pass Statement nutzen\" </div>"
   ]
  },
  {
   "cell_type": "markdown",
   "id": "d72021f3-80ce-4c7f-bd01-11d116cdaeb3",
   "metadata": {},
   "source": [
    "___"
   ]
  },
  {
   "cell_type": "markdown",
   "id": "b26804a6-a700-4116-87a9-d90f4c057765",
   "metadata": {},
   "source": [
    "### Args und Kwargs"
   ]
  },
  {
   "cell_type": "markdown",
   "id": "6ed1affa-1a62-4bfc-ba5b-dea0af087c69",
   "metadata": {},
   "source": [
    "Args ist die englische Abkürzung für Arguments (= Positional Arguments), Kwargs die für Keyword-Arguments.\n",
    "\n",
    "Args haben wir gerade schon kennengelernt: "
   ]
  },
  {
   "cell_type": "code",
   "execution_count": 37,
   "id": "a3ca3013-729b-41e7-ba15-b5f8ccd05989",
   "metadata": {
    "tags": []
   },
   "outputs": [
    {
     "data": {
      "text/plain": [
       "10"
      ]
     },
     "execution_count": 37,
     "metadata": {},
     "output_type": "execute_result"
    }
   ],
   "source": [
    "def arguments(a, b):\n",
    "    '''Diese Funktion addiert zwi Zahlen. Positional Argumente werden angegeben'''\n",
    "    \n",
    "    return a + b\n",
    "\n",
    "arguments(5, 5)"
   ]
  },
  {
   "cell_type": "markdown",
   "id": "cfdd6af8-01de-4d10-ad8b-5a8270e44298",
   "metadata": {
    "tags": []
   },
   "source": [
    "Kwargs sind auch Parameter, jedoch weisen wir ihnen direkt einen Wert zu. \n",
    "\n",
    "Wenn beim Funktionsaufruf keine Parameter angegeben werden, werden deren 'Standartwerte' verwendet die in der Funktionsdefinition angegeben wurden."
   ]
  },
  {
   "cell_type": "code",
   "execution_count": 38,
   "id": "c660e7ad-0fdc-43cb-86a4-fbabfd5f03d7",
   "metadata": {
    "tags": []
   },
   "outputs": [
    {
     "data": {
      "text/plain": [
       "11"
      ]
     },
     "execution_count": 38,
     "metadata": {},
     "output_type": "execute_result"
    }
   ],
   "source": [
    "def kwargs(a=5, b=6):\n",
    "    '''Diese Funktion addiert zwi Zahlen. Keyword Argumente werden angegeben'''\n",
    "    \n",
    "    return a + b\n",
    "\n",
    "kwargs()"
   ]
  },
  {
   "cell_type": "markdown",
   "id": "0b9d83ca-1ef7-4bb9-bdcb-89e76dba493b",
   "metadata": {},
   "source": [
    "<div class=\"alert alert-block alert-info\"> \n",
    "    <b>NOTE</b> \"Wir können die Funktion auch so schreiben, dass beliebig viele Argumente und Keyword-Argumente entgegengenommen werden können\" </div>"
   ]
  },
  {
   "cell_type": "code",
   "execution_count": 14,
   "id": "8030ca74-3929-436c-acd8-bacff1973cb8",
   "metadata": {
    "tags": []
   },
   "outputs": [
    {
     "name": "stdout",
     "output_type": "stream",
     "text": [
      "15\n",
      "45\n"
     ]
    }
   ],
   "source": [
    "def bad_example(a, b, c, d, e):\n",
    "    return a+b+c+d+e\n",
    "\n",
    "def better_example(*args):\n",
    "    num = 0\n",
    "    for arg in args:\n",
    "        num += arg\n",
    "    return num\n",
    "\n",
    "print(bad_example(1,2,3,4,5))\n",
    "print(better_example(1,2,3,4,5,6,7,8,9))"
   ]
  },
  {
   "cell_type": "code",
   "execution_count": 18,
   "id": "538d8d26-b3f2-43ed-8b43-d097e018ea5b",
   "metadata": {
    "tags": []
   },
   "outputs": [
    {
     "name": "stdout",
     "output_type": "stream",
     "text": [
      "{'a': 5, 'b': 'hallo', 'karlsruhe': 'cool', 'liste': [1, 2, 'a']}\n"
     ]
    }
   ],
   "source": [
    "def kwarg_funktion(**kwargs):\n",
    "    print(kwargs)\n",
    "    \n",
    "kwarg_funktion(a=5, b='hallo', karlsruhe='cool', liste=[1, 2, 'a'])"
   ]
  },
  {
   "cell_type": "markdown",
   "id": "03155772-1fe8-4b55-9457-c7e3243c0d5d",
   "metadata": {},
   "source": [
    "<div class=\"alert alert-block alert-info\"> \n",
    "    <b>NOTE</b> \"Die Reihenfolge wie wir args und kwargs in die Funktion übergeben spielt eine Rolle.\" </div>"
   ]
  },
  {
   "cell_type": "code",
   "execution_count": 21,
   "id": "cdabc5e0-988f-41a9-a5fa-e4205639605d",
   "metadata": {
    "tags": []
   },
   "outputs": [
    {
     "name": "stdout",
     "output_type": "stream",
     "text": [
      "(1, 2, 3, 4, True, 'hi')\n",
      "{'toll': 'ok', 'frucht': 'babnane', 'auto': 'BMW'}\n"
     ]
    }
   ],
   "source": [
    "def test(*args, **kwargs):\n",
    "    print(args)\n",
    "    print(kwargs)\n",
    "    \n",
    "test(1,2,3,4,True,'hi', toll='ok', frucht='babnane', auto='BMW')"
   ]
  },
  {
   "cell_type": "code",
   "execution_count": 22,
   "id": "241613a0-e94d-4a57-8f6c-b726d3b05a0f",
   "metadata": {
    "tags": []
   },
   "outputs": [
    {
     "ename": "SyntaxError",
     "evalue": "positional argument follows keyword argument (1351640741.py, line 1)",
     "output_type": "error",
     "traceback": [
      "\u001b[1;36m  Cell \u001b[1;32mIn[22], line 1\u001b[1;36m\u001b[0m\n\u001b[1;33m    test(toll='ok', frucht='babnane', auto='BMW',1,2,3,4,True)\u001b[0m\n\u001b[1;37m                                                             ^\u001b[0m\n\u001b[1;31mSyntaxError\u001b[0m\u001b[1;31m:\u001b[0m positional argument follows keyword argument\n"
     ]
    }
   ],
   "source": [
    "test(toll='ok', frucht='babnane', auto='BMW',1,2,3,4,True)"
   ]
  },
  {
   "cell_type": "markdown",
   "id": "ebb634b8-5e2a-454a-a4c3-fdf154f2ba5d",
   "metadata": {},
   "source": [
    "Wieso wirft dieser Call einen Fehler auf?\n",
    "\n",
    "in der Funktionionsdefinition werden `*args` ***vor*** `*kwargs*` angegeben. "
   ]
  },
  {
   "cell_type": "markdown",
   "id": "b27b5c02-6f68-405b-bba2-0aad7100ea04",
   "metadata": {
    "tags": []
   },
   "source": [
    "<div class=\"alert alert-block alert-info\"> \n",
    "    <b>NOTE</b> \"In Python ist es nicht möglich, *args (Positional-Argumente) nach **kwargs (Keyword-Argumente) in der Funktionsdefinition zu platzieren. Das liegt daran, dass **kwargs alle nicht explizit benannten Argumente als Schlüssel-Wert-Paare sammelt, während *args für nicht explizit benannte Positional-Argumente verwendet wird. Daher sollten **kwargs immer nach *args in der Funktionsdefinition stehen.\" </div>"
   ]
  },
  {
   "cell_type": "markdown",
   "id": "d9189804-e45c-4641-9b19-341715ab605d",
   "metadata": {},
   "source": [
    "___"
   ]
  },
  {
   "cell_type": "markdown",
   "id": "86774f9b-8f3e-4c9a-b624-a55bf6124606",
   "metadata": {},
   "source": [
    "### Unpacking von Args und Kwargs"
   ]
  },
  {
   "cell_type": "markdown",
   "id": "e43f0484-b648-4fdd-afc1-dc34fa72a49f",
   "metadata": {
    "tags": []
   },
   "source": [
    "Man kann Args und Kwargs auch variablen mit Datenstrukturen übergeben die sie dann entpacken sollen, so kann man geschickt schnell viele variablen übergeben."
   ]
  },
  {
   "cell_type": "code",
   "execution_count": 30,
   "id": "eda9078e-c87e-4b2e-904a-744801276ab7",
   "metadata": {
    "tags": []
   },
   "outputs": [
    {
     "data": {
      "text/plain": [
       "4096"
      ]
     },
     "execution_count": 30,
     "metadata": {},
     "output_type": "execute_result"
    }
   ],
   "source": [
    "import random\n",
    "\n",
    "# generieren von Listen mit 100 Zufallszahlen\n",
    "numbers = [random.randint(0,20) for i in range(100)] # das hier ist eine List Comprehension, eine \"elegante Art\" wie man mit einer For-Schleife eine Liste erstellt\n",
    "numbers2 = [random.randint(20,40) for i in range(100)]\n",
    "\n",
    "# addieren aller elemente miteinander\n",
    "def add(*numbers):\n",
    "    '''\n",
    "    addiert alle Elemente zusammen\n",
    "    '''\n",
    "    \n",
    "    total = 0\n",
    "    for i in numbers:\n",
    "        total += i\n",
    "               \n",
    "    return total\n",
    " \n",
    "    \n",
    "add(*numbers,*numbers2)"
   ]
  },
  {
   "cell_type": "markdown",
   "id": "60bed2fe-5b1b-43a9-8b55-cac7981f44ec",
   "metadata": {},
   "source": [
    "___"
   ]
  },
  {
   "cell_type": "markdown",
   "id": "c12665ea-cef9-4a08-a8af-b1a3bde4c953",
   "metadata": {
    "tags": []
   },
   "source": [
    "### Eine Übersicht zu den Funktionen gibt es hier:\n",
    "\n",
    "https://www.w3schools.com/python/python_functions.asp"
   ]
  },
  {
   "cell_type": "markdown",
   "id": "c424805c-68c0-40b3-a780-282969f204a5",
   "metadata": {},
   "source": [
    "___"
   ]
  },
  {
   "cell_type": "markdown",
   "id": "5818ccac-8578-4030-a657-18bc8deb22c1",
   "metadata": {},
   "source": [
    "# Übungsaufgaben\n",
    "\n",
    "wir werden in den nächsten Übungsaufgaben die Konzepte die wir bisher gelernt haben wiederholen.\n"
   ]
  },
  {
   "cell_type": "markdown",
   "id": "25dffe2a-cc55-4000-8de0-be75b990d17e",
   "metadata": {},
   "source": [
    "1) Schreibe eine Funktion welche 5 mal 'Hello World!' ausgibt"
   ]
  },
  {
   "cell_type": "code",
   "execution_count": 39,
   "id": "1127c1fd-56db-4396-889b-36b33418a04c",
   "metadata": {
    "tags": []
   },
   "outputs": [],
   "source": [
    "# Aufgabe 1 \n",
    "\n",
    "def hello_world_x5():\n",
    "    # Code here"
   ]
  },
  {
   "cell_type": "markdown",
   "id": "da6dbdb6-38e7-42a0-895d-1647e3b6d57a",
   "metadata": {},
   "source": [
    "2) Schreibe eine Funktion welche eine Liste als `*args` nimmt und diese ausgibt (siehe oben)"
   ]
  },
  {
   "cell_type": "code",
   "execution_count": 40,
   "id": "abf1c06b-0ffc-4338-944b-0ca53a36342b",
   "metadata": {
    "tags": []
   },
   "outputs": [],
   "source": [
    "# Aufgabe 2 \n",
    "\n",
    "# Code here"
   ]
  },
  {
   "cell_type": "markdown",
   "id": "43b57422-b806-46fd-b0d3-1a785d4c3591",
   "metadata": {},
   "source": [
    "3) Schreibe ein Funktion welche einen input rückwärts ausgibt."
   ]
  },
  {
   "cell_type": "code",
   "execution_count": null,
   "id": "a84c9fda-b355-435e-85b2-0b11bb5d2e7c",
   "metadata": {},
   "outputs": [],
   "source": [
    "# Aufgabe 3 \n",
    "\n",
    "# Code here"
   ]
  },
  {
   "cell_type": "markdown",
   "id": "1ed2bf32-f59f-470e-bd64-1df0854116ee",
   "metadata": {
    "tags": []
   },
   "source": [
    "4) Schreibe eine Funktion welche eine Liste von Wörter züruckgibt die sich in einem Text befinden. (Beispielstext wird gegeben)\n"
   ]
  },
  {
   "cell_type": "code",
   "execution_count": null,
   "id": "d6a7b062-0710-4ee8-bf03-7ba5293913f1",
   "metadata": {},
   "outputs": [],
   "source": [
    "# Aufgabe 4 \n",
    "\n",
    "Text = 'Wenn ein Computer im Laufe der Zeit all seine Teile austauscht, ist er immer noch derselbe Computer? Dies ist wie die Frage, ob ein Auto immer noch dasselbe Auto ist, nachdem es neue Reifen, einen neuen Motor und eine frische Lackierung erhalten hat. Verändert sich die Identität des Computers mit jeder Hardware-Aufrüstung? Es ist ein modernes Rätsel, das zeigt, wie Technologie unsere Vorstellungen von Identität auf den Kopf stellt.'\n",
    "\n",
    "# Code here"
   ]
  },
  {
   "cell_type": "markdown",
   "id": "a4ed67d2-4330-4db5-bab4-6dc7f742778e",
   "metadata": {},
   "source": [
    "5) Schreibe eine Funktion welche eine Liste von Wörter annimmt und zählt wie oft welches Wort vorkommt (schließt an Aufgabe 4 an). \n",
    "Die Funktion soll ein Dictionary zürückgeben welches die vorkommenden Wörter als key und die häufigkeit als value hat."
   ]
  },
  {
   "cell_type": "code",
   "execution_count": null,
   "id": "763ca11f-a15b-4edf-ba9b-94c0b483c7fe",
   "metadata": {},
   "outputs": [],
   "source": [
    "# Aufgabe 5\n",
    "\n",
    "# Code here"
   ]
  },
  {
   "cell_type": "markdown",
   "id": "a05e2adb-9ace-4516-b57a-2df2f6e1daf0",
   "metadata": {},
   "source": [
    "6) Schreibe eine Funktion welche das Dictionary aus Aufgabe 5 nimmt und ausgibt, welches Wort am häufigsten vorkommt"
   ]
  },
  {
   "cell_type": "code",
   "execution_count": null,
   "id": "b56332c6-71aa-42e9-bd0b-4e90413a0463",
   "metadata": {},
   "outputs": [],
   "source": [
    "# Aufgabe 6\n",
    "\n",
    "# Code here"
   ]
  },
  {
   "cell_type": "markdown",
   "id": "87c8b69a-76a1-4c0a-91d4-9b49fdce74e1",
   "metadata": {},
   "source": [
    "7) Schreibe eine Funktion die alle Dupletten einer Liste (aus Aufgabe 4) entfernt und als Liste zurückgibt."
   ]
  },
  {
   "cell_type": "code",
   "execution_count": null,
   "id": "2270a874-4887-4502-b4c5-fcc9cee8a550",
   "metadata": {},
   "outputs": [],
   "source": [
    "# Aufgabe 7\n",
    "\n",
    "# Code here"
   ]
  },
  {
   "cell_type": "markdown",
   "id": "9732dc58-8b76-4d49-a862-ccb5e5e6eee8",
   "metadata": {
    "tags": []
   },
   "source": [
    "8) Schreibe eine Funktion die eine Liste (aus Aufgabe 6) nimmt und ausgibt wie lange die Wörter sind die sich in der Liste befinden. \n",
    "Die Funktion soll eine Dictionary zurückgeben mit den WÖrtern als Key und der Wortlänge als value"
   ]
  },
  {
   "cell_type": "code",
   "execution_count": null,
   "id": "4370c830-83f5-47ed-804a-6c6fb76edc61",
   "metadata": {},
   "outputs": [],
   "source": [
    "# Aufgabe 8\n",
    "\n",
    "# Code here"
   ]
  },
  {
   "cell_type": "markdown",
   "id": "e59e3a23-4d5f-4c37-8cd9-996c7cfe1756",
   "metadata": {},
   "source": [
    "___"
   ]
  },
  {
   "cell_type": "markdown",
   "id": "ffe59c3e-721a-468c-80ba-e5f5df46c4fc",
   "metadata": {},
   "source": [
    "### Zusatzaufgabe \n",
    "\n",
    "Schreibe eine Funktion die zwei Listen mit Zahlen als Elementen nimmt diese zusammenfügt und dann den Median der Liste berechnet.\n",
    "\n",
    "Median: https://de.statista.com/statistik/lexikon/definition/85/median/#:~:text=Der%20Wert%2C%20der%20genau%20in,in%20der%20Mitte%20liegenden%20Werte."
   ]
  },
  {
   "cell_type": "code",
   "execution_count": 44,
   "id": "e96200aa-6ea4-40ac-9d41-c0192175ae95",
   "metadata": {
    "tags": []
   },
   "outputs": [],
   "source": [
    "# Zwei Listen werden generiert die ihr als Argument eurer Funktion benutzen sollt\n",
    "\n",
    "liste1 = [random.randint(0,100) for i in range(100)] # das hier ist eine List Comprehension, eine \"elegante Art\" wie man mit einer For-Schleife eine Liste erstellt\n",
    "liste2 = [random.randint(0,200) for i in range(100)] # das hier ist eine List Comprehension, eine \"elegante Art\" wie man mit einer For-Schleife eine Liste erstellt\n",
    "\n",
    "def median_der_Listen(*listen):\n",
    "    pass\n",
    "    # Code here"
   ]
  }
 ],
 "metadata": {
  "kernelspec": {
   "display_name": "Python 3 (ipykernel)",
   "language": "python",
   "name": "python3"
  },
  "language_info": {
   "codemirror_mode": {
    "name": "ipython",
    "version": 3
   },
   "file_extension": ".py",
   "mimetype": "text/x-python",
   "name": "python",
   "nbconvert_exporter": "python",
   "pygments_lexer": "ipython3",
   "version": "3.11.5"
  }
 },
 "nbformat": 4,
 "nbformat_minor": 5
}
