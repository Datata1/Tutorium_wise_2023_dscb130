{
 "cells": [
  {
   "cell_type": "markdown",
   "metadata": {},
   "source": [
    "# Termin 7"
   ]
  },
  {
   "cell_type": "markdown",
   "metadata": {},
   "source": [
    "## Verwendung von Dateien und Built-In Funktionen\n",
    "\n",
    "Heute wollen wir uns Dateien in Python genauer anschauen und nocheinmal einige hilfreiche Built-In Funktionen kennen lernen."
   ]
  },
  {
   "cell_type": "markdown",
   "metadata": {},
   "source": [
    "### Dateien\n",
    "\n",
    "In Python kannst du recht leicht Dateien öffnen, lesen und schreiben.\n",
    "\n",
    "Beispiel öffne und lese Datei `files/was_ist_python.txt`.\n",
    "\n",
    "Wir können eine Datei mit `open(filename, mode)` öffnen.\n",
    "\n",
    "Durch verwenden von \n",
    "```python\n",
    "with open(filename, mode) as f:\n",
    "```\n",
    "wird die Datei nach verwendung automatisch geschlossen. Daher verwenden wir in der Regel immer `with ... as ...` mit Dateien.\n",
    "\n",
    "Mit `f.read()` wird der gesamte Inhalt der Datei auf einmal ausgegeben."
   ]
  },
  {
   "cell_type": "code",
   "execution_count": 1,
   "metadata": {},
   "outputs": [
    {
     "name": "stdout",
     "output_type": "stream",
     "text": [
      "Python ist eine hochrangige, interpretierte Programmiersprache, die sowohl für Anfänger als auch für erfahrene Entwickler attraktiv ist. Sie wurde von Guido van Rossum in den späten 1980er Jahren entwickelt und hat sich seitdem zu einer der beliebtesten Programmiersprachen weltweit entwickelt.\n",
      "Eine der markantesten Eigenschaften von Python ist seine klare, leserliche Syntax, die das Schreiben von Code erleichtert und die Lesbarkeit fördert. Python setzt auf Einrückungen, anstelle von geschweiften Klammern oder anderen Strukturierungszeichen, um Codeblöcke zu definieren. Dies führt zu einem konsistenten und gut lesbaren Code-Stil.\n",
      "Die Sprache ist vielseitig einsetzbar und unterstützt verschiedene Programmierparadigmen, darunter objektorientierte, imperative und funktionale Programmierung. Python verfügt über eine umfangreiche Standardbibliothek, die eine Vielzahl von Funktionen und Modulen bereitstellt, was die Entwicklung von Anwendungen beschleunigt, da viele Aufgaben bereits durch vordefinierte Funktionen abgedeckt sind.\n",
      "Durch die dynamische Typisierung von Python ist es möglich, Variablen ohne explizite Typendefinition zu verwenden. Dies ermöglicht eine schnellere Entwicklung, da der Programmierer sich weniger um Typendetails kümmern muss. Python unterstützt auch automatische Speicherbereinigung durch Garbage Collection, was die Handhabung von Ressourcen erleichtert.\n",
      "Die umfangreiche Community und das große Ökosystem von Bibliotheken und Frameworks machen Python zu einer beliebten Wahl für verschiedene Anwendungsgebiete. Von Webentwicklung über Datenwissenschaft bis hin zur künstlichen Intelligenz – Python wird in verschiedenen Branchen und Disziplinen eingesetzt.\n",
      "Durch die Einfachheit und Klarheit der Sprache eignet sich Python besonders gut für Einsteiger, die ihre Programmierkenntnisse entwickeln möchten. Gleichzeitig bietet sie auch erfahreneren Entwicklern die Flexibilität und Leistungsfähigkeit, die für komplexe Projekte erforderlich sind.\n",
      "Insgesamt hat sich Python als eine äußerst einflussreiche und zugängliche Programmiersprache etabliert, die in der Softwareentwicklung weit verbreitet ist und durch ihre lebendige Community ständig weiterentwickelt wird.\n",
      "\n"
     ]
    }
   ],
   "source": [
    "# Lese die gesamte Datei\n",
    "# das \"r\" steht für read\n",
    "with open(\"files/was_ist_python.txt\", \"r\") as f:\n",
    "    print(f.read())"
   ]
  },
  {
   "cell_type": "markdown",
   "metadata": {},
   "source": [
    "Mit `f.readlines()` erhalten wir eine Liste, die die Zeilen der Datei enthält."
   ]
  },
  {
   "cell_type": "code",
   "execution_count": 2,
   "metadata": {},
   "outputs": [
    {
     "name": "stdout",
     "output_type": "stream",
     "text": [
      "Python ist eine hochrangige, interpretierte Programmiersprache, die sowohl für Anfänger als auch für erfahrene Entwickler attraktiv ist. Sie wurde von Guido van Rossum in den späten 1980er Jahren entwickelt und hat sich seitdem zu einer der beliebtesten Programmiersprachen weltweit entwickelt.\n",
      "\n",
      "Eine der markantesten Eigenschaften von Python ist seine klare, leserliche Syntax, die das Schreiben von Code erleichtert und die Lesbarkeit fördert. Python setzt auf Einrückungen, anstelle von geschweiften Klammern oder anderen Strukturierungszeichen, um Codeblöcke zu definieren. Dies führt zu einem konsistenten und gut lesbaren Code-Stil.\n",
      "\n",
      "Die Sprache ist vielseitig einsetzbar und unterstützt verschiedene Programmierparadigmen, darunter objektorientierte, imperative und funktionale Programmierung. Python verfügt über eine umfangreiche Standardbibliothek, die eine Vielzahl von Funktionen und Modulen bereitstellt, was die Entwicklung von Anwendungen beschleunigt, da viele Aufgaben bereits durch vordefinierte Funktionen abgedeckt sind.\n",
      "\n",
      "Durch die dynamische Typisierung von Python ist es möglich, Variablen ohne explizite Typendefinition zu verwenden. Dies ermöglicht eine schnellere Entwicklung, da der Programmierer sich weniger um Typendetails kümmern muss. Python unterstützt auch automatische Speicherbereinigung durch Garbage Collection, was die Handhabung von Ressourcen erleichtert.\n",
      "\n",
      "Die umfangreiche Community und das große Ökosystem von Bibliotheken und Frameworks machen Python zu einer beliebten Wahl für verschiedene Anwendungsgebiete. Von Webentwicklung über Datenwissenschaft bis hin zur künstlichen Intelligenz – Python wird in verschiedenen Branchen und Disziplinen eingesetzt.\n",
      "\n",
      "Durch die Einfachheit und Klarheit der Sprache eignet sich Python besonders gut für Einsteiger, die ihre Programmierkenntnisse entwickeln möchten. Gleichzeitig bietet sie auch erfahreneren Entwicklern die Flexibilität und Leistungsfähigkeit, die für komplexe Projekte erforderlich sind.\n",
      "\n",
      "Insgesamt hat sich Python als eine äußerst einflussreiche und zugängliche Programmiersprache etabliert, die in der Softwareentwicklung weit verbreitet ist und durch ihre lebendige Community ständig weiterentwickelt wird.\n",
      "\n"
     ]
    }
   ],
   "source": [
    "# Lese die Datei Zeile für Zeile\n",
    "with open(\"files/was_ist_python.txt\", \"r\") as f:\n",
    "    for line in f.readlines():\n",
    "        print(line)"
   ]
  },
  {
   "cell_type": "markdown",
   "metadata": {},
   "source": [
    "### Enumerate Funktion\n",
    "\n",
    "Eine hilfreiche Funktion beim Iterieren über Listen ist die `enumerate()` Funktion.\n",
    "Diese gibt zu jedem Element auch noch den Index an.\n",
    "\n",
    "So können wir die Zeilennummer ebenfalls ausgeben."
   ]
  },
  {
   "cell_type": "code",
   "execution_count": 3,
   "metadata": {},
   "outputs": [
    {
     "name": "stdout",
     "output_type": "stream",
     "text": [
      "1: Python ist eine hochrangige, interpretierte Programmiersprache, die sowohl für Anfänger als auch für erfahrene Entwickler attraktiv ist. Sie wurde von Guido van Rossum in den späten 1980er Jahren entwickelt und hat sich seitdem zu einer der beliebtesten Programmiersprachen weltweit entwickelt.\n",
      "\n",
      "2: Eine der markantesten Eigenschaften von Python ist seine klare, leserliche Syntax, die das Schreiben von Code erleichtert und die Lesbarkeit fördert. Python setzt auf Einrückungen, anstelle von geschweiften Klammern oder anderen Strukturierungszeichen, um Codeblöcke zu definieren. Dies führt zu einem konsistenten und gut lesbaren Code-Stil.\n",
      "\n",
      "3: Die Sprache ist vielseitig einsetzbar und unterstützt verschiedene Programmierparadigmen, darunter objektorientierte, imperative und funktionale Programmierung. Python verfügt über eine umfangreiche Standardbibliothek, die eine Vielzahl von Funktionen und Modulen bereitstellt, was die Entwicklung von Anwendungen beschleunigt, da viele Aufgaben bereits durch vordefinierte Funktionen abgedeckt sind.\n",
      "\n",
      "4: Durch die dynamische Typisierung von Python ist es möglich, Variablen ohne explizite Typendefinition zu verwenden. Dies ermöglicht eine schnellere Entwicklung, da der Programmierer sich weniger um Typendetails kümmern muss. Python unterstützt auch automatische Speicherbereinigung durch Garbage Collection, was die Handhabung von Ressourcen erleichtert.\n",
      "\n",
      "5: Die umfangreiche Community und das große Ökosystem von Bibliotheken und Frameworks machen Python zu einer beliebten Wahl für verschiedene Anwendungsgebiete. Von Webentwicklung über Datenwissenschaft bis hin zur künstlichen Intelligenz – Python wird in verschiedenen Branchen und Disziplinen eingesetzt.\n",
      "\n",
      "6: Durch die Einfachheit und Klarheit der Sprache eignet sich Python besonders gut für Einsteiger, die ihre Programmierkenntnisse entwickeln möchten. Gleichzeitig bietet sie auch erfahreneren Entwicklern die Flexibilität und Leistungsfähigkeit, die für komplexe Projekte erforderlich sind.\n",
      "\n",
      "7: Insgesamt hat sich Python als eine äußerst einflussreiche und zugängliche Programmiersprache etabliert, die in der Softwareentwicklung weit verbreitet ist und durch ihre lebendige Community ständig weiterentwickelt wird.\n",
      "\n"
     ]
    }
   ],
   "source": [
    "# Lese die Datei Zeile für Zeile, gebe die Zeilennummer aus\n",
    "with open(\"files/was_ist_python.txt\", \"r\") as f:\n",
    "    for i, line in enumerate(f.readlines()):\n",
    "        print(f\"{i+1}: {line}\")"
   ]
  },
  {
   "cell_type": "markdown",
   "metadata": {},
   "source": [
    "### Dateien schreiben\n",
    "\n",
    "Um in eine Datei zu schreiben, öffnen wir diese nun mit im write Modus."
   ]
  },
  {
   "cell_type": "code",
   "execution_count": 4,
   "metadata": {},
   "outputs": [
    {
     "name": "stdout",
     "output_type": "stream",
     "text": [
      "Hallo Welt!Immer noch Zeile 1.\n",
      "Zeile 2.\n",
      "Zeile 3.\n"
     ]
    }
   ],
   "source": [
    "with open(\"files/neue_datei.txt\", \"w\") as f:\n",
    "    f.write(\"Hallo Welt!\")\n",
    "    # Um eine neue Zeile zu schreiben muss man einen Newline Character in die Datei schreiben (\\n)\n",
    "    f.write(\"Immer noch Zeile 1.\\n\")\n",
    "    f.write(\"Zeile 2.\\n\")\n",
    "    f.write(\"Zeile 3.\")\n",
    "\n",
    "# Hier lesen wir die geschriebene Datei aus\n",
    "with open(\"files/neue_datei.txt\", \"r\") as f:\n",
    "    print(f.read())"
   ]
  },
  {
   "cell_type": "markdown",
   "metadata": {},
   "source": [
    "Wir können auch eine Liste von Strings auf einmal in die Datei schreiben."
   ]
  },
  {
   "cell_type": "code",
   "execution_count": 5,
   "metadata": {},
   "outputs": [
    {
     "name": "stdout",
     "output_type": "stream",
     "text": [
      "Zeile 1\n",
      "Zeile 2\n",
      "Zeile 3\n",
      "Zeile 4\n",
      "\n"
     ]
    }
   ],
   "source": [
    "zeilen = [\"Zeile 1\\n\", \"Zeile 2\\n\", \"Zeile 3\\n\", \"Zeile 4\\n\"]\n",
    "\n",
    "with open(\"files/neue_datei2.txt\", \"w\") as f:\n",
    "    f.writelines(zeilen)\n",
    "\n",
    "# Hier lesen wir die geschriebene Datei aus\n",
    "with open(\"files/neue_datei2.txt\", \"r\") as f:\n",
    "    print(f.read())"
   ]
  },
  {
   "cell_type": "markdown",
   "metadata": {},
   "source": [
    "### Zip Funktion\n",
    "\n",
    "Eine weitere hilfreiche Funktion für Listen ist die `zip()` Funktion.\n",
    "\n",
    "Sie lässt uns über mehrere Listen gleichzeitig iterieren.\n",
    "\n",
    "Sie nimmt die Listen als input und gibt uns die Kombinationen als Tupel zurück."
   ]
  },
  {
   "cell_type": "code",
   "execution_count": 19,
   "metadata": {},
   "outputs": [
    {
     "name": "stdout",
     "output_type": "stream",
     "text": [
      "('Alice', 165, 'Berlin')\n",
      "('Bob', 175, 'New York')\n",
      "('Charlie', 193, 'London')\n",
      "Alice 165 Berlin\n",
      "Bob 175 New York\n",
      "Charlie 193 London\n"
     ]
    }
   ],
   "source": [
    "# Beispiel: Verwendung von zip\n",
    "namen = ['Alice', 'Bob', 'Charlie']\n",
    "groessen = [165, 175, 193]\n",
    "staedte = ['Berlin', 'New York', 'London']\n",
    "\n",
    "# Kombiniere die Listen mit zip\n",
    "kombiniert = zip(namen, groessen, staedte)\n",
    "\n",
    "# Zeige die kombinierten Elemente\n",
    "for element in kombiniert:\n",
    "    print(element)\n",
    "\n",
    "# Oder einzeln:\n",
    "for name, groesse, stadt in zip(namen, groessen, staedte):\n",
    "    print(name, groesse, stadt)"
   ]
  },
  {
   "cell_type": "markdown",
   "metadata": {},
   "source": [
    "## Aufgabe: Caesar-Verschlüsselung\n",
    "\n",
    "Schreibe eine Python-Funktion namens caesar_verschluesselung, die einen Text und einen Verschiebewert als Parameter nimmt und den verschlüsselten Text zurückgibt. Die Caesar-Verschlüsselung erfolgt, indem jeder Buchstabe im Text um den Verschiebewert nach rechts verschoben wird.\n",
    "\n",
    "Also \"a\" um 3 verschoben ist \"d\". \"z\" um 3 verschoben ist \"c\".\n",
    "\n",
    "Beispiel:\n",
    "\n",
    "```python\n",
    "test_text = \"\"\"\n",
    "In der Welt der Informatik entfaltet sich ein faszinierendes Universum, \n",
    "in dem Algorithmen wie unsichtbare Architekten komplexe Probleme lösen, \n",
    "Softwareanwendungen den digitalen Alltag gestalten und die nahtlose Interaktion \n",
    "von Hardwarekomponenten eine innovative Zukunft formt.\n",
    "\"\"\"\n",
    "\n",
    "# Funktion aufrufen\n",
    "verschluesselter_text = caesar_verschluesselung(test_text, 3)\n",
    "\n",
    "# Ausgabe des verschlüsselten Texts\n",
    "print(\"Verschlüsselter Text:\", verschluesselter_text)\n",
    "```\n",
    "\n",
    "Ausgabe:\n",
    "\n",
    "```\n",
    "Verschlüsselter Text: \n",
    "Lq ghu Zhow ghu Lqirupdwln hqwidowhw vlfk hlq idvclqlhuhqghv Xqlyhuvxp, \n",
    "lq ghp Dojrulwkphq zlh xqvlfkweduh Dufklwhnwhq nrpsohah Sureohph oövhq, \n",
    "Vriwzduhdqzhqgxqjhq ghq gljlwdohq Doowdj jhvwdowhq xqg glh qdkworvh Lqwhudnwlrq \n",
    "yrq Kdugzduhnrpsrqhqwhq hlqh lqqrydwlyh Cxnxqiw irupw.\n",
    "```\n",
    "\n",
    "Hinweise:\n",
    "\n",
    "- Die Caesar-Verschlüsselung sollte nur auf Buchstaben a-z und A-Z anwenden und Groß-/Kleinschreibung berücksichtigen. Sonderzeichen und Zahlen sollten unverändert bleiben.\n",
    "- Achte darauf, dass der verschlüsselte Buchstabe wieder von A beginnt, wenn das Ende des Alphabets erreicht ist (z.B., Z + 1 = A, Z + 2 = B).\n",
    "\n",
    "Zwei Ansätze zum Lösen der Aufgabe:\n",
    "\n",
    "1. Du kannst die Funktion `ord()` verwenden, um den Unicode-Wert eines Zeichens zu erhalten, und `chr()`, um das Zeichen aus einem Unicode-Wert zu erhalten.\n",
    "\n",
    "    ![Unicode Übersicht](unicode.png)\n",
    "    \n",
    "    Tipp:\n",
    "    - Mit `zeichen.isalpha() and zeichen.isascii()` kannst du überprüfen, ob ein Zeichen ein Buchstabe ist.\n",
    "\n",
    "\n",
    "2. Du kannst auch mit Listen arbeiten, die die Buchstaben enthalten, und den Index verschieben.\n",
    "    Tipp: Mithilfe des Modulo (Restoperator `%`) kannst du dafür sorgen, dass dein Index nicht zu groß wird.\n"
   ]
  },
  {
   "cell_type": "markdown",
   "metadata": {},
   "source": [
    "#### Lösung Ansatz 1:"
   ]
  },
  {
   "cell_type": "code",
   "execution_count": 7,
   "metadata": {},
   "outputs": [],
   "source": [
    "# TODO: Implementiere hier deine Verschlüsselungsfunktion\n",
    "def caesar_verschluesselung(eingabe_text, verschiebung):\n",
    "    return eingabe_text"
   ]
  },
  {
   "cell_type": "markdown",
   "metadata": {},
   "source": [
    "## Aufgabe: Häufigkeitsanalyse zur Caesar-Verschlüsselung\n",
    "\n",
    "Du hast einen verschlüsselten Text erhalten, der mit der Caesar-Verschlüsselung verschlüsselt wurde.\n",
    "Deine Aufgabe ist es, eine Häufigkeitsanalyse durchzuführen, um die Verschiebung herauszufinden.\n",
    "\n",
    "Hier sind die Schritte, die du befolgen sollst:\n"
   ]
  },
  {
   "cell_type": "markdown",
   "metadata": {},
   "source": [
    "\n",
    "### 1. **Funktion zur Häufigkeitsanalyse erstellen:**\n",
    "\n",
    "   Schreibe eine Python-Funktion namens `haeufigkeitsanalyse`, die einen verschlüsselten Text als Eingabe nimmt und ein Dictionary zurückgibt, das die Häufigkeit jedes Buchstabens im Text enthält. Die Funktion sollte Groß-/Kleinschreibung ignorieren und nur Buchstaben berücksichtigen.\n",
    "\n",
    "   Beispiel:\n",
    "\n",
    "   ```python\n",
    "   verschluesselter_text = \"\"\"\n",
    "   Lq ghu Zhow ghu Lqirupdwln hqwidowhw vlfk hlq idvclqlhuhqghv Xqlyhuvxp, \n",
    "   lq ghp Dojrulwkphq zlh xqvlfkweduh Dufklwhnwhq nrpsohah Sureohph oövhq, \n",
    "   Vriwzduhdqzhqgxqjhq ghq gljlwdohq Doowdj jhvwdowhq xqg glh qdkworvh Lqwhudnwlrq \n",
    "   yrq Kdugzduhnrpsrqhqwhq hlqh lqqrydwlyh Cxnxqiw irupw.\n",
    "   \"\"\"\n",
    "   # Funktion aufrufen\n",
    "   analysiertes_dict = haeufigkeitsanalyse(verschluesselter_text)\n",
    "\n",
    "   # Ausgabe der analysierten Häufigkeiten\n",
    "   print(\"Häufigkeitsanalyse:\", analysiertes_dict)\n",
    "   ```\n",
    "\n",
    "   Ausgabe:\n",
    "\n",
    "   ```\n",
    "   Häufigkeitsanalyse: {'l': 21, 'q': 31, 'g': 10, 'h': 37, 'u': 14, 'z': 5, 'o': 11, 'w': 21, 'i': 6, 'r': 12, 'p': 8, 'd': 17, 'n': 6, 'v': 9, 'f': 3, 'k': 6, 'c': 2, 'x': 7, 'y': 4, 'j': 5, 'e': 2, 's': 3, 'a': 1}\n",
    "   ```\n"
   ]
  },
  {
   "cell_type": "code",
   "execution_count": 8,
   "metadata": {},
   "outputs": [],
   "source": [
    "# TODO: Implementiere hier deine Häufigkeitsanalyse\n",
    "def haeufigkeitsanalyse(text):\n",
    "    haeufigkeiten = {}\n",
    "    return haeufigkeiten"
   ]
  },
  {
   "cell_type": "code",
   "execution_count": 9,
   "metadata": {},
   "outputs": [
    {
     "name": "stdout",
     "output_type": "stream",
     "text": [
      "Häufigkeitsanalyse: {}\n"
     ]
    }
   ],
   "source": [
    "verschluesselter_text = \"\"\"\n",
    "Lq ghu Zhow ghu Lqirupdwln hqwidowhw vlfk hlq idvclqlhuhqghv Xqlyhuvxp, \n",
    "lq ghp Dojrulwkphq zlh xqvlfkweduh Dufklwhnwhq nrpsohah Sureohph oövhq, \n",
    "Vriwzduhdqzhqgxqjhq ghq gljlwdohq Doowdj jhvwdowhq xqg glh qdkworvh Lqwhudnwlrq \n",
    "yrq Kdugzduhnrpsrqhqwhq hlqh lqqrydwlyh Cxnxqiw irupw.\n",
    "\"\"\"\n",
    "# Funktion aufrufen\n",
    "analysiertes_dict = haeufigkeitsanalyse(verschluesselter_text)\n",
    "\n",
    "# Ausgabe der analysierten Häufigkeiten\n",
    "print(\"Häufigkeitsanalyse:\", analysiertes_dict)"
   ]
  },
  {
   "cell_type": "markdown",
   "metadata": {},
   "source": [
    "### 2. **Verschiebung herausfinden:**\n",
    "\n",
    "   Nutze die Häufigkeitsanalyse, um die wahrscheinlichste Verschiebung zu bestimmen. Du kannst davon ausgehen, dass der Buchstabe mit der höchsten Häufigkeit im verschlüsselten Text dem Buchstaben 'E' im unverschlüsselten Text entspricht. Berechne die Verschiebung und schreibe eine Funktion namens `verschiebung_finden`, die die Verschiebung zurückgibt.\n",
    "\n",
    "   Tipp zum finden des Keys mit dem geößten Wert in einem Dictionary:\n",
    "      https://stackoverflow.com/questions/268272/getting-key-with-maximum-value-in-dictionary\n",
    "\n",
    "   Beispiel:\n",
    "\n",
    "   ```python\n",
    "   verschluesselter_text = \"\"\"\n",
    "   Lq ghu Zhow ghu Lqirupdwln hqwidowhw vlfk hlq idvclqlhuhqghv Xqlyhuvxp, \n",
    "   lq ghp Dojrulwkphq zlh xqvlfkweduh Dufklwhnwhq nrpsohah Sureohph oövhq, \n",
    "   Vriwzduhdqzhqgxqjhq ghq gljlwdohq Doowdj jhvwdowhq xqg glh qdkworvh Lqwhudnwlrq \n",
    "   yrq Kdugzduhnrpsrqhqwhq hlqh lqqrydwlyh Cxnxqiw irupw.\n",
    "   \"\"\"\n",
    "   haeufigkeiten = haeufigkeitsanalyse(verschluesselter_text)\n",
    "   # Funktion aufrufen\n",
    "   gefundene_verschiebung = verschiebung_finden(haeufigkeiten)\n",
    "\n",
    "   # Ausgabe der gefundenen Verschiebung\n",
    "   print(\"Gefundene Verschiebung:\", gefundene_verschiebung)\n",
    "   ```\n",
    "\n",
    "   Ausgabe:\n",
    "\n",
    "   ```\n",
    "   Gefundene Verschiebung: 3\n",
    "   ```"
   ]
  },
  {
   "cell_type": "code",
   "execution_count": 10,
   "metadata": {},
   "outputs": [],
   "source": [
    "# TODO: Implementiere hier das Herausfinden der Verschiebung\n",
    "def verschiebung_finden(haeufigkeiten):\n",
    "    return 0"
   ]
  },
  {
   "cell_type": "code",
   "execution_count": 11,
   "metadata": {},
   "outputs": [
    {
     "name": "stdout",
     "output_type": "stream",
     "text": [
      "Gefundene Verschiebung: 0\n"
     ]
    }
   ],
   "source": [
    "verschluesselter_text = \"\"\"\n",
    "Lq ghu Zhow ghu Lqirupdwln hqwidowhw vlfk hlq idvclqlhuhqghv Xqlyhuvxp, \n",
    "lq ghp Dojrulwkphq zlh xqvlfkweduh Dufklwhnwhq nrpsohah Sureohph oövhq, \n",
    "Vriwzduhdqzhqgxqjhq ghq gljlwdohq Doowdj jhvwdowhq xqg glh qdkworvh Lqwhudnwlrq \n",
    "yrq Kdugzduhnrpsrqhqwhq hlqh lqqrydwlyh Cxnxqiw irupw.\n",
    "\"\"\"\n",
    "haeufigkeiten = haeufigkeitsanalyse(verschluesselter_text)\n",
    "# Funktion aufrufen\n",
    "gefundene_verschiebung = verschiebung_finden(haeufigkeiten)\n",
    "\n",
    "# Ausgabe der gefundenen Verschiebung\n",
    "print(\"Gefundene Verschiebung:\", gefundene_verschiebung)"
   ]
  },
  {
   "cell_type": "markdown",
   "metadata": {},
   "source": [
    "\n",
    "### 3. **Entschlüsselung:**\n",
    "\n",
    "   Verwende die gefundene Verschiebung, um den gesamten verschlüsselten Text zu entschlüsseln. Schreibe eine Funktion namens `entschluesselung`, die den verschlüsselten Text und die Verschiebung als Parameter nimmt und den entschlüsselten Text zurückgibt.\n",
    "\n",
    "   Beispiel:\n",
    "\n",
    "   ```python\n",
    "   verschluesselter_text = \"\"\"\n",
    "   Lq ghu Zhow ghu Lqirupdwln hqwidowhw vlfk hlq idvclqlhuhqghv Xqlyhuvxp, \n",
    "   lq ghp Dojrulwkphq zlh xqvlfkweduh Dufklwhnwhq nrpsohah Sureohph oövhq, \n",
    "   Vriwzduhdqzhqgxqjhq ghq gljlwdohq Doowdj jhvwdowhq xqg glh qdkworvh Lqwhudnwlrq \n",
    "   yrq Kdugzduhnrpsrqhqwhq hlqh lqqrydwlyh Cxnxqiw irupw.\n",
    "   \"\"\"\n",
    "   # Funktion aufrufen\n",
    "   entschluesselter_text = entschluesselung(verschluesselter_text, 3)\n",
    "\n",
    "   # Ausgabe des entschlüsselten Texts\n",
    "   print(\"Entschlüsselter Text:\", entschluesselter_text)\n",
    "   ```\n",
    "\n",
    "   Ausgabe:\n",
    "\n",
    "   ```\n",
    "   Entschlüsselter Text:\n",
    "   In der Welt der Informatik entfaltet sich ein faszinierendes Universum, \n",
    "   in dem Algorithmen wie unsichtbare Architekten komplexe Probleme lösen, \n",
    "   Softwareanwendungen den digitalen Alltag gestalten und die nahtlose Interaktion \n",
    "   von Hardwarekomponenten eine innovative Zukunft formt.\n",
    "   ```\n",
    "\n",
    "**Hinweise:**\n",
    "- Auch hier gibt es wieder wie bei der Verschlüsselung die beiden Ansätze.\n",
    "- Du kannst viel aus der Funktion aus der vorherigen Aufgabe zur Caesar-Verschlüsselung wiederverwenden."
   ]
  },
  {
   "cell_type": "code",
   "execution_count": 12,
   "metadata": {},
   "outputs": [],
   "source": [
    "# TODO: Implementiere hier die Entschlüsselung\n",
    "def entschluesselung(secret_text, verschiebung):\n",
    "    return secret_text"
   ]
  },
  {
   "cell_type": "code",
   "execution_count": 13,
   "metadata": {},
   "outputs": [
    {
     "name": "stdout",
     "output_type": "stream",
     "text": [
      "Entschlüsselter Text: \n",
      "Lq ghu Zhow ghu Lqirupdwln hqwidowhw vlfk hlq idvclqlhuhqghv Xqlyhuvxp, \n",
      "lq ghp Dojrulwkphq zlh xqvlfkweduh Dufklwhnwhq nrpsohah Sureohph oövhq, \n",
      "Vriwzduhdqzhqgxqjhq ghq gljlwdohq Doowdj jhvwdowhq xqg glh qdkworvh Lqwhudnwlrq \n",
      "yrq Kdugzduhnrpsrqhqwhq hlqh lqqrydwlyh Cxnxqiw irupw.\n",
      "\n"
     ]
    }
   ],
   "source": [
    "verschluesselter_text = \"\"\"\n",
    "Lq ghu Zhow ghu Lqirupdwln hqwidowhw vlfk hlq idvclqlhuhqghv Xqlyhuvxp, \n",
    "lq ghp Dojrulwkphq zlh xqvlfkweduh Dufklwhnwhq nrpsohah Sureohph oövhq, \n",
    "Vriwzduhdqzhqgxqjhq ghq gljlwdohq Doowdj jhvwdowhq xqg glh qdkworvh Lqwhudnwlrq \n",
    "yrq Kdugzduhnrpsrqhqwhq hlqh lqqrydwlyh Cxnxqiw irupw.\n",
    "\"\"\"\n",
    "# Funktion aufrufen\n",
    "entschluesselter_text = entschluesselung(verschluesselter_text, 3)\n",
    "\n",
    "# Ausgabe des entschlüsselten Texts\n",
    "print(\"Entschlüsselter Text:\", entschluesselter_text)"
   ]
  },
  {
   "cell_type": "markdown",
   "metadata": {},
   "source": [
    "### Aufgabe: Funktionen, mit Dateien\n",
    "\n",
    "Verwende jetzt deine bisherigen Funktionen, um zwei Funktionen zu implementieren:\n",
    "\n",
    "1. `in_datei_verschluesseln(text, verschiebung, datei_pfad)` soll einen Text mit einer Verschiebung verschlüsseln, und dann in einer Datei abspeichern.\n",
    "2. `aus_datei_entschluesseln(datei_pfad)` soll einen verschlüsselten Text aus einer Datei lesen, dann eine Häufigkeitsanalyse durchführen und die Verschiebung herausfinden. Als letztes soll der Text aus der Datei entschlüsselt werden und zurückgegeben werden."
   ]
  },
  {
   "cell_type": "code",
   "execution_count": 14,
   "metadata": {},
   "outputs": [],
   "source": [
    "# TODO: Implementiere hier das Verschlüsseln in Dateien\n",
    "def in_datei_verschluesseln(text, verschiebung, datei_pfad):\n",
    "    pass"
   ]
  },
  {
   "cell_type": "code",
   "execution_count": 15,
   "metadata": {},
   "outputs": [],
   "source": [
    "# TODO: Implementiere hier das Entschlüsseln von Dateien\n",
    "def aus_datei_entschluesseln(datei_pfad):\n",
    "    return \"\""
   ]
  },
  {
   "cell_type": "code",
   "execution_count": 16,
   "metadata": {},
   "outputs": [
    {
     "name": "stdout",
     "output_type": "stream",
     "text": [
      "\n"
     ]
    }
   ],
   "source": [
    "# Entschlüsseln der Datei `files/secret.txt`\n",
    "print(aus_datei_entschluesseln(\"files/secret.txt\"))"
   ]
  },
  {
   "cell_type": "code",
   "execution_count": 17,
   "metadata": {},
   "outputs": [],
   "source": [
    "# TODO: Teste deine Funktionen `in_datei_verschluesseln` und `aus_datei_entschluesseln`. :)\n"
   ]
  }
 ],
 "metadata": {
  "kernelspec": {
   "display_name": "base",
   "language": "python",
   "name": "python3"
  },
  "language_info": {
   "codemirror_mode": {
    "name": "ipython",
    "version": 3
   },
   "file_extension": ".py",
   "mimetype": "text/x-python",
   "name": "python",
   "nbconvert_exporter": "python",
   "pygments_lexer": "ipython3",
   "version": "3.10.9"
  }
 },
 "nbformat": 4,
 "nbformat_minor": 2
}
