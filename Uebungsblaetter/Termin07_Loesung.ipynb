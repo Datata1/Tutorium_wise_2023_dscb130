{
 "cells": [
  {
   "cell_type": "markdown",
   "metadata": {},
   "source": [
    "# Termin 7"
   ]
  },
  {
   "cell_type": "markdown",
   "metadata": {},
   "source": [
    "## Verwendung von Dateien und Built-In Funktionen\n",
    "\n",
    "Heute wollen wir uns Dateien in Python genauer anschauen und nocheinmal einige hilfreiche Built-In Funktionen kennen lernen."
   ]
  },
  {
   "cell_type": "markdown",
   "metadata": {},
   "source": [
    "### Dateien\n",
    "\n",
    "In Python kannst du recht leicht Dateien öffnen, lesen und schreiben.\n",
    "\n",
    "Beispiel öffne und lese Datei `files/was_ist_python.txt`.\n",
    "\n",
    "Wir können eine Datei mit `open(filename, mode)` öffnen.\n",
    "\n",
    "Durch verwenden von \n",
    "```python\n",
    "with open(filename, mode) as f:\n",
    "```\n",
    "wird die Datei nach verwendung automatisch geschlossen. Daher verwenden wir in der Regel immer `with ... as ...` mit Dateien.\n",
    "\n",
    "Mit `f.read()` wird der gesamte Inhalt der Datei auf einmal ausgegeben."
   ]
  },
  {
   "cell_type": "code",
   "execution_count": 1,
   "metadata": {},
   "outputs": [
    {
     "name": "stdout",
     "output_type": "stream",
     "text": [
      "Python ist eine hochrangige, interpretierte Programmiersprache, die sowohl für Anfänger als auch für erfahrene Entwickler attraktiv ist. Sie wurde von Guido van Rossum in den späten 1980er Jahren entwickelt und hat sich seitdem zu einer der beliebtesten Programmiersprachen weltweit entwickelt.\n",
      "Eine der markantesten Eigenschaften von Python ist seine klare, leserliche Syntax, die das Schreiben von Code erleichtert und die Lesbarkeit fördert. Python setzt auf Einrückungen, anstelle von geschweiften Klammern oder anderen Strukturierungszeichen, um Codeblöcke zu definieren. Dies führt zu einem konsistenten und gut lesbaren Code-Stil.\n",
      "Die Sprache ist vielseitig einsetzbar und unterstützt verschiedene Programmierparadigmen, darunter objektorientierte, imperative und funktionale Programmierung. Python verfügt über eine umfangreiche Standardbibliothek, die eine Vielzahl von Funktionen und Modulen bereitstellt, was die Entwicklung von Anwendungen beschleunigt, da viele Aufgaben bereits durch vordefinierte Funktionen abgedeckt sind.\n",
      "Durch die dynamische Typisierung von Python ist es möglich, Variablen ohne explizite Typendefinition zu verwenden. Dies ermöglicht eine schnellere Entwicklung, da der Programmierer sich weniger um Typendetails kümmern muss. Python unterstützt auch automatische Speicherbereinigung durch Garbage Collection, was die Handhabung von Ressourcen erleichtert.\n",
      "Die umfangreiche Community und das große Ökosystem von Bibliotheken und Frameworks machen Python zu einer beliebten Wahl für verschiedene Anwendungsgebiete. Von Webentwicklung über Datenwissenschaft bis hin zur künstlichen Intelligenz – Python wird in verschiedenen Branchen und Disziplinen eingesetzt.\n",
      "Durch die Einfachheit und Klarheit der Sprache eignet sich Python besonders gut für Einsteiger, die ihre Programmierkenntnisse entwickeln möchten. Gleichzeitig bietet sie auch erfahreneren Entwicklern die Flexibilität und Leistungsfähigkeit, die für komplexe Projekte erforderlich sind.\n",
      "Insgesamt hat sich Python als eine äußerst einflussreiche und zugängliche Programmiersprache etabliert, die in der Softwareentwicklung weit verbreitet ist und durch ihre lebendige Community ständig weiterentwickelt wird.\n",
      "\n"
     ]
    }
   ],
   "source": [
    "# Lese die gesamte Datei\n",
    "# das \"r\" steht für read\n",
    "with open(\"files/was_ist_python.txt\", \"r\") as f:\n",
    "    print(f.read())"
   ]
  },
  {
   "cell_type": "markdown",
   "metadata": {},
   "source": [
    "Mit `f.readlines()` erhalten wir eine Liste, die die Zeilen der Datei enthält."
   ]
  },
  {
   "cell_type": "code",
   "execution_count": 2,
   "metadata": {},
   "outputs": [
    {
     "name": "stdout",
     "output_type": "stream",
     "text": [
      "Python ist eine hochrangige, interpretierte Programmiersprache, die sowohl für Anfänger als auch für erfahrene Entwickler attraktiv ist. Sie wurde von Guido van Rossum in den späten 1980er Jahren entwickelt und hat sich seitdem zu einer der beliebtesten Programmiersprachen weltweit entwickelt.\n",
      "\n",
      "Eine der markantesten Eigenschaften von Python ist seine klare, leserliche Syntax, die das Schreiben von Code erleichtert und die Lesbarkeit fördert. Python setzt auf Einrückungen, anstelle von geschweiften Klammern oder anderen Strukturierungszeichen, um Codeblöcke zu definieren. Dies führt zu einem konsistenten und gut lesbaren Code-Stil.\n",
      "\n",
      "Die Sprache ist vielseitig einsetzbar und unterstützt verschiedene Programmierparadigmen, darunter objektorientierte, imperative und funktionale Programmierung. Python verfügt über eine umfangreiche Standardbibliothek, die eine Vielzahl von Funktionen und Modulen bereitstellt, was die Entwicklung von Anwendungen beschleunigt, da viele Aufgaben bereits durch vordefinierte Funktionen abgedeckt sind.\n",
      "\n",
      "Durch die dynamische Typisierung von Python ist es möglich, Variablen ohne explizite Typendefinition zu verwenden. Dies ermöglicht eine schnellere Entwicklung, da der Programmierer sich weniger um Typendetails kümmern muss. Python unterstützt auch automatische Speicherbereinigung durch Garbage Collection, was die Handhabung von Ressourcen erleichtert.\n",
      "\n",
      "Die umfangreiche Community und das große Ökosystem von Bibliotheken und Frameworks machen Python zu einer beliebten Wahl für verschiedene Anwendungsgebiete. Von Webentwicklung über Datenwissenschaft bis hin zur künstlichen Intelligenz – Python wird in verschiedenen Branchen und Disziplinen eingesetzt.\n",
      "\n",
      "Durch die Einfachheit und Klarheit der Sprache eignet sich Python besonders gut für Einsteiger, die ihre Programmierkenntnisse entwickeln möchten. Gleichzeitig bietet sie auch erfahreneren Entwicklern die Flexibilität und Leistungsfähigkeit, die für komplexe Projekte erforderlich sind.\n",
      "\n",
      "Insgesamt hat sich Python als eine äußerst einflussreiche und zugängliche Programmiersprache etabliert, die in der Softwareentwicklung weit verbreitet ist und durch ihre lebendige Community ständig weiterentwickelt wird.\n",
      "\n"
     ]
    }
   ],
   "source": [
    "# Lese die Datei Zeile für Zeile\n",
    "with open(\"files/was_ist_python.txt\", \"r\") as f:\n",
    "    for line in f.readlines():\n",
    "        print(line)"
   ]
  },
  {
   "cell_type": "markdown",
   "metadata": {},
   "source": [
    "### Enumerate Funktion\n",
    "\n",
    "Eine hilfreiche Funktion beim Iterieren über Listen ist die `enumerate()` Funktion.\n",
    "Diese gibt zu jedem Element auch noch den Index an.\n",
    "\n",
    "So können wir die Zeilennummer ebenfalls ausgeben."
   ]
  },
  {
   "cell_type": "code",
   "execution_count": 3,
   "metadata": {},
   "outputs": [
    {
     "name": "stdout",
     "output_type": "stream",
     "text": [
      "1: Python ist eine hochrangige, interpretierte Programmiersprache, die sowohl für Anfänger als auch für erfahrene Entwickler attraktiv ist. Sie wurde von Guido van Rossum in den späten 1980er Jahren entwickelt und hat sich seitdem zu einer der beliebtesten Programmiersprachen weltweit entwickelt.\n",
      "\n",
      "2: Eine der markantesten Eigenschaften von Python ist seine klare, leserliche Syntax, die das Schreiben von Code erleichtert und die Lesbarkeit fördert. Python setzt auf Einrückungen, anstelle von geschweiften Klammern oder anderen Strukturierungszeichen, um Codeblöcke zu definieren. Dies führt zu einem konsistenten und gut lesbaren Code-Stil.\n",
      "\n",
      "3: Die Sprache ist vielseitig einsetzbar und unterstützt verschiedene Programmierparadigmen, darunter objektorientierte, imperative und funktionale Programmierung. Python verfügt über eine umfangreiche Standardbibliothek, die eine Vielzahl von Funktionen und Modulen bereitstellt, was die Entwicklung von Anwendungen beschleunigt, da viele Aufgaben bereits durch vordefinierte Funktionen abgedeckt sind.\n",
      "\n",
      "4: Durch die dynamische Typisierung von Python ist es möglich, Variablen ohne explizite Typendefinition zu verwenden. Dies ermöglicht eine schnellere Entwicklung, da der Programmierer sich weniger um Typendetails kümmern muss. Python unterstützt auch automatische Speicherbereinigung durch Garbage Collection, was die Handhabung von Ressourcen erleichtert.\n",
      "\n",
      "5: Die umfangreiche Community und das große Ökosystem von Bibliotheken und Frameworks machen Python zu einer beliebten Wahl für verschiedene Anwendungsgebiete. Von Webentwicklung über Datenwissenschaft bis hin zur künstlichen Intelligenz – Python wird in verschiedenen Branchen und Disziplinen eingesetzt.\n",
      "\n",
      "6: Durch die Einfachheit und Klarheit der Sprache eignet sich Python besonders gut für Einsteiger, die ihre Programmierkenntnisse entwickeln möchten. Gleichzeitig bietet sie auch erfahreneren Entwicklern die Flexibilität und Leistungsfähigkeit, die für komplexe Projekte erforderlich sind.\n",
      "\n",
      "7: Insgesamt hat sich Python als eine äußerst einflussreiche und zugängliche Programmiersprache etabliert, die in der Softwareentwicklung weit verbreitet ist und durch ihre lebendige Community ständig weiterentwickelt wird.\n",
      "\n"
     ]
    }
   ],
   "source": [
    "# Lese die Datei Zeile für Zeile, gebe die Zeilennummer aus\n",
    "with open(\"files/was_ist_python.txt\", \"r\") as f:\n",
    "    for i, line in enumerate(f.readlines()):\n",
    "        print(f\"{i+1}: {line}\")"
   ]
  },
  {
   "cell_type": "markdown",
   "metadata": {},
   "source": [
    "### Dateien schreiben\n",
    "\n",
    "Um in eine Datei zu schreiben, öffnen wir diese nun mit im write Modus."
   ]
  },
  {
   "cell_type": "code",
   "execution_count": 4,
   "metadata": {},
   "outputs": [
    {
     "name": "stdout",
     "output_type": "stream",
     "text": [
      "Hallo Welt!Immer noch Zeile 1.\n",
      "Zeile 2.\n",
      "Zeile 3.\n"
     ]
    }
   ],
   "source": [
    "with open(\"files/neue_datei.txt\", \"w\") as f:\n",
    "    f.write(\"Hallo Welt!\")\n",
    "    # Um eine neue Zeile zu schreiben muss man einen Newline Character in die Datei schreiben (\\n)\n",
    "    f.write(\"Immer noch Zeile 1.\\n\")\n",
    "    f.write(\"Zeile 2.\\n\")\n",
    "    f.write(\"Zeile 3.\")\n",
    "\n",
    "# Hier lesen wir die geschriebene Datei aus\n",
    "with open(\"files/neue_datei.txt\", \"r\") as f:\n",
    "    print(f.read())"
   ]
  },
  {
   "cell_type": "markdown",
   "metadata": {},
   "source": [
    "Wir können auch eine Liste von Strings auf einmal in die Datei schreiben."
   ]
  },
  {
   "cell_type": "code",
   "execution_count": 5,
   "metadata": {},
   "outputs": [
    {
     "name": "stdout",
     "output_type": "stream",
     "text": [
      "Zeile 1\n",
      "Zeile 2\n",
      "Zeile 3\n",
      "Zeile 4\n",
      "\n"
     ]
    }
   ],
   "source": [
    "zeilen = [\"Zeile 1\\n\", \"Zeile 2\\n\", \"Zeile 3\\n\", \"Zeile 4\\n\"]\n",
    "\n",
    "with open(\"files/neue_datei2.txt\", \"w\") as f:\n",
    "    f.writelines(zeilen)\n",
    "\n",
    "# Hier lesen wir die geschriebene Datei aus\n",
    "with open(\"files/neue_datei2.txt\", \"r\") as f:\n",
    "    print(f.read())"
   ]
  },
  {
   "cell_type": "markdown",
   "metadata": {},
   "source": [
    "### Zip Funktion\n",
    "\n",
    "Eine weitere hilfreiche Funktion für Listen ist die `zip()` Funktion.\n",
    "\n",
    "Sie lässt uns über mehrere Listen gleichzeitig iterieren.\n",
    "\n",
    "Sie nimmt die Listen als input und gibt uns die Kombinationen als Tupel zurück."
   ]
  },
  {
   "cell_type": "code",
   "execution_count": 26,
   "metadata": {},
   "outputs": [
    {
     "name": "stdout",
     "output_type": "stream",
     "text": [
      "('Alice', 25, 'Berlin')\n",
      "('Bob', 30, 'New York')\n",
      "('Charlie', 22, 'London')\n"
     ]
    },
    {
     "ename": "NameError",
     "evalue": "name 'groessen' is not defined",
     "output_type": "error",
     "traceback": [
      "\u001b[0;31m---------------------------------------------------------------------------\u001b[0m",
      "\u001b[0;31mNameError\u001b[0m                                 Traceback (most recent call last)",
      "\u001b[1;32m/home/niklas/Desktop/tut/2023-wise-dscb130-tutorial/Uebungsblaetter/Termin07_Loesung.ipynb Cell 14\u001b[0m line \u001b[0;36m1\n\u001b[1;32m     <a href='vscode-notebook-cell:/home/niklas/Desktop/tut/2023-wise-dscb130-tutorial/Uebungsblaetter/Termin07_Loesung.ipynb#X16sZmlsZQ%3D%3D?line=10'>11</a>\u001b[0m     \u001b[39mprint\u001b[39m(element)\n\u001b[1;32m     <a href='vscode-notebook-cell:/home/niklas/Desktop/tut/2023-wise-dscb130-tutorial/Uebungsblaetter/Termin07_Loesung.ipynb#X16sZmlsZQ%3D%3D?line=12'>13</a>\u001b[0m \u001b[39m# Oder einzeln:\u001b[39;00m\n\u001b[0;32m---> <a href='vscode-notebook-cell:/home/niklas/Desktop/tut/2023-wise-dscb130-tutorial/Uebungsblaetter/Termin07_Loesung.ipynb#X16sZmlsZQ%3D%3D?line=13'>14</a>\u001b[0m \u001b[39mfor\u001b[39;00m name, groesse, stadt \u001b[39min\u001b[39;00m \u001b[39mzip\u001b[39m(namen, groessen, staedte):\n\u001b[1;32m     <a href='vscode-notebook-cell:/home/niklas/Desktop/tut/2023-wise-dscb130-tutorial/Uebungsblaetter/Termin07_Loesung.ipynb#X16sZmlsZQ%3D%3D?line=14'>15</a>\u001b[0m     \u001b[39mprint\u001b[39m(name, groesse, stadt)\n",
      "\u001b[0;31mNameError\u001b[0m: name 'groessen' is not defined"
     ]
    }
   ],
   "source": [
    "# Beispiel: Verwendung von zip\n",
    "namen = ['Alice', 'Bob', 'Charlie']\n",
    "alter = [25, 30, 22]\n",
    "staedte = ['Berlin', 'New York', 'London']\n",
    "\n",
    "# Kombiniere die Listen mit zip\n",
    "kombiniert = zip(namen, alter, staedte)\n",
    "\n",
    "# Zeige die kombinierten Elemente\n",
    "for element in kombiniert:\n",
    "    print(element)\n",
    "\n",
    "# Oder einzeln:\n",
    "for name, groesse, stadt in zip(namen, groessen, staedte):\n",
    "    print(name, groesse, stadt)"
   ]
  },
  {
   "cell_type": "markdown",
   "metadata": {},
   "source": [
    "## Aufgabe: Caesar-Verschlüsselung\n",
    "\n",
    "Schreibe eine Python-Funktion namens caesar_verschluesselung, die einen Text und einen Verschiebewert als Parameter nimmt und den verschlüsselten Text zurückgibt. Die Caesar-Verschlüsselung erfolgt, indem jeder Buchstabe im Text um den Verschiebewert nach rechts verschoben wird.\n",
    "\n",
    "Also \"a\" um 3 verschoben ist \"d\". \"z\" um 3 verschoben ist \"c\".\n",
    "\n",
    "Beispiel:\n",
    "\n",
    "```python\n",
    "test_text = \"\"\"\n",
    "In der Welt der Informatik entfaltet sich ein faszinierendes Universum, \n",
    "in dem Algorithmen wie unsichtbare Architekten komplexe Probleme lösen, \n",
    "Softwareanwendungen den digitalen Alltag gestalten und die nahtlose Interaktion \n",
    "von Hardwarekomponenten eine innovative Zukunft formt.\n",
    "\"\"\"\n",
    "\n",
    "# Funktion aufrufen\n",
    "verschluesselter_text = caesar_verschluesselung(test_text, 3)\n",
    "\n",
    "# Ausgabe des verschlüsselten Texts\n",
    "print(\"Verschlüsselter Text:\", verschluesselter_text)\n",
    "```\n",
    "\n",
    "Ausgabe:\n",
    "\n",
    "```\n",
    "Verschlüsselter Text: \n",
    "Lq ghu Zhow ghu Lqirupdwln hqwidowhw vlfk hlq idvclqlhuhqghv Xqlyhuvxp, \n",
    "lq ghp Dojrulwkphq zlh xqvlfkweduh Dufklwhnwhq nrpsohah Sureohph oövhq, \n",
    "Vriwzduhdqzhqgxqjhq ghq gljlwdohq Doowdj jhvwdowhq xqg glh qdkworvh Lqwhudnwlrq \n",
    "yrq Kdugzduhnrpsrqhqwhq hlqh lqqrydwlyh Cxnxqiw irupw.\n",
    "```\n",
    "\n",
    "Hinweise:\n",
    "\n",
    "- Die Caesar-Verschlüsselung sollte nur auf Buchstaben a-z und A-Z anwenden und Groß-/Kleinschreibung berücksichtigen. Sonderzeichen und Zahlen sollten unverändert bleiben.\n",
    "- Achte darauf, dass der verschlüsselte Buchstabe wieder von A beginnt, wenn das Ende des Alphabets erreicht ist (z.B., Z + 1 = A, Z + 2 = B).\n",
    "\n",
    "Zwei Ansätze zum Lösen der Aufgabe:\n",
    "\n",
    "1. Du kannst die Funktion `ord()` verwenden, um den Unicode-Wert eines Zeichens zu erhalten, und `chr()`, um das Zeichen aus einem Unicode-Wert zu erhalten.\n",
    "\n",
    "    ![Unicode Übersicht](unicode.png)\n",
    "    \n",
    "    Tipp:\n",
    "    - Mit `zeichen.isalpha() and zeichen.isascii()` kannst du überprüfen, ob ein Zeichen ein Buchstabe ist.\n",
    "\n",
    "\n",
    "2. Du kannst auch mit Listen arbeiten, die die Buchstaben enthalten, und den Index verschieben.\n",
    "    Tipp: Mithilfe des Modulo (Restoperator `%`) kannst du dafür sorgen, dass dein Index nicht zu groß wird.\n"
   ]
  },
  {
   "cell_type": "markdown",
   "metadata": {},
   "source": [
    "#### Lösung Ansatz 1:"
   ]
  },
  {
   "cell_type": "code",
   "execution_count": 7,
   "metadata": {},
   "outputs": [],
   "source": [
    "def ist_buchstabe(zeichen):\n",
    "    return zeichen.isalpha() and zeichen.isascii()"
   ]
  },
  {
   "cell_type": "code",
   "execution_count": 8,
   "metadata": {},
   "outputs": [],
   "source": [
    "def caesar_verschluesselung(eingabe_text, verschiebung):\n",
    "    # Die Verschiebung darf nur zwischen 1 und 25 liegen\n",
    "    if verschiebung > 25 or verschiebung <= 0:\n",
    "        return eingabe_text\n",
    "\n",
    "    verschluesselt = \"\"\n",
    "    # Iteriere über jedes Zeichen\n",
    "    for zeichen in eingabe_text:\n",
    "        # Wenn das Zeichen ein Buchstabe ist\n",
    "        if ist_buchstabe(zeichen):\n",
    "            # Merken, ob das Zeichen ein Großbuchstabe war\n",
    "            war_grossbuchstabe = zeichen.isupper()\n",
    "            # Als Kleinbuchstaben verwandeln, da wir so nicht in Gefahr laufen,\n",
    "            # dass wir einen \"Overflow\" von Großbuchstaben in kleinbuchstaben haben.\n",
    "            # (Siehe ASCII Tabelle oben)\n",
    "            zeichen = zeichen.lower()\n",
    "            # Zeichen um Verschiebung verschieben\n",
    "            verschluesseltes_zeichen = chr(ord(zeichen) + verschiebung)\n",
    "            # Wenn das verschlüsselte Zeichen kein Buchstabe ist, hatten wir einen \"Overflow\"\n",
    "            # -> z.B. ord(\"x\")=120, verschiebung=3 -> 120+3=123, chr(123)=\"{\"\n",
    "            # -> Kein Buchstabe, also \"Overflow\" -> 26 abziehen\n",
    "            # -> 123-26=97, chr(97)=\"a\" -> Korrektes Zeichen\n",
    "            if not ist_buchstabe(verschluesseltes_zeichen):\n",
    "                verschluesseltes_zeichen = chr(ord(verschluesseltes_zeichen) - 26)\n",
    "            # Wenn wir ursprünglich einen Großbuchstaben hatten verwandeln wir unser Zeichen\n",
    "            # wieder in einen Großbuchstaben\n",
    "            if war_grossbuchstabe:\n",
    "                verschluesseltes_zeichen = verschluesseltes_zeichen.upper()\n",
    "            verschluesselt += verschluesseltes_zeichen\n",
    "        else:\n",
    "            # Andere Zeichen als Buchstaben bleiben unverändert\n",
    "            verschluesselt += zeichen\n",
    "    return verschluesselt\n"
   ]
  },
  {
   "cell_type": "code",
   "execution_count": 9,
   "metadata": {},
   "outputs": [
    {
     "name": "stdout",
     "output_type": "stream",
     "text": [
      "Verschlüsselter Text: \n",
      "Lq ghu Zhow ghu Lqirupdwln hqwidowhw vlfk hlq idvclqlhuhqghv Xqlyhuvxp, \n",
      "lq ghp Dojrulwkphq zlh xqvlfkweduh Dufklwhnwhq nrpsohah Sureohph oövhq, \n",
      "Vriwzduhdqzhqgxqjhq ghq gljlwdohq Doowdj jhvwdowhq xqg glh qdkworvh Lqwhudnwlrq \n",
      "yrq Kdugzduhnrpsrqhqwhq hlqh lqqrydwlyh Cxnxqiw irupw.\n",
      "\n"
     ]
    }
   ],
   "source": [
    "test_text = \"\"\"\n",
    "In der Welt der Informatik entfaltet sich ein faszinierendes Universum, \n",
    "in dem Algorithmen wie unsichtbare Architekten komplexe Probleme lösen, \n",
    "Softwareanwendungen den digitalen Alltag gestalten und die nahtlose Interaktion \n",
    "von Hardwarekomponenten eine innovative Zukunft formt.\n",
    "\"\"\"\n",
    "\n",
    "# Funktion aufrufen\n",
    "verschluesselter_text = caesar_verschluesselung(test_text, 3)\n",
    "\n",
    "# Ausgabe des verschlüsselten Texts\n",
    "print(\"Verschlüsselter Text:\", verschluesselter_text)"
   ]
  },
  {
   "cell_type": "markdown",
   "metadata": {},
   "source": [
    "#### Lösung Ansatz 2:"
   ]
  },
  {
   "cell_type": "code",
   "execution_count": 10,
   "metadata": {},
   "outputs": [],
   "source": [
    "def caesar_verschluesselung_2(eingabe_text, verschiebung):\n",
    "\n",
    "    # Erzeugen der Listen mit Buchstaben a-z und A-Z\n",
    "    a_z = [buchstabe for buchstabe in \"abcdefghijklmnopqrstuvwxyz\"]\n",
    "    A_Z = [buchstabe.upper() for buchstabe in a_z]\n",
    "    \n",
    "    verschluesselt = \"\"\n",
    "\n",
    "    # Für jedes Zeichen im Text\n",
    "    for zeichen in eingabe_text:\n",
    "        # Wenn das Zeichen ein Kleinbuchstabe ist:\n",
    "        if zeichen in a_z:\n",
    "            # Finde den Index des Zeichens\n",
    "            index = a_z.index(zeichen)\n",
    "            # Verschiebe den Index um die Verschiebung\n",
    "            # Modulo wird verwendet, sodass z.B. z+1 zu a wird\n",
    "            verschobener_index = (index + verschiebung) % len(a_z)\n",
    "            # Verschobenes Zeichen wird an Ausgabetext angehängt\n",
    "            verschluesselt += a_z[verschobener_index]\n",
    "        # Wenn das Zeichen ein Großbuchstabe ist:\n",
    "        elif zeichen in A_Z:\n",
    "            # Finde den Index des Zeichens\n",
    "            index = A_Z.index(zeichen)\n",
    "            # Verschiebe den Index um die Verschiebung\n",
    "            # Modulo wird verwendet, sodass z.B. Z+1 zu A wird\n",
    "            verschobener_index = (index + verschiebung) % len(A_Z)\n",
    "            # Verschobenes Zeichen wird an Ausgabetext angehängt\n",
    "            verschluesselt += A_Z[verschobener_index]\n",
    "        else:\n",
    "            # Wenn das Zeichen kein Buchstabe ist wird es nicht verändert\n",
    "            verschluesselt += zeichen\n",
    "    return verschluesselt"
   ]
  },
  {
   "cell_type": "code",
   "execution_count": 11,
   "metadata": {},
   "outputs": [
    {
     "name": "stdout",
     "output_type": "stream",
     "text": [
      "Verschlüsselter Text: \n",
      "Lq ghu Zhow ghu Lqirupdwln hqwidowhw vlfk hlq idvclqlhuhqghv Xqlyhuvxp, \n",
      "lq ghp Dojrulwkphq zlh xqvlfkweduh Dufklwhnwhq nrpsohah Sureohph oövhq, \n",
      "Vriwzduhdqzhqgxqjhq ghq gljlwdohq Doowdj jhvwdowhq xqg glh qdkworvh Lqwhudnwlrq \n",
      "yrq Kdugzduhnrpsrqhqwhq hlqh lqqrydwlyh Cxnxqiw irupw.\n",
      "\n"
     ]
    }
   ],
   "source": [
    "test_text = \"\"\"\n",
    "In der Welt der Informatik entfaltet sich ein faszinierendes Universum, \n",
    "in dem Algorithmen wie unsichtbare Architekten komplexe Probleme lösen, \n",
    "Softwareanwendungen den digitalen Alltag gestalten und die nahtlose Interaktion \n",
    "von Hardwarekomponenten eine innovative Zukunft formt.\n",
    "\"\"\"\n",
    "\n",
    "# Funktion aufrufen\n",
    "verschluesselter_text = caesar_verschluesselung_2(test_text, 3)\n",
    "\n",
    "# Ausgabe des verschlüsselten Texts\n",
    "print(\"Verschlüsselter Text:\", verschluesselter_text)"
   ]
  },
  {
   "cell_type": "markdown",
   "metadata": {},
   "source": [
    "## Aufgabe: Häufigkeitsanalyse zur Caesar-Verschlüsselung\n",
    "\n",
    "Du hast einen verschlüsselten Text erhalten, der mit der Caesar-Verschlüsselung verschlüsselt wurde.\n",
    "Deine Aufgabe ist es, eine Häufigkeitsanalyse durchzuführen, um die Verschiebung herauszufinden.\n",
    "\n",
    "Hier sind die Schritte, die du befolgen sollst:\n"
   ]
  },
  {
   "cell_type": "markdown",
   "metadata": {},
   "source": [
    "\n",
    "### 1. **Funktion zur Häufigkeitsanalyse erstellen:**\n",
    "\n",
    "   Schreibe eine Python-Funktion namens `haeufigkeitsanalyse`, die einen verschlüsselten Text als Eingabe nimmt und ein Dictionary zurückgibt, das die Häufigkeit jedes Buchstabens im Text enthält. Die Funktion sollte Groß-/Kleinschreibung ignorieren und nur Buchstaben berücksichtigen.\n",
    "\n",
    "   Beispiel:\n",
    "\n",
    "   ```python\n",
    "   verschluesselter_text = \"\"\"\n",
    "   Lq ghu Zhow ghu Lqirupdwln hqwidowhw vlfk hlq idvclqlhuhqghv Xqlyhuvxp, \n",
    "   lq ghp Dojrulwkphq zlh xqvlfkweduh Dufklwhnwhq nrpsohah Sureohph oövhq, \n",
    "   Vriwzduhdqzhqgxqjhq ghq gljlwdohq Doowdj jhvwdowhq xqg glh qdkworvh Lqwhudnwlrq \n",
    "   yrq Kdugzduhnrpsrqhqwhq hlqh lqqrydwlyh Cxnxqiw irupw.\n",
    "   \"\"\"\n",
    "   # Funktion aufrufen\n",
    "   analysiertes_dict = haeufigkeitsanalyse(verschluesselter_text)\n",
    "\n",
    "   # Ausgabe der analysierten Häufigkeiten\n",
    "   print(\"Häufigkeitsanalyse:\", analysiertes_dict)\n",
    "   ```\n",
    "\n",
    "   Ausgabe:\n",
    "\n",
    "   ```\n",
    "   Häufigkeitsanalyse: {'l': 21, 'q': 31, 'g': 10, 'h': 37, 'u': 14, 'z': 5, 'o': 11, 'w': 21, 'i': 6, 'r': 12, 'p': 8, 'd': 17, 'n': 6, 'v': 9, 'f': 3, 'k': 6, 'c': 2, 'x': 7, 'y': 4, 'j': 5, 'e': 2, 's': 3, 'a': 1}\n",
    "   ```\n"
   ]
  },
  {
   "cell_type": "code",
   "execution_count": 12,
   "metadata": {},
   "outputs": [],
   "source": [
    "def haeufigkeitsanalyse(text):\n",
    "    haeufigkeiten = {}\n",
    "    # Iteriere über jedes Zeichen im Text\n",
    "    for zeichen in text:\n",
    "        # Wenn das Zeichen ein Buchstabe ist\n",
    "        if ist_buchstabe(zeichen):\n",
    "            # Verwandle das Zeichen in einen Kleinbuchstaben\n",
    "            zeichen = zeichen.lower()\n",
    "            # Wenn das Zeichen zum ersten mal vorkommt:\n",
    "            if zeichen not in haeufigkeiten.keys():\n",
    "                # Häufigkeit mit 1 initialisieren\n",
    "                haeufigkeiten[zeichen] = 1\n",
    "            # Wenn das Zeichen schon in dem Dictionary vorkommt:\n",
    "            else:\n",
    "                # Häufigkeit erhöhen\n",
    "                haeufigkeiten[zeichen] += 1\n",
    "    return haeufigkeiten"
   ]
  },
  {
   "cell_type": "code",
   "execution_count": 13,
   "metadata": {},
   "outputs": [
    {
     "name": "stdout",
     "output_type": "stream",
     "text": [
      "Häufigkeitsanalyse: {'l': 21, 'q': 31, 'g': 10, 'h': 37, 'u': 14, 'z': 5, 'o': 11, 'w': 21, 'i': 6, 'r': 12, 'p': 8, 'd': 17, 'n': 6, 'v': 9, 'f': 3, 'k': 6, 'c': 2, 'x': 7, 'y': 4, 'j': 5, 'e': 2, 's': 3, 'a': 1}\n"
     ]
    }
   ],
   "source": [
    "verschluesselter_text = \"\"\"\n",
    "Lq ghu Zhow ghu Lqirupdwln hqwidowhw vlfk hlq idvclqlhuhqghv Xqlyhuvxp, \n",
    "lq ghp Dojrulwkphq zlh xqvlfkweduh Dufklwhnwhq nrpsohah Sureohph oövhq, \n",
    "Vriwzduhdqzhqgxqjhq ghq gljlwdohq Doowdj jhvwdowhq xqg glh qdkworvh Lqwhudnwlrq \n",
    "yrq Kdugzduhnrpsrqhqwhq hlqh lqqrydwlyh Cxnxqiw irupw.\n",
    "\"\"\"\n",
    "# Funktion aufrufen\n",
    "analysiertes_dict = haeufigkeitsanalyse(verschluesselter_text)\n",
    "\n",
    "# Ausgabe der analysierten Häufigkeiten\n",
    "print(\"Häufigkeitsanalyse:\", analysiertes_dict)"
   ]
  },
  {
   "cell_type": "markdown",
   "metadata": {},
   "source": [
    "### 2. **Verschiebung herausfinden:**\n",
    "\n",
    "   Nutze die Häufigkeitsanalyse, um die wahrscheinlichste Verschiebung zu bestimmen. Du kannst davon ausgehen, dass der Buchstabe mit der höchsten Häufigkeit im verschlüsselten Text dem Buchstaben 'E' im unverschlüsselten Text entspricht. Berechne die Verschiebung und schreibe eine Funktion namens `verschiebung_finden`, die die Verschiebung zurückgibt.\n",
    "\n",
    "   Tipp zum finden des Keys mit dem geößten Wert in einem Dictionary:\n",
    "      https://stackoverflow.com/questions/268272/getting-key-with-maximum-value-in-dictionary\n",
    "\n",
    "   Beispiel:\n",
    "\n",
    "   ```python\n",
    "   verschluesselter_text = \"\"\"\n",
    "   Lq ghu Zhow ghu Lqirupdwln hqwidowhw vlfk hlq idvclqlhuhqghv Xqlyhuvxp, \n",
    "   lq ghp Dojrulwkphq zlh xqvlfkweduh Dufklwhnwhq nrpsohah Sureohph oövhq, \n",
    "   Vriwzduhdqzhqgxqjhq ghq gljlwdohq Doowdj jhvwdowhq xqg glh qdkworvh Lqwhudnwlrq \n",
    "   yrq Kdugzduhnrpsrqhqwhq hlqh lqqrydwlyh Cxnxqiw irupw.\n",
    "   \"\"\"\n",
    "   haeufigkeiten = haeufigkeitsanalyse(verschluesselter_text)\n",
    "   # Funktion aufrufen\n",
    "   gefundene_verschiebung = verschiebung_finden(haeufigkeiten)\n",
    "\n",
    "   # Ausgabe der gefundenen Verschiebung\n",
    "   print(\"Gefundene Verschiebung:\", gefundene_verschiebung)\n",
    "   ```\n",
    "\n",
    "   Ausgabe:\n",
    "\n",
    "   ```\n",
    "   Gefundene Verschiebung: 3\n",
    "   ```"
   ]
  },
  {
   "cell_type": "code",
   "execution_count": 14,
   "metadata": {},
   "outputs": [],
   "source": [
    "def verschiebung_finden(haeufigkeiten):\n",
    "    # Finde den ab häufigsten vorkommenden Buchstaben\n",
    "    haeufigstes = max(haeufigkeiten, key=haeufigkeiten.get)\n",
    "    # Die Verschiebung ist (in der Regel) die Entfernung des häufigsten vorkommenden Buchstaben\n",
    "    # zum Buchstabe \"e\" (da im deutschen das e der häufigste Buchstabe ist)\n",
    "    verschiebung = ord(haeufigstes) - ord(\"e\")\n",
    "    return verschiebung"
   ]
  },
  {
   "cell_type": "code",
   "execution_count": 15,
   "metadata": {},
   "outputs": [
    {
     "name": "stdout",
     "output_type": "stream",
     "text": [
      "Gefundene Verschiebung: 3\n"
     ]
    }
   ],
   "source": [
    "verschluesselter_text = \"\"\"\n",
    "Lq ghu Zhow ghu Lqirupdwln hqwidowhw vlfk hlq idvclqlhuhqghv Xqlyhuvxp, \n",
    "lq ghp Dojrulwkphq zlh xqvlfkweduh Dufklwhnwhq nrpsohah Sureohph oövhq, \n",
    "Vriwzduhdqzhqgxqjhq ghq gljlwdohq Doowdj jhvwdowhq xqg glh qdkworvh Lqwhudnwlrq \n",
    "yrq Kdugzduhnrpsrqhqwhq hlqh lqqrydwlyh Cxnxqiw irupw.\n",
    "\"\"\"\n",
    "haeufigkeiten = haeufigkeitsanalyse(verschluesselter_text)\n",
    "# Funktion aufrufen\n",
    "gefundene_verschiebung = verschiebung_finden(haeufigkeiten)\n",
    "\n",
    "# Ausgabe der gefundenen Verschiebung\n",
    "print(\"Gefundene Verschiebung:\", gefundene_verschiebung)"
   ]
  },
  {
   "cell_type": "markdown",
   "metadata": {},
   "source": [
    "### 3. **Entschlüsselung:**\n",
    "\n",
    "   Verwende die gefundene Verschiebung, um den gesamten verschlüsselten Text zu entschlüsseln. Schreibe eine Funktion namens `entschluesselung`, die den verschlüsselten Text und die Verschiebung als Parameter nimmt und den entschlüsselten Text zurückgibt.\n",
    "\n",
    "   Beispiel:\n",
    "\n",
    "   ```python\n",
    "   verschluesselter_text = \"\"\"\n",
    "   Lq ghu Zhow ghu Lqirupdwln hqwidowhw vlfk hlq idvclqlhuhqghv Xqlyhuvxp, \n",
    "   lq ghp Dojrulwkphq zlh xqvlfkweduh Dufklwhnwhq nrpsohah Sureohph oövhq, \n",
    "   Vriwzduhdqzhqgxqjhq ghq gljlwdohq Doowdj jhvwdowhq xqg glh qdkworvh Lqwhudnwlrq \n",
    "   yrq Kdugzduhnrpsrqhqwhq hlqh lqqrydwlyh Cxnxqiw irupw.\n",
    "   \"\"\"\n",
    "   # Funktion aufrufen\n",
    "   entschluesselter_text = entschluesselung(verschluesselter_text, 3)\n",
    "\n",
    "   # Ausgabe des entschlüsselten Texts\n",
    "   print(\"Entschlüsselter Text:\", entschluesselter_text)\n",
    "   ```\n",
    "\n",
    "   Ausgabe:\n",
    "\n",
    "   ```\n",
    "   Entschlüsselter Text:\n",
    "   In der Welt der Informatik entfaltet sich ein faszinierendes Universum, \n",
    "   in dem Algorithmen wie unsichtbare Architekten komplexe Probleme lösen, \n",
    "   Softwareanwendungen den digitalen Alltag gestalten und die nahtlose Interaktion \n",
    "   von Hardwarekomponenten eine innovative Zukunft formt.\n",
    "   ```\n",
    "\n",
    "**Hinweise:**\n",
    "- Auch hier gibt es wieder wie bei der Verschlüsselung die beiden Ansätze.\n",
    "- Du kannst viel aus der Funktion aus der vorherigen Aufgabe zur Caesar-Verschlüsselung wiederverwenden."
   ]
  },
  {
   "cell_type": "markdown",
   "metadata": {},
   "source": [
    "#### Lösung mit Ansatz 1:"
   ]
  },
  {
   "cell_type": "code",
   "execution_count": 16,
   "metadata": {},
   "outputs": [],
   "source": [
    "def entschluesselung(secret_text, verschiebung):\n",
    "    # Die Verschiebung darf nur zwischen 1 und 25 liegen\n",
    "    if verschiebung > 25 or verschiebung <= 0:\n",
    "        return secret_text\n",
    "\n",
    "    entschluesselt = \"\"\n",
    "    # Iteriere über jedes Zeichen\n",
    "    for zeichen in secret_text:\n",
    "        # Wenn das Zeichen ein Buchstabe ist\n",
    "        if ist_buchstabe(zeichen):\n",
    "            # Merken, ob das Zeichen ein Kleinbuchstabe war\n",
    "            war_kleinbuchstabe = zeichen.islower()\n",
    "            # Als Großbuchstaben verwandeln, da wir so nicht in Gefahr laufen,\n",
    "            # dass wir einen \"Underflow\" von Kleinbuchstaben in Großbuchstaben haben.\n",
    "            # (Siehe ASCII Tabelle oben)\n",
    "            zeichen = zeichen.upper()\n",
    "            # Zeichen um Verschiebung verschieben\n",
    "            entschluesseltes_zeichen = chr(ord(zeichen) - verschiebung)\n",
    "            # Wenn das verschlüsselte Zeichen kein Buchstabe ist, hatten wir einen \"Underflow\"\n",
    "            # -> z.B. ord(\"a\")=97, verschiebung=3 -> 97-3=94, chr(94)=\"^\"\n",
    "            # -> Kein Buchstabe, also \"Underflow\" -> 26 addieren\n",
    "            # -> 94+26=120, chr(120)=\"x\" -> Korrektes Zeichen\n",
    "            if not ist_buchstabe(entschluesseltes_zeichen):\n",
    "                entschluesseltes_zeichen = chr(ord(entschluesseltes_zeichen) + 26)\n",
    "            # Wenn wir ursprünglich einen Großbuchstaben hatten verwandeln wir unser Zeichen\n",
    "            # wieder in einen Großbuchstaben\n",
    "            if war_kleinbuchstabe:\n",
    "                entschluesseltes_zeichen = entschluesseltes_zeichen.lower()\n",
    "            entschluesselt += entschluesseltes_zeichen\n",
    "        else:\n",
    "            # Andere Zeichen als Buchstaben bleiben unverändert\n",
    "            entschluesselt += zeichen\n",
    "    return entschluesselt"
   ]
  },
  {
   "cell_type": "code",
   "execution_count": 17,
   "metadata": {},
   "outputs": [
    {
     "name": "stdout",
     "output_type": "stream",
     "text": [
      "Entschlüsselter Text: \n",
      "In der Welt der Informatik entfaltet sich ein faszinierendes Universum, \n",
      "in dem Algorithmen wie unsichtbare Architekten komplexe Probleme lösen, \n",
      "Softwareanwendungen den digitalen Alltag gestalten und die nahtlose Interaktion \n",
      "von Hardwarekomponenten eine innovative Zukunft formt.\n",
      "\n"
     ]
    }
   ],
   "source": [
    "verschluesselter_text = \"\"\"\n",
    "Lq ghu Zhow ghu Lqirupdwln hqwidowhw vlfk hlq idvclqlhuhqghv Xqlyhuvxp, \n",
    "lq ghp Dojrulwkphq zlh xqvlfkweduh Dufklwhnwhq nrpsohah Sureohph oövhq, \n",
    "Vriwzduhdqzhqgxqjhq ghq gljlwdohq Doowdj jhvwdowhq xqg glh qdkworvh Lqwhudnwlrq \n",
    "yrq Kdugzduhnrpsrqhqwhq hlqh lqqrydwlyh Cxnxqiw irupw.\n",
    "\"\"\"\n",
    "# Funktion aufrufen\n",
    "entschluesselter_text = entschluesselung(verschluesselter_text, 3)\n",
    "\n",
    "# Ausgabe des entschlüsselten Texts\n",
    "print(\"Entschlüsselter Text:\", entschluesselter_text)"
   ]
  },
  {
   "cell_type": "markdown",
   "metadata": {},
   "source": [
    "#### Lösung mit Ansatz 2:"
   ]
  },
  {
   "cell_type": "code",
   "execution_count": 18,
   "metadata": {},
   "outputs": [],
   "source": [
    "def entschluesselung_2(secret_text, verschiebung):\n",
    "    # Das schöne an Ansatz 2:\n",
    "    # Wir können als Entschlüsselung einfach die negative Verschlüsselung verwenden.\n",
    "    return caesar_verschluesselung_2(secret_text, -verschiebung)"
   ]
  },
  {
   "cell_type": "code",
   "execution_count": 19,
   "metadata": {},
   "outputs": [
    {
     "name": "stdout",
     "output_type": "stream",
     "text": [
      "Entschlüsselter Text: \n",
      "In der Welt der Informatik entfaltet sich ein faszinierendes Universum, \n",
      "in dem Algorithmen wie unsichtbare Architekten komplexe Probleme lösen, \n",
      "Softwareanwendungen den digitalen Alltag gestalten und die nahtlose Interaktion \n",
      "von Hardwarekomponenten eine innovative Zukunft formt.\n",
      "\n"
     ]
    }
   ],
   "source": [
    "verschluesselter_text = \"\"\"\n",
    "Lq ghu Zhow ghu Lqirupdwln hqwidowhw vlfk hlq idvclqlhuhqghv Xqlyhuvxp, \n",
    "lq ghp Dojrulwkphq zlh xqvlfkweduh Dufklwhnwhq nrpsohah Sureohph oövhq, \n",
    "Vriwzduhdqzhqgxqjhq ghq gljlwdohq Doowdj jhvwdowhq xqg glh qdkworvh Lqwhudnwlrq \n",
    "yrq Kdugzduhnrpsrqhqwhq hlqh lqqrydwlyh Cxnxqiw irupw.\n",
    "\"\"\"\n",
    "# Funktion aufrufen\n",
    "entschluesselter_text = entschluesselung_2(verschluesselter_text, 3)\n",
    "\n",
    "# Ausgabe des entschlüsselten Texts\n",
    "print(\"Entschlüsselter Text:\", entschluesselter_text)"
   ]
  },
  {
   "cell_type": "markdown",
   "metadata": {},
   "source": [
    "### Aufgabe: Funktionen, mit Dateien\n",
    "\n",
    "Verwende jetzt deine bisherigen Funktionen, um zwei Funktionen zu implementieren:\n",
    "\n",
    "1. `in_datei_verschluesseln(text, verschiebung, datei_pfad)` soll einen Text mit einer Verschiebung verschlüsseln, und dann in einer Datei abspeichern.\n",
    "2. `aus_datei_entschluesseln(datei_pfad)` soll einen verschlüsselten Text aus einer Datei lesen, dann eine Häufigkeitsanalyse durchführen und die Verschiebung herausfinden. Als letztes soll der Text aus der Datei entschlüsselt werden und zurückgegeben werden."
   ]
  },
  {
   "cell_type": "code",
   "execution_count": 20,
   "metadata": {},
   "outputs": [],
   "source": [
    "# TODO: Implementiere hier das Verschlüsseln in Dateien\n",
    "def in_datei_verschluesseln(text, verschiebung, datei_pfad):\n",
    "    verschluesselt = caesar_verschluesselung(text, verschiebung)\n",
    "    with open(datei_pfad, \"w\") as f:\n",
    "        f.write(verschluesselt)"
   ]
  },
  {
   "cell_type": "code",
   "execution_count": 21,
   "metadata": {},
   "outputs": [],
   "source": [
    "# TODO: Implementiere hier das Entschlüsseln von Dateien\n",
    "def aus_datei_entschluesseln(datei_pfad):\n",
    "    with open(datei_pfad, \"r\") as f:\n",
    "        secret_text = f.read()\n",
    "        haeufigkeiten = haeufigkeitsanalyse(secret_text)\n",
    "        verschiebung = verschiebung_finden(haeufigkeiten)\n",
    "        return entschluesselung(secret_text, verschiebung)\n"
   ]
  },
  {
   "cell_type": "code",
   "execution_count": 22,
   "metadata": {},
   "outputs": [
    {
     "name": "stdout",
     "output_type": "stream",
     "text": [
      "In einem digitalen Labyrinth, wo Bits tanzen,\n",
      "Versteckt sich eine Kunst, die Geheimnisse verschlüsselt.\n",
      "Ein Tanz der Zeichen, verschlungen und leise,\n",
      "Die Sprache der Codes, im Cyberspace auf Reise.\n",
      "\n",
      "Caesar, ein König der alten Verschlüsselung,\n",
      "Verschob die Buchstaben, in stummer Umarmung.\n",
      "Ein einfacher Tanz, doch genial in der Macht,\n",
      "Geheimnisse bewahrt, vor neugieriger Pracht.\n",
      "\n",
      "Die Nullen und Einsen, ein modernes Gedicht,\n",
      "In Binärcode flüstert, was niemand verspricht.\n",
      "Ein Tanz der Elektronen, im Rhythmus der Bytes,\n",
      "Die Seele der Daten, verhüllt in digitaler Wacht.\n",
      "\n",
      "RSA, ein Zauberer in mathematischem Gewand,\n",
      "Mit Primzahlen jonglierend, verschlüsselt im Land.\n",
      "Ein Tanz der Schlüssel, asymmetrisch und klug,\n",
      "Geheimnisse bewahren, mit mathematischem Zug.\n",
      "\n",
      "In Pixeln und Farben, im Bild versteckt,\n",
      "Verbirgt sich ein Geheimnis, das niemand entdeckt.\n",
      "Der steganografische Tanz, unsichtbar und fein,\n",
      "Ein Kunstwerk der Verborgenheit, im Datenverein.\n",
      "\n",
      "Gedanken verschlüsselt, in Zeilen aus Code,\n",
      "Die Poesie der Algorithmen, ein geheimer Fluss.\n",
      "Ein Tanz der Information, im unsichtbaren Raum,\n",
      "Verschlüsselt die Worte, ein poetischer Traum.\n",
      "\n",
      "Im Netz der Verschlüsselung, ein zarter Klang,\n",
      "Ein Lied der Codes, im unsichtbaren Gang.\n",
      "Die Sprache der Sicherheit, im digitalen Gedicht,\n",
      "Ein Tanz der Verschlüsselung, im schützenden Licht.\n",
      "\n",
      "In diesem Ozean aus Daten und Zahlen,\n",
      "Tanzt die Verschlüsselung, ein Ballett der Exzellenz.\n",
      "Geheimnisse gehütet, in kryptografischer Nacht,\n",
      "Ein poetisches Gedicht, das im Code erwacht.\n"
     ]
    }
   ],
   "source": [
    "# Entschlüsseln der Datei `files/secret.txt`\n",
    "print(aus_datei_entschluesseln(\"files/secret.txt\"))"
   ]
  },
  {
   "cell_type": "code",
   "execution_count": 23,
   "metadata": {},
   "outputs": [],
   "source": [
    "# TODO: Teste deine Funktionen `in_datei_verschluesseln` und `aus_datei_entschluesseln`. :)\n",
    "geheimes_rezept = \"\"\"\n",
    "**Rezept: Krabbenburger à la SpongeBob Schwammkopf**\n",
    "\n",
    "*Für 4 Krabbenburger:*\n",
    "\n",
    "**Zutaten:**\n",
    "\n",
    "- 500 g frische Krabben oder Krabbenfleisch (gekocht und geschält)\n",
    "- 1 Tasse Paniermehl\n",
    "- 1 Ei\n",
    "- 1/4 Tasse Mayonnaise\n",
    "- 1 Esslöffel Dijon-Senf\n",
    "- 1 Esslöffel Worcestersauce\n",
    "- 1 Teelöffel Zitronensaft\n",
    "- Salz und Pfeffer nach Geschmack\n",
    "- 4 Burgerbrötchen\n",
    "- Salatblätter\n",
    "- Tomatenscheiben\n",
    "- Essiggurken in Scheiben geschnitten\n",
    "- Käsescheiben (nach Wahl)\n",
    "- Ketchup und Senf zum Servieren\n",
    "\n",
    "**Anleitung:**\n",
    "\n",
    "1. **Krabbenmischung vorbereiten:**\n",
    "   - Die Krabben in eine große Schüssel geben und mit einer Gabel leicht zerdrücken, um eine grobe Textur zu erhalten.\n",
    "   - Paniermehl, Ei, Mayonnaise, Senf, Worcestersauce und Zitronensaft hinzufügen.\n",
    "   - Gut vermengen und mit Salz und Pfeffer abschmecken.\n",
    "\n",
    "2. **Burger formen:**\n",
    "   - Die Krabbenmischung in 4 Portionen teilen und zu Patties formen.\n",
    "   - Die Patties auf ein mit Backpapier ausgelegtes Blech legen und für etwa 30 Minuten im Kühlschrank fest werden lassen.\n",
    "\n",
    "3. **Burger braten:**\n",
    "   - Eine Pfanne bei mittlerer Hitze erhitzen und etwas Öl hinzufügen.\n",
    "   - Die Krabbenpatties vorsichtig in die Pfanne legen und von beiden Seiten goldbraun braten (ca. 3-4 Minuten pro Seite).\n",
    "\n",
    "4. **Burger zusammenstellen:**\n",
    "   - Die Burgerbrötchen leicht toasten.\n",
    "   - Auf jedes untere Brötchen ein Krabbenpatty legen.\n",
    "   - Nach Belieben mit Salatblättern, Tomatenscheiben, Essiggurken und Käse belegen.\n",
    "   - Die oberen Brötchenhälften mit Ketchup und Senf bestreichen.\n",
    "   - Die Burger zusammenbauen und servieren.\n",
    "\n",
    "5. **Genießen:**\n",
    "   - Sofort servieren und die Krabbenburger warm genießen, vielleicht mit einem Hauch von Meeresabenteuer-Flair à la SpongeBob Schwammkopf!\n",
    "\n",
    "**Tipp:**\n",
    "- Du kannst den Krabbenburger nach deinem Geschmack anpassen, indem du zusätzliche Beläge wie Rucola, Avocado oder Spezialsauce hinzufügst.\"\"\"\n",
    "\n",
    "in_datei_verschluesseln(geheimes_rezept, 13, \"files/geheimes_rezept.txt\")\n"
   ]
  },
  {
   "cell_type": "code",
   "execution_count": 24,
   "metadata": {},
   "outputs": [
    {
     "name": "stdout",
     "output_type": "stream",
     "text": [
      "\n",
      "**Ermrcg: Xenooraohetre à yn FcbatrObo Fpujnzzxbcs**\n",
      "\n",
      "*Süe 4 Xenooraohetre:*\n",
      "\n",
      "**Mhgngra:**\n",
      "\n",
      "- 500 t sevfpur Xenoora bqre Xenoorasyrvfpu (trxbpug haq trfpuäyg)\n",
      "- 1 Gnffr Cnavrezruy\n",
      "- 1 Rv\n",
      "- 1/4 Gnffr Znlbaanvfr\n",
      "- 1 Rffyössry Qvwba-Fras\n",
      "- 1 Rffyössry Jbeprfgrefnhpr\n",
      "- 1 Grryössry Mvgebarafnsg\n",
      "- Fnym haq Csrssre anpu Trfpuznpx\n",
      "- 4 Ohetreoeögpura\n",
      "- Fnyngoyäggre\n",
      "- Gbzngrafpurvora\n",
      "- Rffvtthexra va Fpurvora trfpuavggra\n",
      "- Xäfrfpurvora (anpu Jnuy)\n",
      "- Xrgpuhc haq Fras mhz Freivrera\n",
      "\n",
      "**Nayrvghat:**\n",
      "\n",
      "1. **Xenoorazvfpuhat ibeorervgra:**\n",
      "   - Qvr Xenoora va rvar tebßr Fpuüffry trora haq zvg rvare Tnory yrvpug mreqeüpxra, hz rvar tebor Grkghe mh reunygra.\n",
      "   - Cnavrezruy, Rv, Znlbaanvfr, Fras, Jbeprfgrefnhpr haq Mvgebarafnsg uvamhsütra.\n",
      "   - Thg irezratra haq zvg Fnym haq Csrssre nofpuzrpxra.\n",
      "\n",
      "2. **Ohetre sbezra:**\n",
      "   - Qvr Xenoorazvfpuhat va 4 Cbegvbara grvyra haq mh Cnggvrf sbezra.\n",
      "   - Qvr Cnggvrf nhs rva zvg Onpxcncvre nhftryrtgrf Oyrpu yrtra haq süe rgjn 30 Zvahgra vz Xüuyfpuenax srfg jreqra ynffra.\n",
      "\n",
      "3. **Ohetre oengra:**\n",
      "   - Rvar Csnaar orv zvggyrere Uvgmr reuvgmra haq rgjnf Öy uvamhsütra.\n",
      "   - Qvr Xenooracnggvrf ibefvpugvt va qvr Csnaar yrtra haq iba orvqra Frvgra tbyqoenha oengra (pn. 3-4 Zvahgra ceb Frvgr).\n",
      "\n",
      "4. **Ohetre mhfnzzrafgryyra:**\n",
      "   - Qvr Ohetreoeögpura yrvpug gbnfgra.\n",
      "   - Nhs wrqrf hagrer Oeögpura rva Xenooracnggl yrtra.\n",
      "   - Anpu Oryvrora zvg Fnyngoyäggrea, Gbzngrafpurvora, Rffvtthexra haq Xäfr oryrtra.\n",
      "   - Qvr borera Oeögpurauäysgra zvg Xrgpuhc haq Fras orfgervpura.\n",
      "   - Qvr Ohetre mhfnzzraonhra haq freivrera.\n",
      "\n",
      "5. **Travrßra:**\n",
      "   - Fbsbeg freivrera haq qvr Xenooraohetre jnez travrßra, ivryyrvpug zvg rvarz Unhpu iba Zrrerfnoragrhre-Synve à yn FcbatrObo Fpujnzzxbcs!\n",
      "\n",
      "**Gvcc:**\n",
      "- Qh xnaafg qra Xenooraohetre anpu qrvarz Trfpuznpx nacnffra, vaqrz qh mhfägmyvpur Oryätr jvr Ehpbyn, Nibpnqb bqre Fcrmvnyfnhpr uvamhsütfg.\n"
     ]
    }
   ],
   "source": [
    "with open(\"files/geheimes_rezept.txt\", \"r\") as f:\n",
    "    print(f.read())"
   ]
  },
  {
   "cell_type": "code",
   "execution_count": 25,
   "metadata": {},
   "outputs": [
    {
     "name": "stdout",
     "output_type": "stream",
     "text": [
      "\n",
      "**Rezept: Krabbenburger à la SpongeBob Schwammkopf**\n",
      "\n",
      "*Für 4 Krabbenburger:*\n",
      "\n",
      "**Zutaten:**\n",
      "\n",
      "- 500 g frische Krabben oder Krabbenfleisch (gekocht und geschält)\n",
      "- 1 Tasse Paniermehl\n",
      "- 1 Ei\n",
      "- 1/4 Tasse Mayonnaise\n",
      "- 1 Esslöffel Dijon-Senf\n",
      "- 1 Esslöffel Worcestersauce\n",
      "- 1 Teelöffel Zitronensaft\n",
      "- Salz und Pfeffer nach Geschmack\n",
      "- 4 Burgerbrötchen\n",
      "- Salatblätter\n",
      "- Tomatenscheiben\n",
      "- Essiggurken in Scheiben geschnitten\n",
      "- Käsescheiben (nach Wahl)\n",
      "- Ketchup und Senf zum Servieren\n",
      "\n",
      "**Anleitung:**\n",
      "\n",
      "1. **Krabbenmischung vorbereiten:**\n",
      "   - Die Krabben in eine große Schüssel geben und mit einer Gabel leicht zerdrücken, um eine grobe Textur zu erhalten.\n",
      "   - Paniermehl, Ei, Mayonnaise, Senf, Worcestersauce und Zitronensaft hinzufügen.\n",
      "   - Gut vermengen und mit Salz und Pfeffer abschmecken.\n",
      "\n",
      "2. **Burger formen:**\n",
      "   - Die Krabbenmischung in 4 Portionen teilen und zu Patties formen.\n",
      "   - Die Patties auf ein mit Backpapier ausgelegtes Blech legen und für etwa 30 Minuten im Kühlschrank fest werden lassen.\n",
      "\n",
      "3. **Burger braten:**\n",
      "   - Eine Pfanne bei mittlerer Hitze erhitzen und etwas Öl hinzufügen.\n",
      "   - Die Krabbenpatties vorsichtig in die Pfanne legen und von beiden Seiten goldbraun braten (ca. 3-4 Minuten pro Seite).\n",
      "\n",
      "4. **Burger zusammenstellen:**\n",
      "   - Die Burgerbrötchen leicht toasten.\n",
      "   - Auf jedes untere Brötchen ein Krabbenpatty legen.\n",
      "   - Nach Belieben mit Salatblättern, Tomatenscheiben, Essiggurken und Käse belegen.\n",
      "   - Die oberen Brötchenhälften mit Ketchup und Senf bestreichen.\n",
      "   - Die Burger zusammenbauen und servieren.\n",
      "\n",
      "5. **Genießen:**\n",
      "   - Sofort servieren und die Krabbenburger warm genießen, vielleicht mit einem Hauch von Meeresabenteuer-Flair à la SpongeBob Schwammkopf!\n",
      "\n",
      "**Tipp:**\n",
      "- Du kannst den Krabbenburger nach deinem Geschmack anpassen, indem du zusätzliche Beläge wie Rucola, Avocado oder Spezialsauce hinzufügst.\n"
     ]
    }
   ],
   "source": [
    "print(aus_datei_entschluesseln(\"files/geheimes_rezept.txt\"))"
   ]
  }
 ],
 "metadata": {
  "kernelspec": {
   "display_name": "base",
   "language": "python",
   "name": "python3"
  },
  "language_info": {
   "codemirror_mode": {
    "name": "ipython",
    "version": 3
   },
   "file_extension": ".py",
   "mimetype": "text/x-python",
   "name": "python",
   "nbconvert_exporter": "python",
   "pygments_lexer": "ipython3",
   "version": "3.10.9"
  }
 },
 "nbformat": 4,
 "nbformat_minor": 2
}
