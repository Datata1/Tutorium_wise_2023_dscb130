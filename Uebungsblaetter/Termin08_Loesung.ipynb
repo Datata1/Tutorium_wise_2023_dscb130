{
 "cells": [
  {
   "cell_type": "markdown",
   "metadata": {},
   "source": [
    "# PythonQuest: Loot Table Implementation\n",
    "\n",
    "In the mystical land of Pythonia, adventurers embark on a quest to unravel the secrets of the Pythonic MMORPG. Our brave coder, Pyra the Programmer, has been assigned a task to implement a loot table mechanism for the game. The loot table will determine the rarity of items dropped by defeated monsters."
   ]
  },
  {
   "cell_type": "code",
   "execution_count": null,
   "metadata": {},
   "outputs": [],
   "source": [
    "import random"
   ]
  },
  {
   "cell_type": "markdown",
   "metadata": {},
   "source": [
    "## Task 1: Basic Loot using Uniform Sampling\n",
    "Pyra starts with a simple task: randomly select an item from a list of available items. Create a function `uniform_sample_loot` that takes a list of items as an argument and returns a randomly chosen item."
   ]
  },
  {
   "cell_type": "code",
   "execution_count": null,
   "metadata": {},
   "outputs": [],
   "source": [
    "def uniform_sample_loot(loot_table):\n",
    "    return random.choice(loot_table)"
   ]
  },
  {
   "cell_type": "code",
   "execution_count": null,
   "metadata": {},
   "outputs": [],
   "source": [
    "loot_table = [\"sword\", \"shield\", \"coin\", \"health_potion\", \"mana_potion\", \"gem\"]\n",
    "\n",
    "sampled_item = uniform_sample_loot(loot_table)\n",
    "print(sampled_item)"
   ]
  },
  {
   "cell_type": "markdown",
   "metadata": {},
   "source": [
    "## Task 2: Rarity Levels\n",
    "\n",
    "As Pyra delves deeper into the realm of loot tables, she realizes that every item currently has the same chance of being chosen. To address the issue of uniform sampling, Pyra creates a function `rarity_sample_loot` that takes a list of items and their corresponding rarities. This way, adventurers will experience a more diverse range of loot drops based on the rarity assigned to each item."
   ]
  },
  {
   "cell_type": "markdown",
   "metadata": {},
   "source": [
    "*Explanation: Every item has the same chance of being chosen in the basic loot mechanism. To provide a more exciting and varied gameplay experience, Pyra introduces rarity levels. This allows for a more nuanced loot distribution, where common items are more likely to drop than rare or legendary ones.*"
   ]
  },
  {
   "cell_type": "code",
   "execution_count": null,
   "metadata": {},
   "outputs": [],
   "source": [
    "def rarity_to_weight(rarity):\n",
    "    rarity_weights = {'common': 4, 'uncommon': 3, 'rare': 2, 'legendary': 1}\n",
    "    return rarity_weights.get(rarity, 1)"
   ]
  },
  {
   "cell_type": "code",
   "execution_count": null,
   "metadata": {},
   "outputs": [],
   "source": [
    "def rarity_sample_loot(items, rarities):\n",
    "    weighted_items = []\n",
    "    for item, rarity in zip(items, rarities):\n",
    "        weighted_items.extend([item] * rarity_to_weight(rarity))\n",
    "    return random.choice(weighted_items)"
   ]
  },
  {
   "cell_type": "code",
   "execution_count": null,
   "metadata": {},
   "outputs": [],
   "source": [
    "items = [\"sword\", \"shield\",\"health_potion\", \"mana_potion\", \"gem\"]\n",
    "rarities = [\"common\", \"common\", \"uncommon\", \"rare\", \"legendary\"]\n",
    "\n",
    "print(rarity_sample_loot(items, rarities))"
   ]
  },
  {
   "cell_type": "markdown",
   "metadata": {},
   "source": [
    "## Task 3: Weighted Distributions\n",
    "\n",
    "In her continuous quest for improving the loot system, Pyra realizes that assigning simple rarity levels might not capture the complexity she envisions. To give finer control over the loot distribution, Pyra introduces the function `weighted_sample_loot`. This function takes a list of items and their corresponding weights. The weights assigned to each item represent the probability of that item being chosen from the loot table. Higher weights indicate a higher likelihood of selection. For example, if an item has a weight of 3, it is three times more likely to be chosen than an item with a weight of 1. This will allow her to tailor the loot drops with greater precision."
   ]
  },
  {
   "cell_type": "markdown",
   "metadata": {},
   "source": [
    "*Explanation: Pyra believes that assigning probability distributions to items provides a more nuanced and flexible approach to loot distribution. This way, she can finely tune the likelihood of each item being chosen, offering adventurers a more sophisticated and dynamic loot experience.*"
   ]
  },
  {
   "cell_type": "code",
   "execution_count": null,
   "metadata": {},
   "outputs": [],
   "source": [
    "def weighted_sample_loot(weighted_loot_table):\n",
    "    total_weight = sum(weighted_loot_table.values())\n",
    "    rand_val = random.uniform(0, total_weight)\n",
    "    current_weight = 0\n",
    "\n",
    "    for item, weight in weighted_loot_table.items():\n",
    "        current_weight += weight\n",
    "        if rand_val <= current_weight:\n",
    "            return item"
   ]
  },
  {
   "cell_type": "code",
   "execution_count": null,
   "metadata": {},
   "outputs": [],
   "source": [
    "weighted_loot_table = {'sword': 0.3, 'shield': 0.3, 'health_potion': 0.2, 'mana_potion': 0.15, 'gem': 0.05}\n",
    "\n",
    "print(weighted_sample_loot(weighted_loot_table))"
   ]
  },
  {
   "cell_type": "markdown",
   "metadata": {},
   "source": [
    "## Task 4: Dictionary Magic\n",
    "\n",
    "For the next challenge, Pyra wants the adventurers to create a loot dictionary from separate lists of items and their corresponding weights. Create a function `create_loot_dictionary` that takes two lists (items and weights) and returns a dictionary where item names are keys, and weights are values."
   ]
  },
  {
   "cell_type": "code",
   "execution_count": null,
   "metadata": {},
   "outputs": [],
   "source": [
    "# Using zip to combine items and weights into pairs that get converted into a dictionary\n",
    "def create_weighted_loot_dictionary(items: list, weights: list) -> dict: \n",
    "    return dict(zip(items, weights))"
   ]
  },
  {
   "cell_type": "code",
   "execution_count": null,
   "metadata": {},
   "outputs": [],
   "source": [
    "items = [\"sword\", \"shield\",\"health_potion\", \"mana_potion\", \"gem\"]\n",
    "weights = [10, 9, 6, 4, 1]\n",
    "\n",
    "loot_table = create_weighted_loot_dictionary(items, weights)"
   ]
  },
  {
   "cell_type": "markdown",
   "metadata": {},
   "source": [
    "### Task 5: Normalize Weights\n",
    "\n",
    "Pyra realizes that the weights in the loot dictionary should be normalized to ensure that the probabilities add up to 1. Create a function `normalize_weights` takes a list of weights and returns a new list where the weights are normalized. Normalization involves dividing each weight by the sum of all weights in the loot table."
   ]
  },
  {
   "cell_type": "code",
   "execution_count": null,
   "metadata": {},
   "outputs": [],
   "source": [
    "def normalize_weights(weights):\n",
    "    total_weight = sum(weights)\n",
    "    return [weight / total_weight for weight in weights]"
   ]
  },
  {
   "cell_type": "code",
   "execution_count": null,
   "metadata": {},
   "outputs": [],
   "source": [
    "weights = [10, 9, 6, 4, 1]\n",
    "normalized_weights = normalize_weights(weights)\n",
    "print(normalized_weights)"
   ]
  },
  {
   "cell_type": "markdown",
   "metadata": {},
   "source": [
    "### Task 6: Comparison\n",
    "\n",
    "Finally, Pyra wants the adventurers to compare the efficiency of the different loot mechanisms. Create a function `compare_loot_methods` that takes the number of trials as an argument and compares the outcomes of the different sampling methods."
   ]
  },
  {
   "cell_type": "code",
   "execution_count": null,
   "metadata": {},
   "outputs": [],
   "source": [
    "def compare_loot_methods(num_samples=10000):\n",
    "    items = [\"sword\", \"shield\",\"health_potion\", \"mana_potion\", \"gem\"]\n",
    "    rarities = [\"common\", \"common\", \"uncommon\", \"rare\", \"legendary\"]\n",
    "    weights = [0.3, 0.3, 0.2, 0.13, 0.03]\n",
    "\n",
    "    uniform_counts = {item: 0 for item in items}\n",
    "    rarity_counts = {item: 0 for item in items}\n",
    "    weighted_counts = {item: 0 for item in items}\n",
    "\n",
    "    for _ in range(num_samples):\n",
    "        uniform_sample = uniform_sample_loot(items)\n",
    "        rarity_sample = rarity_sample_loot(items, rarities)\n",
    "        weighted_sample = weighted_sample_loot(create_weighted_loot_dictionary(items, weights))\n",
    "\n",
    "        uniform_counts[uniform_sample] += 1\n",
    "        rarity_counts[rarity_sample] += 1\n",
    "        weighted_counts[weighted_sample] += 1\n",
    "    \n",
    "    print(\"Uniform Sampling:\")\n",
    "    print_counts(uniform_counts)\n",
    "\n",
    "    print(\"\\nRarity Sampling:\")\n",
    "    print_counts(rarity_counts)\n",
    "\n",
    "    print(\"\\nWeighted Sampling:\")\n",
    "    print_counts(weighted_counts)\n",
    "\n",
    "def print_counts(counts):\n",
    "    for item, count in counts.items():\n",
    "        print(f\"{item}: count={count}, frequency={count / sum(counts.values())}\")\n"
   ]
  },
  {
   "cell_type": "code",
   "execution_count": null,
   "metadata": {},
   "outputs": [],
   "source": [
    "trials = 100000\n",
    "\n",
    "compare_loot_methods(trials)"
   ]
  },
  {
   "cell_type": "markdown",
   "metadata": {},
   "source": [
    "### The End\n",
    "\n",
    "Congratulations, brave coder! You've successfully implemented a sophisticated loot table mechanism for the PythonQuest MMORPG, ensuring that the loot drops are not only exciting but also finely tuned based on rarity levels and probability distributions. May your code always run bug-free!"
   ]
  }
 ],
 "metadata": {
  "kernelspec": {
   "display_name": "base",
   "language": "python",
   "name": "python3"
  },
  "language_info": {
   "codemirror_mode": {
    "name": "ipython",
    "version": 3
   },
   "file_extension": ".py",
   "mimetype": "text/x-python",
   "name": "python",
   "nbconvert_exporter": "python",
   "pygments_lexer": "ipython3",
   "version": "3.11.4"
  }
 },
 "nbformat": 4,
 "nbformat_minor": 2
}
