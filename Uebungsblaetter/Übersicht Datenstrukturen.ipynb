{
 "cells": [
  {
   "cell_type": "markdown",
   "metadata": {
    "tags": []
   },
   "source": [
    "# Datenstrukturen\n"
   ]
  },
  {
   "cell_type": "markdown",
   "metadata": {
    "tags": []
   },
   "source": [
    "## Listen\n",
    "\n",
    "Listen sind geordnete, veränderbare Sammlungen von Elementen.\n",
    "\n",
    "Elemente können doppelt vorkommen und können von unterschiedlichem Typ sein.\n",
    "\n"
   ]
  },
  {
   "cell_type": "code",
   "execution_count": null,
   "metadata": {
    "tags": []
   },
   "outputs": [],
   "source": [
    "# erstellen einer Liste\n",
    "\n",
    "my_list = [1, 2, 3, \"vier\", \"fünf\"]\n",
    "\n",
    "# Zugriff auf Elemente einer Liste, analog zum String Slicing(siehe Notebook vom ersten Tutorium)\n",
    "\n",
    "print(my_list[0]) # Ausgabe: 1\n",
    "print(my_list[::-1]) # Ausgabe: [\"fünf\", \"vier\", 3, 2, 1]\n",
    "\n",
    "# Hinzufügen von Elementen zur Liste\n",
    "my_list.append(6)\n",
    "print(my_list)  # Ausgabe: [1, 2, 3, \"vier\", \"fünf\", 6]\n",
    "\n",
    "print(my_list.index('vier')) # Ausgabe: 3\n",
    "\n",
    "# Entfernen von Elementen aus der Liste\n",
    "my_list.remove(\"vier\")\n",
    "print(my_list)  # Ausgabe: [1, 2, 3, \"fünf\", 6]\n",
    "\n",
    "# Iteration durch eine Liste\n",
    "for element in my_list:\n",
    "    print(element)"
   ]
  },
  {
   "cell_type": "markdown",
   "metadata": {},
   "source": [
    "\n",
    "## Tuple\n",
    "\n",
    "Tuples sind geordnete, unveränderbare Sammlungen von Elementen.\n",
    "\n",
    "Elemente können doppelt vorkommen und können von unterschiedlichem Typ sein.\n"
   ]
  },
  {
   "cell_type": "code",
   "execution_count": null,
   "metadata": {},
   "outputs": [],
   "source": [
    "# Erstellen eines Tupels\n",
    "my_tuple = (1, 2, 3, \"vier\", \"fünf\")\n",
    "\n",
    "# Zugriff auf Elemente des Tupels\n",
    "print(my_tuple[0])  # Ausgabe: 1\n",
    "print(my_tuple[-1])  # Ausgabe: \"fünf\"\n",
    "\n",
    "# Versuch, Elemente des Tupels hinzuzufügen oder zu entfernen (wird eine Fehlermeldung ausgeben)\n",
    "my_tuple.append(6)\n",
    "my_tuple.remove(\"vier\")\n",
    "\n",
    "# Iteration durch ein Tupel\n",
    "for element in my_tuple:\n",
    "    print(element)"
   ]
  },
  {
   "cell_type": "markdown",
   "metadata": {},
   "source": [
    "## Sets\n",
    "\n",
    "Sets sind ungeordnete, veränderbare Sammlungen von Elementen.\n",
    "\n",
    "Elemente können nicht doppelt vorkommen und können von unterschiedlichem Typ sein.\n",
    "\n",
    "In Python werden Sets als Dictionaries, aber nur mit Keys interpretiert, daher kann man viele von den Dictionary-Operations auch an Sets anwenden, z.B. ```set.pop()```, ```set.clear()```\n",
    "\n",
    "Bei Sets kann man Mengenoperationen durchführen, damit meine ich Begriffe wie Schnittmenge, Vereinigung, usw. von 2 Sets.\n"
   ]
  },
  {
   "cell_type": "code",
   "execution_count": null,
   "metadata": {},
   "outputs": [],
   "source": [
    "# Erstellen eines Sets\n",
    "my_set = {1, 2, 3, \"vier\", \"fünf\"}\n",
    "my_set2 = {1,3,4,2}\n",
    "\n",
    "my_mega_set = my_set.union(my_set2) # 2 Sets vereinigen\n",
    "\n",
    "print(my_mega_set)\n",
    "\n",
    "print(my_set.difference(my_set2)) # Ausgabe: Der Unterschied von 2 Sets als neues Set\n",
    "\n",
    "\n",
    "# Hinzufügen von Elementen zum Set\n",
    "my_set.add(6)\n",
    "print(my_set)  # Ausgabe: {1, 2, 3, \"vier\", \"fünf\", 6}\n",
    "\n",
    "# Entfernen von Elementen aus dem Set\n",
    "my_set.remove(\"vier\")\n",
    "print(my_set)  # Ausgabe: {1, 2, 3, \"fünf\", 6}\n",
    "\n",
    "# Iteration durch ein Set\n",
    "for element in my_set:\n",
    "    print(element)"
   ]
  },
  {
   "cell_type": "code",
   "execution_count": null,
   "metadata": {},
   "outputs": [],
   "source": [
    "# Zugriff auf Elemente des Sets (nicht möglich, da das Set ungeordnet ist)\n",
    "print(my_set[0]) # wirft Error!"
   ]
  },
  {
   "cell_type": "markdown",
   "metadata": {},
   "source": [
    "## Dictionaries\n",
    "\n",
    "Dictionaries sind geordnete, veränderbare Sammlungen von Schlüssel-Wert-Paaren.\n",
    "\n",
    "Schlüssel müssen eindeutig sein und können von unterschiedlichem Typ sein.\n",
    "\n",
    "Werte können doppelt vorkommen und können von unterschiedlichem Typ sein.\n"
   ]
  },
  {
   "cell_type": "code",
   "execution_count": null,
   "metadata": {},
   "outputs": [],
   "source": [
    "# Erstellen eines Dictionaries\n",
    "my_dict = {\"Name\": \"Max\", \"Alter\": 30, \"Wohnort\": \"Berlin\"}\n",
    "\n",
    "my_dict.update({'Wohnort':'Eggenstein'})\n",
    "my_dict.update({'Hochschule':'HKA'}) # einfügen von Key-Value Paar\n",
    "\n",
    "my_dict.pop('Wohnort') # löschen eines Key-Value Paares, anhand von Key\n",
    "\n",
    "# Zugriff auf Werte im Dictionary\n",
    "print(my_dict[\"Name\"])  # Ausgabe: Max\n",
    "\n",
    "print(my_dict.items()) # Ausgabe: Eine Liste von Tupeln, wobei jedes Tupel ein Key-Value Paar ist\n",
    "\n",
    "print(my_dict.get('Name')) # Ausgabe: Gibt den Wert zu dem in der get methode aufgerufenen Key zurück\n",
    "\n",
    "print(my_dict.keys()) # Ausgabe: Liste mit allen Keys \n",
    "\n",
    "print(my_dict.values()) # Ausgabe: Liste mit allen Values\n"
   ]
  }
 ],
 "metadata": {
  "kernelspec": {
   "display_name": "Python 3 (ipykernel)",
   "language": "python",
   "name": "python3"
  },
  "language_info": {
   "codemirror_mode": {
    "name": "ipython",
    "version": 3
   },
   "file_extension": ".py",
   "mimetype": "text/x-python",
   "name": "python",
   "nbconvert_exporter": "python",
   "pygments_lexer": "ipython3",
   "version": "3.11.5"
  }
 },
 "nbformat": 4,
 "nbformat_minor": 4
}
