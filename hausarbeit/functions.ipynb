{
 "cells": [
  {
   "cell_type": "code",
   "execution_count": 1,
   "id": "de05a5be-0002-4238-898b-e42751158803",
   "metadata": {},
   "outputs": [],
   "source": [
    "# 2 Punkt\n",
    "def add_password(username: str, password: str, encryption_method: str = \"caesar\") -> None:\n",
    "    \"\"\"\n",
    "    Fügt ein verschlüsseltes Passwort zu einer Datei (z.B. .csv, .json, .txt, .xml, etc.) hinzu, basierend auf der angegebenen Verschlüsselungsmethode.\n",
    "\n",
    "    Parameter:\n",
    "    - username (str): Der Benutzername.\n",
    "    - password (str): Das unverschlüsselte Passwort.\n",
    "    - encryption_method (str): Die zu verwendende Verschlüsselungsmethode (Standard: \"caesar\").\n",
    "\n",
    "    Rückgabe:\n",
    "    None\n",
    "\n",
    "    Tipp:\n",
    "    - add_password soll in der Lage sein die encryption_method als argument zu nehmen. Das bedeutet je nach encryption_method soll auch die richtige Verschlüsselungsfunktion genutzt werden \n",
    "      die in Verschluesselung.ipynb definiert werden.\n",
    "    - jede verschlüsselungsmethode soll eine eigene Datei enthalten, oder wenn ihr euch entscheidet eine Datei zu verwenden, muss jeder Passworteintrag außerdem information über die encryption_method \n",
    "      beinhalten\n",
    "    \"\"\"\n",
    "    # todo\n",
    "    pass\n",
    "    "
   ]
  },
  {
   "cell_type": "code",
   "execution_count": 13,
   "id": "52e12bf1-4337-4b92-9062-4ad3b31f6b4a",
   "metadata": {},
   "outputs": [],
   "source": [
    "# 2 Punkt\n",
    "def display_passwords(decryption_method: str = None) -> None:\n",
    "    \"\"\"\n",
    "    Zeigt die entschlüsselten Passwörter aus einer Datei basierend auf der angegebenen Entschlüsselungsmethode im Terminal an.\n",
    "\n",
    "    Parameter:\n",
    "    - decryption_method (str): Die zu verwendende Entschlüsselungsmethode (Standard: None).\n",
    "\n",
    "    Rückgabe:\n",
    "    None\n",
    "    \"\"\"\n",
    "    # todo\n",
    "    pass"
   ]
  },
  {
   "cell_type": "code",
   "execution_count": 14,
   "id": "794e6940-3e59-4828-af22-e356877028ed",
   "metadata": {},
   "outputs": [],
   "source": [
    "# 1 Punkt\n",
    "def decrypt_password(encrypted_password: str, decryption_method: str, key: str) -> str:\n",
    "    \"\"\"\n",
    "    Entschlüsselt ein verschlüsseltes Passwort basierend auf der angegebenen Entschlüsselungsmethode und dem Schlüssel.\n",
    "\n",
    "    Parameter:\n",
    "    - encrypted_password (str): Das verschlüsselte Passwort.\n",
    "    - decryption_method (str): Die zu verwendende Entschlüsselungsmethode.\n",
    "    - key (str): Der Schlüssel oder die Schlüsselinformationen, die für die Entschlüsselung verwendet werden.\n",
    "\n",
    "    Rückgabe:\n",
    "    str: Das entschlüsselte Passwort.\n",
    "\n",
    "    Tipp:\n",
    "    - Bei der Substitution haben wir ein Dictionary als Key, den wir aber als String in die Funktion als Argument übergeben. Wie können wir diesen String in ein Dictionary konvertieren?\n",
    "    \"\"\"\n",
    "    #t odo\n",
    "    pass\n"
   ]
  },
  {
   "cell_type": "code",
   "execution_count": 7,
   "id": "cc593761-f66b-4f54-9a76-247066af0be7",
   "metadata": {},
   "outputs": [],
   "source": [
    "# 1 Punkte\n",
    "def find_password(username: str, encryption_method: str = \"caesar\") -> str:\n",
    "    \"\"\"\n",
    "    Sucht nach einem verschlüsselten Passwort basierend auf dem Benutzernamen, der Plattform und der Verschlüsselungsmethode in einer Datei.\n",
    "\n",
    "    Parameter:\n",
    "    - username (str): Der Benutzername.\n",
    "    - encryption_method (str): Die zu verwendende Verschlüsselungsmethode (Standard: \"caesar\").\n",
    "\n",
    "    Rückgabe:\n",
    "    str: Die gefundenen Informationen zum Passwort oder eine Benachrichtigung, dass kein Passwort gefunden wurde.\n",
    "    \"\"\"\n",
    "    # todo\n",
    "    pass"
   ]
  }
 ],
 "metadata": {
  "kernelspec": {
   "display_name": "Python 3 (ipykernel)",
   "language": "python",
   "name": "python3"
  },
  "language_info": {
   "codemirror_mode": {
    "name": "ipython",
    "version": 3
   },
   "file_extension": ".py",
   "mimetype": "text/x-python",
   "name": "python",
   "nbconvert_exporter": "python",
   "pygments_lexer": "ipython3",
   "version": "3.11.5"
  }
 },
 "nbformat": 4,
 "nbformat_minor": 5
}
