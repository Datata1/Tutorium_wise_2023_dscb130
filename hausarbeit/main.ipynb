{
 "cells": [
  {
   "cell_type": "code",
   "execution_count": 13,
   "id": "ec152fd6-a229-4582-acaf-c3c5e54d7a7a",
   "metadata": {},
   "outputs": [],
   "source": [
    "%run Verschluesselung.ipynb\n",
    "# führt jede Zelle aus Verschluesselung.ipynb hier aus"
   ]
  },
  {
   "cell_type": "code",
   "execution_count": 2,
   "id": "16179f19-ff07-43bf-ab24-02986c59ce81",
   "metadata": {},
   "outputs": [],
   "source": [
    "%run functions.ipynb\n",
    "# führt jede Zelle aus functions.ipynb hier aus"
   ]
  },
  {
   "cell_type": "code",
   "execution_count": 15,
   "id": "5f943177-e1db-4373-acbd-aaacfaed8674",
   "metadata": {},
   "outputs": [],
   "source": [
    "import json\n",
    "import random\n",
    "import string\n",
    "import csv\n",
    "import os\n",
    "\n",
    "# Falls ihr weitere libraries einbinden müsst, könnt ihr das in dieser Zelle tun. Achtet darauf nur Standard libraries von Python zu verwenden"
   ]
  },
  {
   "cell_type": "code",
   "execution_count": 1,
   "id": "7c74a358-08bb-45e3-a7aa-51ca2c4d1d50",
   "metadata": {},
   "outputs": [],
   "source": [
    "# 2 Punkt\n",
    "def main():\n",
    "    \"\"\"\n",
    "    Diese Funktion soll den Passwort-Manager im Terminal darstellen. Alle benötigten Funktionen werden von functions.ipynb und Verschluesselung.ipynb importiert. \n",
    "    Es soll 4 Auswahl Möglichkeiten zur Verfügung stehen um mit dem Passwortmanager zu interagieren:\n",
    "    \n",
    "        - Passwort hinzufügen (add_password)\n",
    "            ->  Hier wird ein Passwort erstellt. Es wird ein Benutzername, die Plattform und das zu verschlüsselnde Passwort zusätzlich angegeben. Man soll den Encryption-Modus wählen können.\n",
    "        - Passwörter anzeigen (display_passowrds)\n",
    "            ->  Hier werden die Passwörter angezeigt je nach Encryption mode. Die Passwörter sollen dabei Entschlüsselt werden, sodass die Passwörter in Klartext auf dem Terminal erscheinen.\n",
    "        - Passwort suchen (find_password)\n",
    "            ->  Dieser Modus soll das Passwort für eine bestimmte Plattform suchen. \n",
    "                Da die Passwörter in verschiedenen Dateien je nach Verschlüsselungsmethode abgespeichert sind muss hier auch die Verschlüsselungsmethode angegeben werden\n",
    "        - Beenden\n",
    "            ->  Dieser Modus soll das Programm beenden um eine Endlosschleife zu verhindern.\n",
    "    \"\"\"\n",
    "    # todo\n",
    "    pass\n",
    "\n",
    "\n",
    "if __name__ == \"__main__\":\n",
    "    main()"
   ]
  }
 ],
 "metadata": {
  "kernelspec": {
   "display_name": "Python 3 (ipykernel)",
   "language": "python",
   "name": "python3"
  },
  "language_info": {
   "codemirror_mode": {
    "name": "ipython",
    "version": 3
   },
   "file_extension": ".py",
   "mimetype": "text/x-python",
   "name": "python",
   "nbconvert_exporter": "python",
   "pygments_lexer": "ipython3",
   "version": "3.11.5"
  }
 },
 "nbformat": 4,
 "nbformat_minor": 5
}
